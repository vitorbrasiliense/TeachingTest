{
 "cells": [
  {
   "cell_type": "markdown",
   "metadata": {
    "extensions": {
     "jupyter_dashboards": {
      "version": 1,
      "views": {
       "grid_default": {},
       "report_default": {}
      }
     }
    }
   },
   "source": [
    " # This is an Exemple on how Can Programming help Teaching in Chemistry\n",
    "\n",
    "Through this exemple, I shall show how the teaching of kinetics can be improved using interactive schemes and simulations. \n"
   ]
  },
  {
   "cell_type": "code",
   "execution_count": 7,
   "metadata": {
    "extensions": {
     "jupyter_dashboards": {
      "version": 1,
      "views": {
       "grid_default": {},
       "report_default": {}
      }
     }
    }
   },
   "outputs": [],
   "source": [
    "from __future__ import print_function\n",
    "from ipywidgets import interact, interactive, fixed, interact_manual\n",
    "import ipywidgets as widgets\n",
    "import matplotlib.pyplot as plt\n",
    "import time\n",
    "import numpy as np"
   ]
  },
  {
   "cell_type": "markdown",
   "metadata": {
    "extensions": {
     "jupyter_dashboards": {
      "version": 1,
      "views": {
       "grid_default": {},
       "report_default": {}
      }
     }
    }
   },
   "source": [
    "## First Order Kinetics: A$\\rightarrow$ B\n",
    "Lets start by seeing the time evolution of a simple $1^{st}$ order reaction such as A $\\rightarrow$ B. Lets assume it as a first order, which means that the rate of reaction is proportional to the amount of reactant. In other words:  \n",
    " $$\\frac{dB}{dt} = k_1A$$ \n",
    " Due to mass concervation (A turns into B) the rate of generation of A is equal to the rate of consumption of B, meaning: \n",
    " $$\\frac{dA}{dt} = -\\frac{dB}{dt} = -k_1A$$ \n",
    " The following cells evaluate the evolution of the concentration of A with respect to time. The first cell is used to define the numerical method to solve the equation (you can ignore it at first, but execute it!)\n"
   ]
  },
  {
   "cell_type": "code",
   "execution_count": 8,
   "metadata": {
    "extensions": {
     "jupyter_dashboards": {
      "version": 1,
      "views": {
       "grid_default": {},
       "report_default": {}
      }
     }
    }
   },
   "outputs": [],
   "source": [
    "NT = 100;\n",
    "T = 2;\n",
    "dt = T/NT;\n",
    "\n",
    "def FirstOrder_RKtev1(A0,B0,dt,k_1): #Defines R-K time evolution step.\n",
    "    h1 = k_1*(A0);\n",
    "    h2 = k_1*(A0+dt*h1/2);\n",
    "    h3 = k_1*(A0+dt*h2/2);\n",
    "    h4 = k_1*(A0+dt*h3);\n",
    "    A1 = A0 +dt/6*(h1+2*h2+2*h3+h4);\n",
    "    B1 = B0 -dt/6*(h1+2*h2+2*h3+h4);\n",
    "    return A1,B1;\n",
    "\n",
    "def fsimple(A0,B0,k_1):\n",
    "    for ki in range(0,NT):\n",
    "        A1,B1 = FirstOrder_RKtev1(A0,B0,dt,-k_1);\n",
    "        plt.plot(ki*dt,A0,'ro');\n",
    "        plt.plot(ki*dt,B0,'bo');\n",
    "        A0 = A1\n",
    "        B0 = B1;\n",
    "    plt.xlabel('time(s)');\n",
    "    plt.ylabel('Concentration (mol/L)');\n",
    "    plt.legend(['A','B']);\n",
    "    return \n",
    "\n",
    "def fanalytical(A0,B0,k_1):\n",
    "    t = np.arange(NT)*dt;\n",
    "    A = A0*np.exp(-k_1*t);\n",
    "    B = (A0+B0)-A;\n",
    "    plt.plot(t,A,'r');\n",
    "    plt.plot(t,B,'b')\n",
    "    plt.xlabel('time(s)');\n",
    "    plt.ylabel('Concentration (mol/L)');\n",
    "    plt.legend(['A','B']);"
   ]
  },
  {
   "cell_type": "code",
   "execution_count": 9,
   "metadata": {
    "extensions": {
     "jupyter_dashboards": {
      "version": 1,
      "views": {
       "grid_default": {},
       "report_default": {}
      }
     }
    }
   },
   "outputs": [
    {
     "data": {
      "application/vnd.jupyter.widget-view+json": {
       "model_id": "9aecc1705d8f406ab81d89a436360884",
       "version_major": 2,
       "version_minor": 0
      },
      "text/plain": [
       "interactive(children=(IntSlider(value=5, description='A0', max=10), IntSlider(value=5, description='B0', max=1…"
      ]
     },
     "metadata": {},
     "output_type": "display_data"
    }
   ],
   "source": [
    "interact_manual(fsimple,A0=(0,10),B0=(0,10),k_1=(0.0,10.0));"
   ]
  },
  {
   "cell_type": "markdown",
   "metadata": {
    "extensions": {
     "jupyter_dashboards": {
      "version": 1,
      "views": {
       "grid_default": {},
       "report_default": {}
      }
     }
    }
   },
   "source": [
    "Exercises:\n",
    "\n",
    "$\\bullet$ Play with the initial concentrations of A and B (parameters A0 and B0). If more B is present at the beginning, $B0 \\neq 0 $ what is the effect on the final concentrations? \n",
    "\n",
    "$\\bullet$ Change the kinetic rate (k_1) to 0.1 s$^{-1}$. Within the timescale of the plot above (5s) , do you think the reaction is over? Why? \n",
    "\n",
    "$\\bullet$ Now, solve the equations analytically and plot it in the graph (replacing the last line of the code by your solution)."
   ]
  },
  {
   "cell_type": "markdown",
   "metadata": {
    "extensions": {
     "jupyter_dashboards": {
      "version": 1,
      "views": {
       "grid_default": {},
       "report_default": {}
      }
     }
    }
   },
   "source": [
    "# First Order Kinetics, a reversible reaction: A$\\rightleftharpoons$ B\n",
    "Now lets add the reverse reaction. B$\\rightarrow$A. The easier way of looking at this reaction is by writing it as its elemental steps:\n",
    "$$A\\xrightarrow{k_1}B $$ \n",
    "$$B\\xrightarrow{k_{-1}}A$$\n",
    "\n",
    "Now, lets write the rate of consumption of A. \n",
    "$$\\frac{dA}{dt}= \\underbrace{-k_1A}_{\\text{from the first equation}} + \\underbrace{k_{-1}B}_{\\text{from the second equation}}$$\n",
    "\n",
    "In order to solve this equation, we must now express B in terms of A. The mass concervation law states will be helpful: \n",
    "\n",
    "$\\frac{d\\text{(total number of molecules)}}{dt} = 0$\n",
    "\n",
    "Or, equivalently: \n",
    "\n",
    "$\\frac{d(A+B)}{dt}= 0 \\Rightarrow \\frac{dA}{dt}+ \\frac{dB}{dt}= 0 \\Rightarrow \\frac{dA}{dt} = -\\frac{dB}{dt}$\n"
   ]
  },
  {
   "cell_type": "code",
   "execution_count": 10,
   "metadata": {
    "extensions": {
     "jupyter_dashboards": {
      "version": 1,
      "views": {
       "grid_default": {},
       "report_default": {}
      }
     }
    }
   },
   "outputs": [],
   "source": [
    "def FirstOrder_RKtev2(C0,dt,k): #Defines R-K time evolution step.\n",
    "    h1 = np.dot(C0,k); #print(h1);\n",
    "    h2 = np.dot(C0+dt*h1/2,k);\n",
    "    h3 = np.dot(C0+dt*h2/2,k);\n",
    "    h4 = np.dot(C0+dt*h3,k); #print(h4);\n",
    "    A1,B1 = C0 + dt/6*(h1+2*h2+2*h3+h4);\n",
    "    return A1,B1;\n",
    "\n",
    "def frev(A0,B0,k_1,km1):\n",
    "    C0 =np.array([A0,B0]);\n",
    "    k = np.array([[-k_1,k_1],[km1, -km1]]);\n",
    "    for ki in range(0,NT):\n",
    "        A1,B1 = FirstOrder_RKtev2(C0,dt,k);\n",
    "        plt.plot(ki*dt,A0,'ro');\n",
    "        plt.plot(ki*dt,B0,'bo');\n",
    "        A0 = A1\n",
    "        B0 = B1;\n",
    "        C0 =np.array([A0,B0]);\n",
    "    plt.xlabel('time(s)');\n",
    "    plt.ylabel('Concentration (mol/L)');\n",
    "    plt.legend(['A','B']);\n",
    "\n",
    "NT = 200;\n",
    "T = 5;\n",
    "dt = T/NT;\n",
    "\n"
   ]
  },
  {
   "cell_type": "code",
   "execution_count": 11,
   "metadata": {
    "extensions": {
     "jupyter_dashboards": {
      "version": 1,
      "views": {
       "grid_default": {},
       "report_default": {}
      }
     }
    },
    "scrolled": true
   },
   "outputs": [
    {
     "data": {
      "application/vnd.jupyter.widget-view+json": {
       "model_id": "39fe3f8968bc478896ca16f66e997b5b",
       "version_major": 2,
       "version_minor": 0
      },
      "text/plain": [
       "interactive(children=(IntSlider(value=5, description='A0', max=10), IntSlider(value=5, description='B0', max=1…"
      ]
     },
     "metadata": {},
     "output_type": "display_data"
    }
   ],
   "source": [
    "interact_manual(frev,A0=(0,10),B0=(0,10),k_1=(0.0,10.0),km1 = (0.0,10.0));"
   ]
  },
  {
   "cell_type": "markdown",
   "metadata": {
    "extensions": {
     "jupyter_dashboards": {
      "version": 1,
      "views": {
       "grid_default": {},
       "report_default": {}
      }
     }
    }
   },
   "source": [
    "Exercises: \n",
    "\n",
    "$\\bullet$ Keep $k_1$ constant and vary the value of $k_{-1}$. What do you observe?\n",
    "\n",
    "$\\bullet$ Set $k_1 = k_{-1} = 1$, then $k_1 = k_{-1} = 10$. Can you explain such change in the graph?\n",
    "\n",
    "$\\bullet$ Set $k_1 = k_{-1} = 3$. When is it reasonable to assume the system has reached a stationnary state?\n",
    "\n",
    "$\\bullet$ Solve the equations analytically and plot it replacing the last line of the code. \n",
    "\n",
    "$\\bullet$ Can you predict the stationary state concentration ratio directly from the reactions constants ($k_1$ and $k_{-1}$)?\n"
   ]
  },
  {
   "cell_type": "markdown",
   "metadata": {
    "extensions": {
     "jupyter_dashboards": {
      "version": 1,
      "views": {
       "grid_default": {},
       "report_default": {}
      }
     }
    }
   },
   "source": [
    "# Multistep Reactions\n",
    "\n",
    "Now, lets analyze the following mechanism:\n",
    "$$A\\rightleftharpoons B$$\n",
    "$$B\\rightarrow C $$\n",
    "$$C \\rightleftharpoons D $$ \n",
    "\n",
    "Again, this is easier written as a sequence of elementary steps:\n",
    "\n",
    "\\begin{align}\n",
    "A & \\xrightarrow{k_1} B\\\\\n",
    "B & \\xrightarrow{k_{-1}} A \\\\\n",
    "B & \\xrightarrow{k_2} C\\\\\n",
    "C & \\xrightarrow{k_{3}}D\\\\\n",
    "D & \\xrightarrow{k_{-3}} C\n",
    "\\end{align}\n",
    "\n",
    "\n",
    "\n",
    "\n",
    "\n"
   ]
  },
  {
   "cell_type": "code",
   "execution_count": 14,
   "metadata": {
    "extensions": {
     "jupyter_dashboards": {
      "version": 1,
      "views": {
       "grid_default": {},
       "report_default": {}
      }
     }
    }
   },
   "outputs": [],
   "source": [
    "NT = 200;\n",
    "T = 10;\n",
    "dt = T/NT;\n",
    "\n",
    "def FirstOrder_RKtev3(C0,dt,k): #Defines R-K time evolution step.\n",
    "    h1 = np.dot(C0.T,k); #print(h1);\n",
    "    h2 = np.dot(C0+dt*h1/2,k);\n",
    "    h3 = np.dot(C0+dt*h2/2,k);\n",
    "    h4 = np.dot(C0+dt*h3,k); #print(h4);\n",
    "    C1 = C0 + dt/6*(h1+2*h2+2*h3+h4);\n",
    "    return C1;\n",
    "\n",
    "def fmultstep(A0,B0,C0,D0,k_1,km1,k_2,k_3,km3):\n",
    "    Cond0 = np.array([A0,B0,C0,D0]);\n",
    "    k = np.array([[-k_1,km1,0,0],[k_1,-km1-k_2,0,0],[0,k_2,-k_3,km3],[0,0,k_3,-km3]]);\n",
    "    for ki in range(0,NT):\n",
    "        Cond = FirstOrder_RKtev3(Cond0,dt,k.T);\n",
    "        plt.plot(ki*dt,Cond[0],'ro');\n",
    "        plt.plot(ki*dt,Cond[1],'bo');\n",
    "        plt.plot(ki*dt,Cond[2],'go');\n",
    "        plt.plot(ki*dt,Cond[3],'ko');\n",
    "        Cond0 = Cond\n",
    "    plt.xlabel('time(s)');\n",
    "    plt.ylabel('Concentration (mol/L)');\n",
    "    plt.legend(['A','B','C','D']);\n",
    "    return;"
   ]
  },
  {
   "cell_type": "code",
   "execution_count": 15,
   "metadata": {
    "extensions": {
     "jupyter_dashboards": {
      "version": 1,
      "views": {
       "grid_default": {},
       "report_default": {}
      }
     }
    }
   },
   "outputs": [
    {
     "data": {
      "application/vnd.jupyter.widget-view+json": {
       "model_id": "cedfb423d0a3428896365b9022fe8878",
       "version_major": 2,
       "version_minor": 0
      },
      "text/plain": [
       "interactive(children=(FloatSlider(value=1.0, description='A0', max=2.0), FloatSlider(value=1.0, description='B…"
      ]
     },
     "metadata": {},
     "output_type": "display_data"
    }
   ],
   "source": [
    "interact_manual(fmultstep,A0=(0,2.),B0 = (0,2.),C0 =(0,2.),D0 =(0,2.),k_1=(0,10.),km1 = (0,10.),k_2=(0,10.),k_3=(0,10.),km3 = (0,10.));"
   ]
  },
  {
   "cell_type": "code",
   "execution_count": null,
   "metadata": {
    "extensions": {
     "jupyter_dashboards": {
      "version": 1,
      "views": {
       "grid_default": {},
       "report_default": {}
      }
     }
    }
   },
   "outputs": [],
   "source": []
  },
  {
   "cell_type": "code",
   "execution_count": null,
   "metadata": {
    "extensions": {
     "jupyter_dashboards": {
      "version": 1,
      "views": {
       "grid_default": {},
       "report_default": {}
      }
     }
    }
   },
   "outputs": [],
   "source": []
  },
  {
   "cell_type": "code",
   "execution_count": null,
   "metadata": {
    "extensions": {
     "jupyter_dashboards": {
      "version": 1,
      "views": {
       "grid_default": {},
       "report_default": {}
      }
     }
    }
   },
   "outputs": [],
   "source": []
  }
 ],
 "metadata": {
  "extensions": {
   "jupyter_dashboards": {
    "activeView": "grid_default",
    "version": 1,
    "views": {
     "grid_default": {
      "cellMargin": 10,
      "defaultCellHeight": 20,
      "maxColumns": 12,
      "name": "grid",
      "type": "grid"
     },
     "report_default": {
      "name": "report",
      "type": "report"
     }
    }
   }
  },
  "kernelspec": {
   "display_name": "Python 3",
   "language": "python",
   "name": "python3"
  },
  "language_info": {
   "codemirror_mode": {
    "name": "ipython",
    "version": 3
   },
   "file_extension": ".py",
   "mimetype": "text/x-python",
   "name": "python",
   "nbconvert_exporter": "python",
   "pygments_lexer": "ipython3",
   "version": "3.6.6"
  },
  "widgets": {
   "application/vnd.jupyter.widget-state+json": {
    "state": {
     "001e51b38087474bb92a51684423d344": {
      "model_module": "@jupyter-widgets/controls",
      "model_module_version": "1.4.0",
      "model_name": "SliderStyleModel",
      "state": {
       "description_width": ""
      }
     },
     "0041b727ebd9441bb7ea14017b7d4e08": {
      "model_module": "@jupyter-widgets/controls",
      "model_module_version": "1.4.0",
      "model_name": "VBoxModel",
      "state": {
       "_dom_classes": [
        "widget-interact"
       ],
       "children": [
        "IPY_MODEL_1dfc3e4cf10a4a228ba53d826396c7bb",
        "IPY_MODEL_b7cdc6206e8c48d980994d6e5d76513f",
        "IPY_MODEL_4028e27f89034e398769461cc86ff7f9",
        "IPY_MODEL_41c5732174154c9e84110be0fffe72b5",
        "IPY_MODEL_0500360feac94b2da92dad960ae9502f",
        "IPY_MODEL_92e5967c5e9d4cefa23e830b5f5eb47a"
       ],
       "layout": "IPY_MODEL_3fdfb63c1c964c7687cfa70ad994994f"
      }
     },
     "01f2c212daa54c9fb8694fb3fb8f9a8c": {
      "model_module": "@jupyter-widgets/controls",
      "model_module_version": "1.4.0",
      "model_name": "IntSliderModel",
      "state": {
       "description": "A0",
       "layout": "IPY_MODEL_80bdb8b9aee24bc39683fe6473af7328",
       "max": 10,
       "style": "IPY_MODEL_e4e0049a48f34b57810f991c67c77d58",
       "value": 2
      }
     },
     "02261f56fd63482ca2d0cc9ace3fe7e7": {
      "model_module": "@jupyter-widgets/base",
      "model_module_version": "1.1.0",
      "model_name": "LayoutModel",
      "state": {}
     },
     "023aad128ee5499e98b38f9ac280db69": {
      "model_module": "@jupyter-widgets/base",
      "model_module_version": "1.1.0",
      "model_name": "LayoutModel",
      "state": {}
     },
     "025623cf733a4db0bb3aa55e0e8aaa0a": {
      "model_module": "@jupyter-widgets/base",
      "model_module_version": "1.1.0",
      "model_name": "LayoutModel",
      "state": {}
     },
     "04ff9e2673ad48598f0e8e636c6401b0": {
      "model_module": "@jupyter-widgets/base",
      "model_module_version": "1.1.0",
      "model_name": "LayoutModel",
      "state": {}
     },
     "0500360feac94b2da92dad960ae9502f": {
      "model_module": "@jupyter-widgets/controls",
      "model_module_version": "1.4.0",
      "model_name": "ButtonModel",
      "state": {
       "description": "Run Interact",
       "layout": "IPY_MODEL_c02f7fc902de4c34a04cc2fcbe3ba75f",
       "style": "IPY_MODEL_66360bc077154f82a5d9630f9f320457"
      }
     },
     "05e94202c62a4876961d946647d57d40": {
      "model_module": "@jupyter-widgets/controls",
      "model_module_version": "1.4.0",
      "model_name": "SliderStyleModel",
      "state": {
       "description_width": ""
      }
     },
     "067efed9b63e41c088273a81a3da7010": {
      "model_module": "@jupyter-widgets/base",
      "model_module_version": "1.1.0",
      "model_name": "LayoutModel",
      "state": {}
     },
     "06f6ea892a4243b0bf5e4b753eb0fa63": {
      "model_module": "@jupyter-widgets/base",
      "model_module_version": "1.1.0",
      "model_name": "LayoutModel",
      "state": {}
     },
     "07467813239e477b846e555ff3d1fa8a": {
      "model_module": "@jupyter-widgets/output",
      "model_module_version": "1.0.0",
      "model_name": "OutputModel",
      "state": {
       "layout": "IPY_MODEL_d36c0d8fc0654191813ffb0c166c4017",
       "outputs": [
        {
         "data": {
          "image/png": "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\n",
          "text/plain": "<matplotlib.figure.Figure at 0x1942d52c828>"
         },
         "metadata": {
          "needs_background": "light"
         },
         "output_type": "display_data"
        }
       ]
      }
     },
     "0788bbb9a6e84c0daf5d41a80c8f5467": {
      "model_module": "@jupyter-widgets/controls",
      "model_module_version": "1.4.0",
      "model_name": "SliderStyleModel",
      "state": {
       "description_width": ""
      }
     },
     "0808f90e28824e679f31b91599057b88": {
      "model_module": "@jupyter-widgets/base",
      "model_module_version": "1.1.0",
      "model_name": "LayoutModel",
      "state": {}
     },
     "08436b3702314dccb1dad4ba316c3dd0": {
      "model_module": "@jupyter-widgets/base",
      "model_module_version": "1.1.0",
      "model_name": "LayoutModel",
      "state": {}
     },
     "084d6166f87e4c9c8d3f4c0bf600dbc6": {
      "model_module": "@jupyter-widgets/controls",
      "model_module_version": "1.4.0",
      "model_name": "SliderStyleModel",
      "state": {
       "description_width": ""
      }
     },
     "08e9a10f37ac46f0bb889090924ed73a": {
      "model_module": "@jupyter-widgets/base",
      "model_module_version": "1.1.0",
      "model_name": "LayoutModel",
      "state": {}
     },
     "0a4d445ca6dd4f2a989312b68c45484f": {
      "model_module": "@jupyter-widgets/controls",
      "model_module_version": "1.4.0",
      "model_name": "SliderStyleModel",
      "state": {
       "description_width": ""
      }
     },
     "0c8d20a8b53b492fb8a3ef08e5c1a91f": {
      "model_module": "@jupyter-widgets/controls",
      "model_module_version": "1.4.0",
      "model_name": "VBoxModel",
      "state": {
       "_dom_classes": [
        "widget-interact"
       ],
       "children": [
        "IPY_MODEL_7f588c9df4bb4ad284d308fe9a17a445",
        "IPY_MODEL_5da2346e742e4b33bbd5d3b66751fd85",
        "IPY_MODEL_9a618019d23e45899277de0bdb0667c5",
        "IPY_MODEL_db7a46c3aad94975bd42667de33723cb"
       ],
       "layout": "IPY_MODEL_99898c8947404fcb847b61cebcf00072"
      }
     },
     "0ce07797f95e422a9641176f5f7ddcc1": {
      "model_module": "@jupyter-widgets/controls",
      "model_module_version": "1.4.0",
      "model_name": "SliderStyleModel",
      "state": {
       "description_width": ""
      }
     },
     "0ce686b436154d21bcc621a95ac30669": {
      "model_module": "@jupyter-widgets/controls",
      "model_module_version": "1.4.0",
      "model_name": "IntSliderModel",
      "state": {
       "description": "B0",
       "layout": "IPY_MODEL_3c847e18e0e34508993e626f179f79ea",
       "max": 10,
       "style": "IPY_MODEL_e7ae5fe2a07d4e0da8918452c6c59606",
       "value": 1
      }
     },
     "0d12d4781b8e436f8b9007ea27b5c3dc": {
      "model_module": "@jupyter-widgets/controls",
      "model_module_version": "1.4.0",
      "model_name": "SliderStyleModel",
      "state": {
       "description_width": ""
      }
     },
     "10bc72fac0184d0ca60b22ed7591133f": {
      "model_module": "@jupyter-widgets/controls",
      "model_module_version": "1.4.0",
      "model_name": "FloatSliderModel",
      "state": {
       "description": "k_1",
       "layout": "IPY_MODEL_fe3cd55dbc7e4c1eab5bce79d10cf8c7",
       "max": 10,
       "step": 0.1,
       "style": "IPY_MODEL_0ce07797f95e422a9641176f5f7ddcc1",
       "value": 8.3
      }
     },
     "11838ce2b2804dd7932f7e1dd3d202c1": {
      "model_module": "@jupyter-widgets/controls",
      "model_module_version": "1.4.0",
      "model_name": "IntSliderModel",
      "state": {
       "description": "A0",
       "layout": "IPY_MODEL_dd0e46a49ccc44ba83019862486b1e03",
       "max": 10,
       "style": "IPY_MODEL_e26c266033c54884b4aa661189e2813e",
       "value": 5
      }
     },
     "118c469495734b289ae94f8b0c2d4615": {
      "model_module": "@jupyter-widgets/output",
      "model_module_version": "1.0.0",
      "model_name": "OutputModel",
      "state": {
       "layout": "IPY_MODEL_b565131d2ea04241b90310d1dd671f6b",
       "outputs": [
        {
         "data": {
          "image/png": "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\n",
          "text/plain": "<matplotlib.figure.Figure at 0x1942cc63b70>"
         },
         "metadata": {
          "needs_background": "light"
         },
         "output_type": "display_data"
        }
       ]
      }
     },
     "11a9b65386f2458faaf61c876b4cebdf": {
      "model_module": "@jupyter-widgets/controls",
      "model_module_version": "1.4.0",
      "model_name": "IntSliderModel",
      "state": {
       "description": "A0",
       "layout": "IPY_MODEL_b14b970152f7467ca37986104c0cc827",
       "max": 10,
       "style": "IPY_MODEL_c3fccdbf10464d0791c23f775b10bccd",
       "value": 5
      }
     },
     "131db3c606f9411d8ddf27504a68734d": {
      "model_module": "@jupyter-widgets/controls",
      "model_module_version": "1.4.0",
      "model_name": "ButtonModel",
      "state": {
       "description": "Run Interact",
       "layout": "IPY_MODEL_28cf652fe1584c368cce5a5426b48e72",
       "style": "IPY_MODEL_69bde4bce9414199b328e414f04e9e0a"
      }
     },
     "13950e73be15449b8b6a93b341621e8d": {
      "model_module": "@jupyter-widgets/base",
      "model_module_version": "1.1.0",
      "model_name": "LayoutModel",
      "state": {}
     },
     "14bf78c244924f929617c7b5039693de": {
      "model_module": "@jupyter-widgets/controls",
      "model_module_version": "1.4.0",
      "model_name": "SliderStyleModel",
      "state": {
       "description_width": ""
      }
     },
     "15073aca38b245689adc4c0572982c86": {
      "model_module": "@jupyter-widgets/controls",
      "model_module_version": "1.4.0",
      "model_name": "SliderStyleModel",
      "state": {
       "description_width": ""
      }
     },
     "155aa55fa3b04e278e3ac537ac407717": {
      "model_module": "@jupyter-widgets/base",
      "model_module_version": "1.1.0",
      "model_name": "LayoutModel",
      "state": {}
     },
     "157088ff52a94237b76cbfe05218213c": {
      "model_module": "@jupyter-widgets/base",
      "model_module_version": "1.1.0",
      "model_name": "LayoutModel",
      "state": {}
     },
     "160819c47a3544efbb727e80fb2137f3": {
      "model_module": "@jupyter-widgets/controls",
      "model_module_version": "1.4.0",
      "model_name": "IntSliderModel",
      "state": {
       "description": "A0",
       "layout": "IPY_MODEL_7b0b7434fe504e2aa982dc8f02cc9bc9",
       "max": 10,
       "style": "IPY_MODEL_7a959366c17b46cab58c870c2f2ae136",
       "value": 5
      }
     },
     "162f27663d5d4561b3acf77ab03033b3": {
      "model_module": "@jupyter-widgets/controls",
      "model_module_version": "1.4.0",
      "model_name": "IntSliderModel",
      "state": {
       "description": "B0",
       "layout": "IPY_MODEL_9725f7eee12340a599be631cb049c985",
       "max": 10,
       "style": "IPY_MODEL_b279677696804a258cd4429eace016fa"
      }
     },
     "16befa1302f84a3f905048cfb3feca5f": {
      "model_module": "@jupyter-widgets/controls",
      "model_module_version": "1.4.0",
      "model_name": "SliderStyleModel",
      "state": {
       "description_width": ""
      }
     },
     "18e1f49a15e2435692cbf63c98258036": {
      "model_module": "@jupyter-widgets/base",
      "model_module_version": "1.1.0",
      "model_name": "LayoutModel",
      "state": {}
     },
     "1914104fe2ab434b9eff1febcc1eb2fc": {
      "model_module": "@jupyter-widgets/controls",
      "model_module_version": "1.4.0",
      "model_name": "ButtonModel",
      "state": {
       "description": "Run Interact",
       "layout": "IPY_MODEL_5d3972c82d0649c89387f8326abbc49d",
       "style": "IPY_MODEL_965f5f7913394b3ab30f32f91e1d0836"
      }
     },
     "192f6a9a23a84b7e90e9f1391bc1d094": {
      "model_module": "@jupyter-widgets/controls",
      "model_module_version": "1.4.0",
      "model_name": "SliderStyleModel",
      "state": {
       "description_width": ""
      }
     },
     "19b46bc9fce74e169f4bcaa29de8051f": {
      "model_module": "@jupyter-widgets/base",
      "model_module_version": "1.1.0",
      "model_name": "LayoutModel",
      "state": {}
     },
     "19eeeac29ac14f14bdeb1a04369f723d": {
      "model_module": "@jupyter-widgets/base",
      "model_module_version": "1.1.0",
      "model_name": "LayoutModel",
      "state": {}
     },
     "1b8dbd16378c4266a77158de929b9abe": {
      "model_module": "@jupyter-widgets/output",
      "model_module_version": "1.0.0",
      "model_name": "OutputModel",
      "state": {
       "layout": "IPY_MODEL_8677b22d6d6b455b82aa0d9de9d0d855",
       "outputs": [
        {
         "data": {
          "image/png": "iVBORw0KGgoAAAANSUhEUgAAAYcAAAEKCAYAAAD5MJl4AAAABHNCSVQICAgIfAhkiAAAAAlwSFlzAAALEgAACxIB0t1+/AAAHXtJREFUeJzt3X20XXV95/H3Jw9OcjXlIUl5Cvfe1IosZHhILo48lKXYjsiDFtGq647UjnrboSJMbRVMtZ2uleJadnWkHbVeKzPY3IYungQpIEoBDU96A0EegoPaJA3iEGI1QAiG5Dt/7H3MzX06++xz9t7n4fNa66xzzj57n/3lsO/+5vesiMDMzGyiOVUHYGZm7cfJwczMpnByMDOzKZwczMxsCicHMzObwsnBzMymcHIwM7MpnBzMzGwKJwczM5tiXtUBZLFkyZIYHBysOgwzs46yfv36ZyNiaZ5jOyI5DA4OMj4+XnUYZmYdRdLmvMcWVq0k6UpJz0h6dMK2gyV9Q9KT6fNBRZ3fzMzyK7LN4f8AZ07adilwR0S8BrgjfW9mZm2msOQQEd8Cfjpp89uBq9LXVwG/XdT5zcwsv7LbHA6JiKfT1z8BDplpR0kjwAhAf3//lM93797N1q1b2bVrVxFxtsyCBQtYtmwZ8+fPrzoUM7PMKmuQjoiQNONiEhExCowCDA0NTdlv69atLFq0iMHBQSQVGGl+EcH27dvZunUry5cvrzocM7PMyh7n8P8kHQaQPj+T94t27drF4sWL2zYxAEhi8eLFbV+6MbP2MzYGg4MwZ07yPDZW7vnLTg43Ab+bvv5d4MZmvqydE0NNJ8RoZsVq9EY/NgYjI7B5M0QkzyMj5SaIIruyrgXuA14raaukDwCfBn5L0pPAb6bvzcwqkedf52Xc6Fetgp0799+2c2eyvTQR0faPlStXxmSPP/74lG1VuOGGGwKIjRs3zrhPu8Rq1u3WrIkYGIiQkuc1a2bft68vIrllJ4++vtYfMzCw//61x8DAzMdI0x8jzf7fPxkwHjnvu70zt1JBFXhr167ltNNOY+3atS35PjPLp9F/oef513meY7ZsaWw7wDQdNGfdXoTeSA4FVeA9//zzrFu3ji9/+ctcffXVLQrWzKDxf881euPOc9Mu60a/ejX09e2/ra8v2V6W3kgOBVXg3XjjjZx55pkcddRRLF68mPXr1zf1fWbdqox6+kZv3Hlu2mXd6IeHYXQUBgZASp5HR5PtpclbH1Xmo+k2h1ZV4E1y9tlnx+233x4REVdccUV89KMfnXY/tzlYtym6bj9PPX2jx5TV5lA7Luvv1Uo00eZQ+Y0/y6Pp5JDnSqtj+/btsXDhwujv74+BgYFYtmxZHHnkkbF3797mYjVrc43eIMtqkM17s2/0pl3VjT4PJ4d68qb7WXzxi1+MkZGR/badfvrpcffddzcXq1nJGr3ZNXqzz3Ojz/vvuU66cZehmeTQG20OBVTgrV27lvPOO2+/beeff757LVlHade6/bwNssPDsGkT7N2bPJdaR99t8maVMh/tPM4hi06K1Tpb0aWAPMd0Wj19N8ElBzMroxQAjf+rPm/B3aWAajk5mLWxRrqA5umxnafKJ8/N3jf6zuPkYNamGi0JlFEKqPHNvvs5OZiVpOgRv2WVAqw3ODmYlaCM9gCXAqyVnBzMSlBGe4BLAdZKTg5NmDt3LieccALHH388K1as4N577606JCtJo1VEZbUHuBRgrdIzyaGIGbsXLlzIhg0bePjhh7n88su57LLLmv9Sa3t5qojcHmCdpieSQxlL7u3YsYODDjqodV9obStPFZHbA6zT9ERyKGrJvRdffJETTjiBo48+mg9+8IN88pOfbO4LrTKNlCzzVBG5FGCdZl7VAZQhzx9zFrVqJYD77ruPCy64gEcffRRJzX2xlapWsqz9A6JWsoTpb979/ck+022fzfCwk4F1jp4oOZSx5N7JJ5/Ms88+y7Zt21r3pVaKRkuW7bBKl1nReiI5lPHH/MQTT7Bnzx4WL17cui+1XIruSeQqIusFPVGtVPujXbUq+YPv708SQ7N/zLU2B0hmt73qqquYO3duk9FaMxqtIoJ81USuIrJu1xPJAYr5Y96zZ09rv9CaNlsV0Uz//1ev3j+hgKuJzHqiWsl6h3sSmbWGk4O1tUbbD/J2PvB4ArP9dXRySBY6am+dEGO7yjN40T2JzFqjY5PDggUL2L59e1vffCOC7du3s2DBgqpD6Uh5Bi+6isisNdTON9eaoaGhGB8f32/b7t272bp1K7t27aooqmwWLFjAsmXLmD9/ftWhdJw5c5ISw2RSUv1jZrOTtD4ihvIc27G9lebPn8/y5curDsMKlHckspk1r2OrlawzNdLA7PYDs+o4OVhpGm1gdvuBWXU6ts3BOs/g4PTVRAMDSfdRM2utZtocKik5SPrvkh6T9KiktZLcnacHFDU7rpm1XunJQdIRwEeAoYg4FpgLvKfsOKx8ZcyOa2atUVWbwzxgoaR5QB/w44risCY0OnrZDcxmnaP05BARTwF/BWwBngZ+HhG3lx2HNSfP6GU3MJt1jtIbpCUdBFwHvBv4GXANcG1ErJm03wgwAtDf379y83QtmVYZNy6btb9Oa5D+TeBfI2JbROwGrgdOmbxTRIxGxFBEDC1durT0IG12blw2625VJIctwBsk9SlZbPnNwMYK4rAmuHHZrLtV0ebwAHAt8CDwSBrDaNlxWHPcuGzW3SrprRQRfxYRR0fEsRHxvoh4qYo4bJ9Gex65cdmsu3XsxHvWOnnWXa595mRg1p08t5LlWjfBzLqbk4O555GZTeHkYO55ZGZTODmYex6Z2RR1k4OkkyV9TtL3JG2TtEXSLZL+UNIBZQRpjWuk95F7HpnZZLNOnyHpVpJJ8W4ExoFngAXAUcCbgHOBv46Im4oM0us5NGZy7yNISgK+4Zv1lmamz6iXHJZExLN1Tl53n2Y5OTTG8x6ZGRQ4t9JsN31J99Tbx6rh3kdm1qxmGqTdl6VNufeRmTWrmeTQ/otP9yj3PjKzZs06fYakd8z0EbCw9eFYK9QanVetSqqS+vuTxODGaDPLqt7cSufO8tnNrQzEWsvzHplZM+olhy8B90XZy8XZfsbGXAows3LVa3N4H7Be0tWS3i/p0DKCsn3yrNVsZtasTGtISzoaeCvwFuAA4E7gNuCeiNhTaIT09jgHj1kws7wKX0M6Ip6IiP8ZEWcCZwDrgHcBD+Q5qWXnMQtmVoV6vZUOnuGj+4H7I+KnrQ/JJurvn77k4DELZlakeg3S60nGM2iazwL4tZZHZPtZvXr6eZI8ZsHMijRrcoiI5WUFYtPzmAUzq0LmNaQlvQ04PX17V0R4nENJPGbBzMqWqUFa0qeBi4HH08fFkv6yyMC6VSPrLJiZVSVryeEs4ISI2Asg6SrgIeATRQXWjSavs1AbswAuGZhZe2lk4r0DJ7z2CnA5rFq1f8MyJO9XraomHjOzmWQtOVwOPCTpTpKeS6cDlxYWVZfymAUz6xSZkkNErJV0F3BSuunjEfGTwqLqUh6zYGadopFqpaXp8zzglFmm87YZeJ0FM+sUmUoOkq4EjgMeA/ammwO4vqC4upLHLJhZp8ja5vCGiDim0Eh6hMcsmFknyFqtdJ8kJwczsx6RteTwFZIE8RPgJZIeSxERxxUWmZmZVSZryeHLJAv/nEmydOg5zL6EaM/wiGcz60ZZSw7bIuKmQiPpQB7xbGbdKmvJ4SFJ/yjpvZLeUXvkPamkAyVdK+kJSRslnZz3u6rkEc9m1q2ylhwWkrQ1/OcJ25rpynoFcFtEvFPSK4C+ege0I494NrNulXWE9O+16oSSDiCZfuP96Xf/AvhFq76/TB7xbGbdatZqJUl/OstSoUg6Q9I5DZ5zObAN+N+SHpL095JeOc13j0galzS+bdu2Bk9RDo94NrNuVa/N4RHga5LukPQZSR+T9ClJ/yDpEZIeSw80eM55wArgCxFxIvAC00ziFxGjETEUEUNLly6d/HFbGB6G0VEYGAApeR4ddWO0mXU+RUT9naTXAKcChwEvAhuBb0XEiw2fUDoUuD8iBtP3vwFcGhFnz3TM0NBQjI+PN3oqM7OeJml9RAzlOTZrm8OTwJN5TjDNd/1E0r9Jem1EfB94M8nqcmZm1iYyryHdYhcBY2lPpR8BLWvwNjOz5lWSHCJiA5CrqGNmZsVrZD2HruepMMzMElnXc1gKfAgYnHhMRPzXYsIqn6fCMDPbJ2vJ4UbgAOCbwD9PeHQNT4VhZrZP1jaHvoj4eKGRVMxTYZiZ7ZO15HCzpLMKjaRiM0154akwzKwXZU0OF5MkiF2SnksfO4oMrGyeCsPMbJ9MySEiFkXEnIhYkL5eFBG/UnRwZfJUGGZm+2Qe5yDpbSSzqQLcFRE3FxNSdYaHnQzMzCBjyUHSp0mqlh5PHxdLurzIwMzMrDpZSw5nASdExF4ASVcBDwGXFRWYmZlVp5ER0gdOeH1AqwMxM7P2kbXkcDnJOtJ3AiJpe5iyBoOZmXWHrL2V1gJvIFkz+jrg5Ij4pyIDa9bYhesYnLeVOdrL4LytjF24ruqQzMw6Rr1lQo9On1eQLPSzNX0cnm5rS2MXrmPkCyeyec8ygjls3rOMkS+c6ARhZpbRrCvBSRqNiJG0OmmyiIgzigttn0ZXghuct5XNe5ZN2T4wdyubXp663cysGxW2ElxEpPOS8taI2DXppAvynLAMW/Yc3tB2MzPbX9beSvdm3NYW+uf+uKHtZma2v3ptDodKWgkslHSipBXp441A32zHVmn1yCb6eGG/bX28wOqRTdUEZGbWYep1ZX0L8H5gGfDXE7Y/B3yioJiaNvz504B1rBodZMuew+mf+2NWj2xKt5uZWT2zNkj/cifp/Ii4roR4ptVog7SZmRXYIF0TEddJOht4HbBgwva/yHNSMzNrb1kn3vs74N3ARSQjpN8FDBQYl5mZVShrb6VTIuIC4N8j4n8AJwNHFReWmZlVKWtyqI1x2CnpcGA3yYhpMzPrQlkn3vuapAOBzwAPAgF8qbCozMysUnVLDpLmAHdExM/SHksDwNER8anCoyvb2BgMDsKcOcnz2FjVEZmZVaJuySEi9kr6HHBi+v4l4KWiAyvd2BiMjMDOncn7zZuT9+C1Q82s52Rtc7hD0vmSVGg0VVq1al9iqNm5M9luZtZjsiaH3weuAV6StEPSc5J2FBhX+bZsaWy7mVkXyzoIblHRgVSuvz+pSppuu5lZj8k6CO6OLNs62urV0DdpLsG+vmS7mVmPqTcr6wJJBwNLJB0k6eD0MQgcUUaApRkehtFRGBgAKXkeHXVjtJn1pHrVSr8PXAIcDqwnmToDYAfwv5o5saS5wDjwVESc08x3tczwsJOBmRn1V4K7ArhC0kUR8bctPvfFwEbgV1r8vWZm1qSsDdJ/K+kUYHDiMRHxlTwnlbQMOBtYDfxRnu8wM7PiZG2Q/gfgr4DTgJPSR645wlOfBT4G7G3iO9qDR1WbWRfKOrfSEHBMZFkZqA5J5wDPRMT6dLnRmfYbAUYA+tu1O6lHVZtZl8o6CO5R4NAWnfNU4G2SNgFXA2dIWjN5p4gYjYihiBhaunRpi07dYh5VbWZdKmvJYQnwuKTvMGFepYh4W6MnjIjLgMsA0pLDH0fEf2n0e9qCR1WbWZfKmhz+vMggOpZHVZtZl8pUrRQRdwObgPnp6++SrOvQlIi4q23GOOThUdVm1qWy9lb6EHAt8MV00xHAV4sKqmN4VLWZdams1Up/CLweeAAgIp6U9KuFRdVJPKrazLpQ1t5KL0XEL2pvJM0jWSrUzMy6UNbkcLekTwALJf0WydoOXysuLDMzq1LW5HApsA14hGQyvluAPy0qqK7mEdVm1gGytjksBK6MiC/BL2dUXQjsnPUo259HVJtZh8i8hjRJMqhZCHyz9eF0OY+oNrMOkTU5LIiI52tv0td9s+xv0/GIajPrEFmTwwuSVtTeSFoJvFhMSF1sppHTHlFtZm0ma3K4BLhG0rclrQP+CfhwcWF1KY+oNrMOkXWxn+9KOhp4bbrp+xGxu7iwulSt0XnVqqQqqb8/SQxujDazNpO1txIkC/wMpseskJR7Jbie5hHVZtYBMiWHdCW4VwMbgD3p5gCcHMzMulDWNoch4NSIuDAiLkofHykyMJvAA+fMrGRZq5VqK8E9XWAsNh0PnDOzCmQtOdRWgvu6pJtqjyIDs5QHzplZBbwSXLvzwDkzq0AjK8E9ASxKHxvTbVY0D5wzswpkXQnud4DvAO8Cfgd4QNI7iwzMUh44Z2YVyFqttAo4KSKeAZC0lGTivWuLCsxSHjhnZhXI2iA9p5YYUtsbONaaNTwMmzbB3r3Jc5bE4O6vZtaErCWH2yR9HVibvn83cGsxIVnT3P3VzJqkiGxLQUt6B3Ba+vbbEXFDYVFNMjQ0FOPj42WdrvMNDiYJYbKBgaTkYWY9QdL6iBjKc+ysJQdJvw4cEhH3RMT1wPXp9tMkvToifpjnpFYwd381sybVazf4LLBjmu0/Tz+zduTur2bWpHrJ4ZCIeGTyxnTbYCERWfPc/dXMmlQvORw4y2cLZ/nMqjQ8DKOjSRuDlDyPjrox2swyq5ccxiV9aPJGSR8E1hcTkrVEo91f3fXVzCao15X1EuAGScPsSwZDwCuA84oMzErkrq9mNkmmrqyS3gQcm759LCL+pdCoJnFX1oK566tZVyqsK2tNRNwJ3JnnBNYB3PXVzCbxFBjmrq9mNoWTg+Xv+upGbLOuVXpykHSkpDslPS7pMUkXlx2DTZKn62utEXvzZojY14jtBGHWFTLPrdSyE0qHAYdFxIOSFpH0gvrtiHh8pmPcIN2G3Iht1vaaaZAuveQQEU9HxIPp6+eAjcARZcdhTXIjtllXq7TNQdIgcCLwwDSfjUgalzS+bdu2skOzetyIbdbVKksOkl4FXAdcEhFTJveLiNGIGIqIoaVLl5YfoM3OjdhmXa2S5CBpPkliGEunArdO40Zss65WRYO0gKuAn0bEJVmOcYN0l3AjtlmpOqpBGjgVeB9whqQN6eOsCuKwsrkR26xjZF1DumUiYh2gss9rbaC/f/qSgxuxzdqOR0hbefI0YrsB26wSTg5WnkYbsd2AbVaZ0huk83CDdI9yA7ZZUzqtQdosGzdgm1XGycHaV95R2G6nMGuak4O1r7wN2G6nMGuak4O1rzyjsFet2rcWds3Oncl2M8vMycHa2/Bw0vi8d2/yPFtigPztFK6KMtuPk4N1lzztFK6KMpvCycG6S552CldFmU3h5GDdJU87RZ6qKFdDWZcrfW4ls8IND9dvm5io0TmfatVQtdJGrRqqdm6zLuCSg1mjVVGuhrIe4ORg1mhVlHtEWQ9wtZIZNFYVlWfqcVdFWYdxycGsUWX2iHJpwyri5GDWqDJ7RHn8hVXEU3ablSHP9OOestya5Cm7zdpdnqooj7+wCjk5mJUhT1VUo1OB5K2GckKxabhayaxdTe7hBElpY6akkqcaqtFzWEdxtZJZNypj/IV7UdkMnBzM2lkjU5bnmZG2rF5UTiYdx8nBrFvkafTOk1AaLW24S25HcnIw6xZ5Gr3L6EXlqquO5ORg1k0aXTmvjF5UZQ4AdEJpGScHs17XaEJptLRRRtUVuC2kxZwczKwxjZY2yhoAWFZbSJ6E0olJKCLa/rFy5cowsw62Zk3EwECElDyvWTP7/gMDEckte//HwMDMx0jTHyO17hxr1kT09e2/f1/f7P89eY6pHdfIbzYNYDxy3ncrv/FneTg5mPWYPDfURm/2jSaTPOfIe0zehDJJM8nB1Upm1n7K6HlV1riQMgcntpCTg5m1p6J7XpU1LqSsJNRilSQHSWdK+r6kH0i6tIoYzKwLNZJQyhoXUlYSarHSk4OkucDngLcCxwDvlXRM2XGYmZUyLqSsJNRipc/KKulk4M8j4i3p+8sAIuLymY7xrKxm1nPGxpI2hi1bkhLD6tUNz5TbzKys8/Ic1KQjgH+b8H4r8J8qiMPMrH0ND1c6bXrbNkhLGpE0Lml827ZtVYdjZtZTqkgOTwFHTni/LN22n4gYjYihiBhaunRpacGZmVk1yeG7wGskLZf0CuA9wE0VxGFmZjMovc0hIl6W9GHg68Bc4MqIeKzsOMzMbGZVNEgTEbcAt1RxbjMzq6/0rqx5SNoGTLNyeiZLgGdbGE6rtXN87RwbOL5mtHNs4PiaMTG2gYjI1WjbEcmhGZLG8/bzLUM7x9fOsYHja0Y7xwaOrxmtiq1tu7KamVl1nBzMzGyKXkgOo1UHUEc7x9fOsYHja0Y7xwaOrxktia3r2xzMzKxxvVByMDOzBnV0cqi3LoQSf5N+/j1JK7IeW0Jsw2lMj0i6V9LxEz7blG7fIKmQ6WgzxPdGST9PY9gg6VNZjy0htj+ZENejkvZIOjj9rIzf7kpJz0h6dIbPq7zu6sVW9XVXL77KrruM8VV27Uk6UtKdkh6X9Jiki6fZp3XXXt71Rat+kIyu/iHwa8ArgIeBYybtcxZwKyDgDcADWY8tIbZTgIPS12+txZa+3wQsqfi3eyNwc55ji45t0v7nAv9S1m+XnuN0YAXw6AyfV3LdZYytsusuY3yVXHdZ46vy2gMOA1akrxcB/7fIe14nlxxeD/wgIn4UEb8ArgbePmmftwNficT9wIGSDst4bKGxRcS9EfHv6dv7SSYgLEsz//2V/3aTvBdY28Lz1xUR3wJ+OssuVV13dWOr+LrL8tvNpPDfDhqOr9RrLyKejogH09fPARtJlkCYqGXXXicnh+nWhZj8Q820T5Zji45tog+QZPuaAL4pab2kkRbG1Wh8p6RF01slva7BY4uODUl9wJnAdRM2F/3bZVHVddeosq+7rKq47hpS9bUnaRA4EXhg0kctu/YqmVvJ9pH0JpI/0tMmbD4tIp6S9KvANyQ9kf6LpkwPAv0R8byks4CvAq8pOYZ6zgXuiYiJ/9Jrh9+u7fm6a1pl156kV5EkpUsiYkerv7+mk0sOWdaFmGmfTGtKFBwbko4D/h54e0Rsr22PiKfS52eAG0iKhK1UN76I2BERz6evbwHmS1qS5diiY5vgPUwq1pfw22VR1XWXSYXXXV0VXneNquTakzSfJDGMRcT10+zSumuvqMaToh8kpZ4fAcvZ18Dyukn7nM3+jTPfyXpsCbH1Az8ATpm0/ZXAogmv7wXOrOC3O5R942BeD2xJf8fKf7t0vwNI6oZfWeZvN+Fcg8zcqFrJdZcxtsquu4zxVXLdZY2vymsv/R2+Anx2ln1adu11bLVSzLAuhKQ/SD//O5Jpwc8i+WPYCfzebMeWHNungMXA5yUBvBzJZFmHADek2+YB/xgRt7Uqtgbieyfw3yS9DLwIvCeSq6wdfjuA84DbI+KFCYcX/tsBSFpL0qtmiaStwJ8B8yfEV8l1lzG2yq67jPFVct01EB9Ud+2dCrwPeETShnTbJ0gSfsuvPY+QNjOzKTq5zcHMzAri5GBmZlM4OZiZ2RRODmZmNoWTg5mZTeHkYGZmUzg5WM+SdKCkC9PXh0u6toXffYmkC2b5/BxJf9Gq85m1msc5WM9KJy+7OSKObfH3ziOZI2hFRLw8wz5K9zk1Ina28vxmreCSg/WyTwOvThdnuaa2wIuk90v6qqRvpAu4fFjSH0l6SNL9ExZ3ebWk29JZOL8t6ej0e88AHqwlBkkfSRdo+Z6kqwHSUb93AeeU/R9tloWTg/WyS4EfRsQJwJ9M+uxY4B3AScBqYGdEnAjcB9Sqi0aBiyJiJfDHwOfT7acC6yed58SIOA74gwnbx4HfaN1/jlnrdOzcSmYFuzOSBVWek/Rz4Gvp9keA49Jpk08Brknn0wH4D+nzYSQLsdR8DxiT9FWSKahrngEOLyh+s6Y4OZhN76UJr/dOeL+X5O9mDvCztNQx2YvAggnvzyZZfvJcYJWk/5hWOS1I9zVrO65Wsl72HMlavA2LZJGVf5X0Lvjlwu7Hpx9vBH493T4HODIi7gQ+TjLd86vS/Y4Cpl3I3qxqTg7WsyJZ6OaetCH6Mzm+Yhj4gKSHgcfYtybvrSQlBUimR14j6RHgIeBvIuJn6WdvAv45b/xmRXJXVrMCSLoB+FhEPDnD54eQzPn/5nIjM8vGycGsAJJeCxwSM6whLOkkYHdEbJjuc7OqOTmYmdkUbnMwM7MpnBzMzGwKJwczM5vCycHMzKZwcjAzsyn+PyCJIC+rGejwAAAAAElFTkSuQmCC\n",
          "text/plain": "<matplotlib.figure.Figure at 0x1942ca20b38>"
         },
         "metadata": {
          "needs_background": "light"
         },
         "output_type": "display_data"
        }
       ]
      }
     },
     "1bf5207a18864ccb85191b7546a5428f": {
      "model_module": "@jupyter-widgets/controls",
      "model_module_version": "1.4.0",
      "model_name": "SliderStyleModel",
      "state": {
       "description_width": ""
      }
     },
     "1c098b46cbbc4008854de9840ebcd75b": {
      "model_module": "@jupyter-widgets/base",
      "model_module_version": "1.1.0",
      "model_name": "LayoutModel",
      "state": {}
     },
     "1c9bbc03c1774f6c910743c1e2461b7b": {
      "model_module": "@jupyter-widgets/output",
      "model_module_version": "1.0.0",
      "model_name": "OutputModel",
      "state": {
       "layout": "IPY_MODEL_75827697a76148eca5441a48cfda8a62",
       "outputs": [
        {
         "data": {
          "image/png": "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\n",
          "text/plain": "<matplotlib.figure.Figure at 0x1942cb7d550>"
         },
         "metadata": {
          "needs_background": "light"
         },
         "output_type": "display_data"
        }
       ]
      }
     },
     "1da9d53b88b3416d81ef739f7753b22f": {
      "model_module": "@jupyter-widgets/controls",
      "model_module_version": "1.4.0",
      "model_name": "FloatSliderModel",
      "state": {
       "description": "k_1",
       "layout": "IPY_MODEL_3e22f03177414f90aa9610a22bce1055",
       "max": 10,
       "step": 0.1,
       "style": "IPY_MODEL_f6fcd8861d414edca9904b8f9dd11dc6",
       "value": 5
      }
     },
     "1dfc3e4cf10a4a228ba53d826396c7bb": {
      "model_module": "@jupyter-widgets/controls",
      "model_module_version": "1.4.0",
      "model_name": "IntSliderModel",
      "state": {
       "description": "A0",
       "layout": "IPY_MODEL_5254f09cca68474eb55b27f641a29445",
       "max": 10,
       "style": "IPY_MODEL_38c7eb5a48d44d97b7cd736106265621",
       "value": 6
      }
     },
     "1ee95dbc291b48bbad517ad66df53732": {
      "model_module": "@jupyter-widgets/base",
      "model_module_version": "1.1.0",
      "model_name": "LayoutModel",
      "state": {}
     },
     "1f74d7fe60fc45da8325af0038b28bdf": {
      "model_module": "@jupyter-widgets/controls",
      "model_module_version": "1.4.0",
      "model_name": "IntSliderModel",
      "state": {
       "description": "A0",
       "layout": "IPY_MODEL_e60ea6a4ff7e43a89526f4757215413e",
       "max": 10,
       "style": "IPY_MODEL_b6a8755792d948d1b88b41124234ad4a",
       "value": 5
      }
     },
     "1f96e0b1eb1344359500b1530aff3f0c": {
      "model_module": "@jupyter-widgets/controls",
      "model_module_version": "1.4.0",
      "model_name": "IntSliderModel",
      "state": {
       "description": "B0",
       "layout": "IPY_MODEL_08436b3702314dccb1dad4ba316c3dd0",
       "max": 10,
       "style": "IPY_MODEL_669b007b0f6b42ec8fdd3780b9112803",
       "value": 7
      }
     },
     "20dea68607fb46208b5ef37f59e4dcf6": {
      "model_module": "@jupyter-widgets/controls",
      "model_module_version": "1.4.0",
      "model_name": "VBoxModel",
      "state": {
       "_dom_classes": [
        "widget-interact"
       ],
       "children": [
        "IPY_MODEL_2796576fc3bf49a581f3a3f7a28a0420",
        "IPY_MODEL_55073e0f949043b2b876b70072babba2",
        "IPY_MODEL_21da582b21524d66af389062e3661518",
        "IPY_MODEL_763f8dd0acdb42cda6945d07a2764663",
        "IPY_MODEL_3727a1d89c9f44f3b66825c438ede721",
        "IPY_MODEL_d0bf1e2842b648ff8e97de2f87ac9be6"
       ],
       "layout": "IPY_MODEL_dbe5123476bb4fc48796cae2ffae1ff0"
      }
     },
     "21da582b21524d66af389062e3661518": {
      "model_module": "@jupyter-widgets/controls",
      "model_module_version": "1.4.0",
      "model_name": "FloatSliderModel",
      "state": {
       "description": "k_1",
       "layout": "IPY_MODEL_4e0a82652a8f40d49728d530822c16f8",
       "max": 10,
       "step": 0.1,
       "style": "IPY_MODEL_7b62c6e1fbb84cc3aae3934f7064ab3b",
       "value": 5
      }
     },
     "226482287a5e4b9489127dae94a564c5": {
      "model_module": "@jupyter-widgets/base",
      "model_module_version": "1.1.0",
      "model_name": "LayoutModel",
      "state": {}
     },
     "239360e3abae47d9b82c32249ab6662f": {
      "model_module": "@jupyter-widgets/controls",
      "model_module_version": "1.4.0",
      "model_name": "VBoxModel",
      "state": {
       "_dom_classes": [
        "widget-interact"
       ],
       "children": [
        "IPY_MODEL_39111cc86d9f406c90c2243be39da491",
        "IPY_MODEL_a7a3344bd9df4de8b5cb85738874e119",
        "IPY_MODEL_404a9aea2c5c4ab4b7a8921dedb2188e",
        "IPY_MODEL_7b422958f1ab4245981a743678058b28"
       ],
       "layout": "IPY_MODEL_226482287a5e4b9489127dae94a564c5"
      }
     },
     "23aa12d3564b4267b23eefa142e7f8f3": {
      "model_module": "@jupyter-widgets/controls",
      "model_module_version": "1.4.0",
      "model_name": "SliderStyleModel",
      "state": {
       "description_width": ""
      }
     },
     "247b7883a7844df8a9fafc1fd48957ed": {
      "model_module": "@jupyter-widgets/base",
      "model_module_version": "1.1.0",
      "model_name": "LayoutModel",
      "state": {}
     },
     "24943705764e4be290979479ec0351e0": {
      "model_module": "@jupyter-widgets/controls",
      "model_module_version": "1.4.0",
      "model_name": "VBoxModel",
      "state": {
       "_dom_classes": [
        "widget-interact"
       ],
       "children": [
        "IPY_MODEL_b275fd570a724da5948fd0c74e8bd846",
        "IPY_MODEL_b0baa17ff5144d3cadd7902f64c4d97f",
        "IPY_MODEL_e4e04db093014ca8987669c373332c09",
        "IPY_MODEL_8ef9e6e69fe9493ca4ed2657f9fde970",
        "IPY_MODEL_740d35db3dce4c20bae180139e8f18b9",
        "IPY_MODEL_ab3467316519419c98575780c445ef28"
       ],
       "layout": "IPY_MODEL_19eeeac29ac14f14bdeb1a04369f723d"
      }
     },
     "25332a281b0145ae824b665aaa9efcb7": {
      "model_module": "@jupyter-widgets/base",
      "model_module_version": "1.1.0",
      "model_name": "LayoutModel",
      "state": {}
     },
     "263b2ea032b942558d3b55d112921e24": {
      "model_module": "@jupyter-widgets/output",
      "model_module_version": "1.0.0",
      "model_name": "OutputModel",
      "state": {
       "layout": "IPY_MODEL_f42742d6e5a145f8ab3411cc4236a7e4",
       "outputs": [
        {
         "data": {
          "image/png": "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\n",
          "text/plain": "<matplotlib.figure.Figure at 0x1942d2cfc88>"
         },
         "metadata": {
          "needs_background": "light"
         },
         "output_type": "display_data"
        }
       ]
      }
     },
     "26a1f39a301a42288fe94637d4630438": {
      "model_module": "@jupyter-widgets/controls",
      "model_module_version": "1.4.0",
      "model_name": "IntSliderModel",
      "state": {
       "description": "B0",
       "layout": "IPY_MODEL_fc0d6fb24a22406880d884791efe0fb7",
       "max": 10,
       "style": "IPY_MODEL_60a3721e7ee0492c97df88a038df56f9",
       "value": 2
      }
     },
     "26e8dcd6313d4c2d8d9344ce2ed0a55d": {
      "model_module": "@jupyter-widgets/controls",
      "model_module_version": "1.4.0",
      "model_name": "SliderStyleModel",
      "state": {
       "description_width": ""
      }
     },
     "273b7a1d4f8949d88bd2edf955896ff6": {
      "model_module": "@jupyter-widgets/controls",
      "model_module_version": "1.4.0",
      "model_name": "FloatSliderModel",
      "state": {
       "description": "k_1",
       "layout": "IPY_MODEL_6c576870edf14552a372e3a5b64eb60f",
       "max": 10,
       "step": 0.1,
       "style": "IPY_MODEL_3ea9ba6062b04fec924ba7113d8e28d3",
       "value": 5
      }
     },
     "2796576fc3bf49a581f3a3f7a28a0420": {
      "model_module": "@jupyter-widgets/controls",
      "model_module_version": "1.4.0",
      "model_name": "IntSliderModel",
      "state": {
       "description": "A0",
       "layout": "IPY_MODEL_3a1099344ae9485aaa4a6e32af8fe1ca",
       "max": 10,
       "style": "IPY_MODEL_dfca23ca90504fcabf50e5d49bad85a1",
       "value": 5
      }
     },
     "2831d8dedabd4302882f3080f4770b1a": {
      "model_module": "@jupyter-widgets/controls",
      "model_module_version": "1.4.0",
      "model_name": "VBoxModel",
      "state": {
       "_dom_classes": [
        "widget-interact"
       ],
       "children": [
        "IPY_MODEL_8b6b384da0174194a444d8cfc8cbf919",
        "IPY_MODEL_88d6c6ca7a2a4c9fab4a9479abeac774",
        "IPY_MODEL_79ad3024182240619054dfc43de69ce2",
        "IPY_MODEL_60325c2c2e7c4368969e40d425caff95"
       ],
       "layout": "IPY_MODEL_155aa55fa3b04e278e3ac537ac407717"
      }
     },
     "283c9b36d6734ae9bd7ab9955c2d448a": {
      "model_module": "@jupyter-widgets/base",
      "model_module_version": "1.1.0",
      "model_name": "LayoutModel",
      "state": {}
     },
     "28cf652fe1584c368cce5a5426b48e72": {
      "model_module": "@jupyter-widgets/base",
      "model_module_version": "1.1.0",
      "model_name": "LayoutModel",
      "state": {}
     },
     "28e661444d424985bd28f1393617b81f": {
      "model_module": "@jupyter-widgets/base",
      "model_module_version": "1.1.0",
      "model_name": "LayoutModel",
      "state": {}
     },
     "29c6c8660aa8462b93f5fd0bccfcab45": {
      "model_module": "@jupyter-widgets/base",
      "model_module_version": "1.1.0",
      "model_name": "LayoutModel",
      "state": {}
     },
     "2a44e396e5e34e239e37533c78b057ab": {
      "model_module": "@jupyter-widgets/base",
      "model_module_version": "1.1.0",
      "model_name": "LayoutModel",
      "state": {}
     },
     "2b61ce5cf3c04c05b37eeeed2027ef09": {
      "model_module": "@jupyter-widgets/output",
      "model_module_version": "1.0.0",
      "model_name": "OutputModel",
      "state": {
       "layout": "IPY_MODEL_785d2e55360a41bd9c6a67899571c526",
       "outputs": [
        {
         "data": {
          "image/png": "iVBORw0KGgoAAAANSUhEUgAAAYwAAAEKCAYAAAAB0GKPAAAABHNCSVQICAgIfAhkiAAAAAlwSFlzAAALEgAACxIB0t1+/AAAIABJREFUeJzt3X+UXWV97/H3ZyZJk0AUmcxFTEgmtaiXWogwRoFcCt6lN1CVWrUNawjUYtMQ0Xi9tcWmS1u7ovbSdhUrgeZqLlHG5KoIROVHpdACIoUJBMLPNpcmMim9GSYViAlCJt/7x96HnEzOj33mnD1n5pzPa6295pxn733Oc/LjfOd5vs8PRQRmZmbVdDS7AmZmNjk4YJiZWSYOGGZmlokDhpmZZeKAYWZmmThgmJlZJg4YZmaWiQOGmZll4oBhZmaZTGl2BRpp9uzZ0dPT0+xqmJlNGlu2bHkuIrqzXNtSAaOnp4eBgYFmV8PMbNKQtDPrte6SMjOzTBwwzMwsEwcMMzPLpKVyGGZmzfDKK68wODjISy+91OyqlDV9+nTmzp3L1KlTx/waDhhmZnUaHBxk1qxZ9PT0IKnZ1TlCRDA8PMzg4CALFiwY8+vk1iUl6QRJd0p6XNJjklaVuEaSvixpu6RHJJ1adG6JpKfSc5fnVc/+fujpgY6O5Gd/f17vZGat6qWXXqKrq2tCBgsASXR1ddXdAsqzhXEA+B8R8aCkWcAWST+MiMeLrjkXODE93gFcDbxDUidwFfBuYBB4QNLmUffWrb8fli+HffuS5zt3Js8B+voa+U5m1uomarAoaET9cmthRMSzEfFg+vhF4AlgzqjLzge+Hon7gGMkHQ8sArZHxNMR8TKwKb22oVavPhQsCvbtS8rNzOxw4zJKSlIP8Dbgn0admgM8U/R8MC0rV17qtZdLGpA0MDQ0VFO9fvKT2srNzCayG2+8EUk8+eSTubx+7gFD0tHA9cAnI+KFRr9+RKyLiN6I6O3uzjS7/VXz5tVWbmbWEDklTzdu3MjixYvZuHFjQ15vtFwDhqSpJMGiPyK+W+KSXcAJRc/npmXlyhtqzRqYOfPwspkzk3Izs1wUkqc7d0LEoeRpnUFj79693HPPPXzta19j06ZNDars4fIcJSXga8ATEfFXZS7bDFyUjpZ6J/B8RDwLPACcKGmBpGnA0vTahurrg3XrYP58kJKf69Y54W1mOcopeXrTTTexZMkS3vSmN9HV1cWWLVvqer1S8hwldSawDNgmaWta9kfAPICIuAa4GTgP2A7sAz6Snjsg6TLgNqATWB8Rj+VRyUJwWL06yV0U/s4cNMwsFzklTzdu3MiqVcnshaVLl7Jx40ZOO+20ul5ztNwCRkTcA1QcxxURAXyszLmbSQJKrjy01szG1bx5yRdNqfIx2rNnD3fccQfbtm1DEiMjI0jiiiuuaOhw37ZfS8pDa81sXOWQPP3Od77DsmXL2LlzJzt27OCZZ55hwYIF3H333XVW9nBtHzA8tNbMxlUOydONGzfygQ984LCyD37wgw0fLdX2a0nl0Do0M6usr6+hfd533nnnEWWf+MQnGvb6BW3fwijVOgTYu9frSpmZFWv7gFFoHXZ1HV4+PNyQodFmZi2j7QMGJEHj6KOPLHfy28zsEAeMlJPfZmaVOWCkvK6UmVllDhgprytlZlaZA0aqVPJ7xozm1cfMLKvOzk4WLlzIKaecwqmnnsq9996by/s4YIyyf/+hxx4pZWZ5aPTq5jNmzGDr1q08/PDDfPGLX+Qzn/lMI6p5BAeMIl4mxMzyltPq5q964YUXeN3rXteYFxul7Wd6F/NIKTPLW6VfTMc6+Xv//v0sXLiQl156iWeffZY77rij/oqW4BZGEY+UMrO85fGLaaFL6sknn+TWW2/loosuIlkMvLEcMIp4pJSZ5S3vX0xPP/10nnvuOYaGhhrzgkXy3HFvvaTdkh4tc/7Tkramx6OSRiQdm57bIWlbem4grzqOVryIJEBn56GmohPfZtYIef9i+uSTTzIyMkLX6PWOGiDPHMa1wFeAr5c6GRFXAFcASHof8N8jYk/RJedExHM51q+kQh+iN1UyszyM3uVz3rwkWNTz3VLIYQBEBBs2bKCzs7MBtT1cnjvu3SWpJ+PlFwCNXbi9DnkkpczMChq8ujkjIyONe7EKmp7DkDQTWAJcX1QcwO2StkhaPt518mgpM7MjNT1gAO8DfjSqO2pxRCwEzgU+JumscjdLWi5pQNJAo5I8Hi1lZnakiRAwljKqOyoidqU/dwM3AIvK3RwR6yKiNyJ6u7u7G1KhUkkpCc47ryEvb2YtKI9hrI3UiPo1NWBIei3wq8BNRWVHSZpVeAy8Byg50iovfX1w8cVJkCiIgA0bPFrKzI40ffp0hoeHJ2zQiAiGh4eZPn16Xa+TW9Jb0kbgbGC2pEHgc8BUgIi4Jr3sA8DfRcTPim49DrhBybf1FOCbEXFrXvUs5+abkyBRzIlvMytl7ty5DA4O5jL3oVGmT5/O3Llz63oNTdSIOBa9vb0xMNCYaRsdHUcGDEhaHQcPNuQtzMyaTtKWiOjNcu1EyGFMSE58m5kdzgGjjFKJb4C9e53HMLP25IBRRqkNlcB7ZJhZ+3LAqKCvD44++shy75FhZu3IAaMKz/o2M0s4YFRRLsl97LHjWw8zs2ZzwKhizRqYOvXI8hdfdB7DzNqLA0YVfX3wmtccWf7yy85jmFl7ccDIYM+e0uXOY5hZO3HAyMCT+MzMHDAy8SQ+MzMHjEw8ic/MzAEjM0/iM7N254BRA0/iM7N25oBRg3JJ7o4Od0uZWetzwKhBueT3yIhzGWbW+nILGJLWS9otqeT2qpLOlvS8pK3p8dmic0skPSVpu6TL86pjrQrJ787OI885l2Fmra5qwJB0uqSrJD0iaUjSTyTdLOlj6Z7c5VwLLKny8ndHxML0+Hz6fp3AVcC5wEnABZJOyvZx8tfXV37HPecyzKyVVQwYkm4BPgrcRvLlfzzJl/gfA9OBmyS9v9S9EXEXUGaOdEWLgO0R8XREvAxsAs4fw+vkxgsSmlk7qtbCWBYRl0TE5oj4t4g4EBF7I+LBiPjLiDgbuLeO9z8jbbncIumX07I5wDNF1wymZROGFyQ0s3ZUMWBExHPlzkn6UbVrqngQmBcRJwN/A9w4lheRtFzSgKSBoaGhMValNl6Q0MzaUT1J77pWUoqIFyJib/r4ZmCqpNnALuCEokvnpmXlXmddRPRGRG93d3c9VaqJFyQ0s3ZTT8CIet5Y0uslKX28KK3LMPAAcKKkBZKmAUuBzfW8Vx48J8PM2s2USicl/Ua5U8CMKvduBM4GZksaBD4HTAWIiGuADwGXSjoA7AeWRkQAByRdRpJo7wTWR8RjmT/ROFmzJpl7sW/f4eWFORmQdF2ZmbUKJd/RZU5K/7vSzRHxkYbXqA69vb0xMDAwbu/X3w8XX5wEidHmz4cdO8atKmZmYyJpS0T0Zrq2SsA4A/hxVLpoAhnvgAFJF1S5P53J8admZu2sloBRdVgtsEXSJkm/Len19VevtZTLZUjOZZhZa6k2rPbSiDgV+BPgdcC1kn4s6QuSzkpnZbe1NWuS4DBahIfYmllrqdglVfIGaQZwDsnSHadnbcqMh2Z0SUHpgFEoL7eMiJnZRNCwLilJx44+SEZH3Qd8biIFi2aaP790uYfYmlkrqTisFthCMt+i1O/QAfxiw2s0CXmIrZm1g4oBIyIWjFdFJrNCMCg1xLaw7LkDhplNdplnekt6v6S/SI/35lmpyajSsuc7d45vXczM8pApYEj6ErAKeDw9Vkn6Qp4Vm4w8xNbMWlnWFsZ5wLsjYn1ErCfZG8OtjFE8xNbMWlktiw8eU/S40k57bauvr/zs7p073cows8kta8D4IvCQpGslbSAZPbUmv2pNXuWG2EIyYspBwyyj/n6YPTtptmc9OjuTnx0dtd1X6zER32f27Ny/YDJP3JN0PPD29On9EfHvudVqjJo1ca9Yf3/pIbYFXpSwhfX3w6pVMDxc/2t1dCSjKKR8FyVrtfdpd9Omwfr1NQ3LbORaUsUKuxNNIdlatdzS522trw/WrSt/3iOmJpBG/wZ74YWNCRZwaMhd3l+urfY+7S7nbT+zjpJaD6wHPgi8Lz2c9C6jr69815RHTOWo1gAwli94f/HZRJfjtp/VZnoXvDMiTsqtFi1ozRpYtuzI75XCiClP5BuDRnb5mLWqcuP7GyBrl9SPJdUUMCStl7Rb0qNlzvdJekTSNkn3Sjql6NyOtHyrpOYmJcbII6bGoL8fenrGp8vHrBVNm5b8tpqTrC2Mr5MEjX8Hfk6ytlRExMkV7rkW+Ep6byn/CvxqRPyHpHOBdcA7is6fExHPZazfhDR/fvmchdeYonKLwV0+NhatlsSv5X26uuDKK3P9UskaML5GspnSNiDTgt0RcZekngrn7y16eh8wN2NdJo1yixJCUrZqVZsEDHcl1W4ifiE1433G4UvQsssaMIYiYnOO9bgEuKXoeQC3SxoB/jYiyo47krQcWA4wL8e+u7Eo/Bu/8MLS54eHk+/Slvu/0N+fJGp27my9YZTVvvj8BWctLNM8DElrSWZ6f4+kSwqAiPhulft6gO9HxFsrXHMOsBZYHBHDadmciNgl6T8BPwQ+HhF3VavnRJiHUUpPT/muqZaZl1EcJCYTf8Fbm8tjHsYMkkDxHho4rFbSycBXgfMLwQIgInalP3cDNwCL6n2vZqqUg5q0CfDRQ1gvvLC5waIj/ac8fz5cd13y23+W47nnHCzMMsrUJRURH2n0G0uaB3wXWBYR/1xUfhTQEREvpo/fA3y+0e8/nvr6KnfhT6oEeLPzEW4RmDVNtS1a/zjdlrXc+XeV2xtD0kbgx8CbJQ1KukTSCkkr0ks+C3QBa0cNnz0OuEfSw8D9wA8i4tYaP9eEc+WVMHNm6XOFBPiEVTzcNc+hrVlaCW4RmDVNtRbGNuB7kl4CHgSGgOnAicBC4Hag5L4YEXFBpReOiI8CHy1R/jRwypF3TG6TLgE+XjkJtxjMJo2sSe8TgTOB44H9wBPAXRGxP9/q1WaiJr2LTYoE+MqVcM01jR3dNH9+ksxxYDCbUGpJemfNYfwL8C911cqA5DuzXCujkABvyndqHrkJBwmzllLLarXWAH19SS9MOeO+Z0ZhtFO9uYlS+YcdOxwszFqIA0YTTJgE+MqVyQqJYw0UElx6aRIcRkYcJMxanANGE1TbM6OQAM9NoVVx9dVjz1PMnw/f+AasXdvYupnZhJUphyGpG/hdoKf4noj4nXyq1fr6+ioPQrr44kPXNUy9eQrnJMzaWta1pG4C7iYZRjuSX3XaS6UE+MhIgyf0jXXkk4e9mlkqa8CYGRF/mGtN2lC1GeD79jWgpTHWVoUDhZmNkjWH8X1J5+VakzZVKQEOh1oaY8pp1JrULk5ie0a1mY2SNWCsIgkaL0l6MT1eyLNi7aKQAO/sLH9NzSOnxpLU7upyEtvMKsoUMCJiVkR0RMT09PGsiHhN3pVrF319sGFD5ZZG5pFTtbYqurqSeRNuUZhZFVlzGEh6P3BW+vQfIuL7+VSpPRW+qy++OOmGKqViPqPWXIUEK1a4RWFmmWVqYUj6Ekm31OPpsUrSF/OsWDsqtDTKGRlJGg8rV446MZZWhbufzKxGWRcffARYGBEH0+edwEMRcXLO9avJZFh8MIvZsyt/90vJ931fH0nLYtmybLkKtyrMbJQ8dtyDZIvWgtfWViWrRbWRUxFJ99Q9K/uTB1mChVsVZlanrAHji8BDkq6VtAHYAlTYeBQkrZe0W9KjZc5L0pclbZf0iKRTi84tkfRUeu7yrB+mVWQZOfXXIys54+pl5RMeBYWhsk5qm1mdso6S2gi8k2RL1euB0yPi/1S57VpgSYXz55JsxHQisBy4Gl7t7roqPX8ScIGkk7LUs5UU8hnSkecuoJ+VXEMHVVoWblWYWQNV26L1LenPU0k2TxpMjzcUtwhKiYi7gD0VLjkf+Hok7gOOkXQ8sAjYHhFPR8TLwKb02rbT15ekHIqDRicH+AKrUaVg4VaFmeWg2rDaT5H89v+XJc4F8K463nsO8EzR88G0rFT5O+p4n0lt7Vo488wkVfELI3vZx9Hcw5l0cJC7WcxqvsCZ3MOfczlz2IU6O5OmiQOFmTVYxYAREenyd5wbES8Vn5M0Pbda1UDScpKgxrx585pcm3z09QE/uodlV58BwOX8OfPYwVbexn6OYic9fJMLmcHP+F/LH6Kvb3FzK2xmLSlr0vvejGW12AWcUPR8blpWrrykiFgXEb0R0dvd3V1nlSao/n761p3NCfwEgF3M4ccsZj9HHXbZfo7i4nWLx3fHPjNrG9VyGK+XdBowQ9LbJJ2aHmcDFQZ+ZrIZuCgdLfVO4PmIeBZ4ADhR0gJJ04Cl6bXtqTApb2SEL/BHzORnQIlMeKrs5D4zszpVy2H8N+C3SX7L/6ui8heBP6p0o6SNwNnAbEmDwOeAqQARcQ1wM3AesB3YB3wkPXdA0mXAbUAnsD4iHqvlQ7WM/v7D9rDoYyMAq7iSYWZTLnBEJOsOfutbXqHczBon60zvD0bE9eNQn7q0ykxvIAkWFRaWWsnfcA0riSq9ip7cbWaVNHymd0RcL+nXJP2BpM8WjvqqaWX19yebYFSYlLe285N849J7K07ug0Otjdmzc94n3MxaXtbFB68Bfgv4OEk/yIeB+TnWq72tWpVsglGOBBs20Ld2cdnJfaMND9exEZOZGdlHSZ0RERcB/xERfwqcDrwpv2q1sf7+6isPrljxamKi1OS+cmreiMnMrEjWgFGYg7FP0huAV0hmflsjFfIW5XR2llzqY+3apLirq/pbDA8nwcVdVGZWq6wB43uSjgGuAB4EdgDfzKtSbSlD3qLSDO6+vmQlkEsvzd5FdeGFDhxmll3VgCGpA/j7iPhpOlJqPvCWiHDSu1EKLYtKeYuurkzjY2tpbYADh5llVzVgpJsmXVX0/OcR8XyutWonWVoWM2cmEyoyKrQ2sgYNSAKHJ/yZWSVZu6T+XtIHpSydHVaTaiOiOjuTzTHGMPuu2kZMoxWG4DrHYWalZA0Yvwd8G/i5pBckvSjphRzr1R6qjYiaObOulWcLGzHV0tIocFeVmY2WdeLerIjoiIhpEfGa9Plr8q5cy1u9uvy5OloWxQrdU9ddV1/gkKCnx8HDrJ1lnbj391nKrAb9/bBzZ/nzDd7TohA4IsYePHbudJ7DrJ1VW612uqRjSRYQfJ2kY9Ojh2SjIxuLQqK7nIwjosaq1iG4xZznMGtf1VoYvwdsAd6S/iwcNwFfybdqLaxSorvGEVH1qHUI7mjF3VUOHmatr2LAiIgrI2IB8PsR8YsRsSA9TokIB4yxqJbobkDeohb15jgKHDzMWl+m5c0BJJ0B9FC0h0ZEfD2fao3NpFjevKenfO5i/nzYsWM8a1PSypWHbcNRl44OOHgw+Whr1nhvDrOJpuHLm0v6BvAXwGLg7emR6Q2sSLVE95o141eXCgpdVfMbsB7xwYPJz507D7VAOjs96spsMsq6gdITwEmRtTly6L4lwJUkO+d9NSK+NOr8p4HC75xTgP8MdEfEHkk7SHb2GwEOZImAE7qFUUh0l8tddHUlfUMTUH9/knap1JPWCG6NmI2/hrcwgEeB19dYiU6SJUXOBU4CLpB0UvE1EXFFRCyMiIXAZ4B/jIg9RZeck56f/K2ZCZLoHotG5TmqKdUacYvEbOLIGjBmA49Luk3S5sJR5Z5FwPaIeDoiXgY2AedXuP4CSDetbjUTLNE9Vo2YyzEW5QJJ8eFEu1n+sgaMPwF+HfgC8JdFRyVzgGeKng9SZu6GpJnAEqB43/AAbpe0RVKFSQuTQKUZ3fPnT4pgMVqzgkc5xaO0qh1usZiNTdalQf6RZA+MqenjB0j2xWiU9wE/GtUdtTjtqjoX+Jiks0rdKGm5pAFJA0NDQw2sUoNMkkR3PSZa8KgmS4ulWrCZMsVBx9pP1lFSvwt8B/jbtGgOcGOV23YBJxQ9n5uWlbKUUd1REbEr/bkbuIGki+sIEbEuInojore7u7tKlcZZk2d0N0Nx8CgckyGIZFUINoXV6McSdGoJTB0djX9tB0Abs4ioegBbgWnAQ0Vl26rcMwV4GliQ3vsw8MslrnstsAc4qqjsKGBW0eN7gSXV6nnaaafFhDJ/fvH35uHHzJkR113X7Bo2xXXXHfqjkcr/EflonaOjY3z+vtv5fbq6xvaVAgxEVI8DEZE5h/HzSBLXAEiaAkSVQHQAuAy4DXgC+FZEPCZphaQVRZd+APi7iPhZUdlxwD2SHgbuB34QEbdmrOvEUakrapIkuvPQ15fMT4xIfmMv/JO/7rpDcz+880prKbTMouK3ht+nnvcZHobf+Z18W4hZ52H8T+CnwEXAx4GVwOMRUSGbO/4m1DyM/v5kaddSf74TZEb3ZNHfn4wb2LkzCSR5/yc1m8xq/XrJYx7G5cAQsI1kQcKbgT/OXqU2tHp16W82qSUS3eOpXIvELROzI/3kJ/m9dtaAMQNYHxEfjogPAevTMiul0sioiLbtispLtYDSyADTkfV/jFmTzJuX32tn3tObwwPEDOD2xlenBVQbGdWIBZqsLrUGmOJjZGR8WjWFwJR3i8kBsLVMm5ZvB0bWfy7TI2Jv4Un6eGY+VZrkVq+uvASIu6NaQj1Bp5bAlMdrt0MAbMf36eqC9evz7cCYUv0SAH4m6dSIeBBA0mnA/vyqNYlV6kBs45FRNrH19fmfplWXNWB8Evi2pH8DRLIQ4W/lVqvJ7NhjS68bNUmXADEzK8gUMCLiAUlvAd6cFj0VEa/kV61Jqr8fXnjhyPK8OxbNzMZB1hYGJJsm9aT3nCqJmGA77jXd6tXwSok4OmuWWxdmNullChjpjntvJFkiJF1FhwAcMAoqDaXds6d0uZnZJJK1hdHLGHbcaxvVhtLmOTDazGyc5LbjXlvxUFozawNZWxiFHffuB35eKIyI9+dSq8nGQ2nNrA1kDRh/kmclJj0PpTWzNpB1WO0/SjqOZKQUwP2RbGxkHkprZm0i6457v0myL8WHgd8E/knSh/Ks2KThobRm1iaydkmtBt5eaFVI6iZZfPA7eVVsUvBQWjNrI1lHSXWM6oIaznKvpCWSnpK0XdLlJc6fLel5SVvT47NZ7206D6U1szaTtYVxq6TbgI3p898Cbql0g6RO4Crg3cAg8ICkzRHx+KhL746I947x3ubxUFozazNZk96flvQbwOK0aF1E3FDltkXA9oh4GkDSJuB8IMuXfj33jg8PpTWzNlOxW0nSL0k6EyAivhsRn4qITwFDkt5Y5bXnAM8UPR9My0Y7Q9Ijkm6R9Ms13ouk5ZIGJA0MDQ1VqVIDHXts6XIPpTWzFlUtD/HXQIkxozyfnqvXg8C8iDgZ+BvgxlpfICLWRURvRPR2d3c3oEoZeCitmbWhagHjuIjYNrowLeupcu8u4ISi53PTsuLXeaGwk19E3AxMlTQ7y71N5aG0ZtaGqgWMYyqcm1HhHMADwImSFkiaBiwFNhdfIOn1UrL5oKRFaX2Gs9zbVOXyFx5Ka2YtrFrAGJD0u6MLJX0U2FLpxog4AFwG3AY8AXwrIh6TtELSivSyDwGPSnoY+DKwNBIl763lg+Wq3JBZD6U1sxZWbZTUJ4EbJPVxKED0AtOAD1R78bSb6eZRZdcUPf4K8JWs904I/f2wd++R5R5Ka2YtrmLAiIj/RzKK6RzgrWnxDyLijtxrNhEVJuuNnn/R1QVXXun8hZm1tKzzMO4E7sy5LhNfucl6Rx/tYGFmLS/r0iAG5ZPdlSbxmZm1CAeMrPr7oaPMH5eT3WbWBhwwsijkLkZGjjznZLeZtQkHjCzK5S46O71ulJm1DQeMLMrlKA4edLAws7bhgJGFJ+qZmTlgZHLeeZCsYHKIcxdm1mYcMKrp74cNGyDiUJkEF1/s7igzaysOGNWUSnhHwM0Tb9USM7M8OWBU48l6ZmaAA0ZlnqxnZvYqB4xyPFnPzOwwDhjleLKemdlhHDDK8WQ9M7PD5BowJC2R9JSk7ZIuL3G+T9IjkrZJulfSKUXndqTlWyUN5FnPkjxZz8zsMLkFDEmdwFXAucBJwAWSThp12b8CvxoRvwL8GbBu1PlzImJhRPTmVc+y1qxJchXFnLswszaWZwtjEbA9Ip6OiJeBTcD5xRdExL0R8R/p0/uAuTnWp3YzZhx63NXl3IWZtbU8A8Yc4Jmi54NpWTmXALcUPQ/gdklbJC0vd5Ok5ZIGJA0MDQ3VVeFXFUZIDQ8fKtu/vzGvbWY2SU2IpHe6Z/glwB8WFS+OiIUkXVofk3RWqXsjYl1E9EZEb3d3d2MqVGqE1L59SbmZWZvKM2DsAk4oej43LTuMpJOBrwLnR8Srv9JHxK70527gBpIurvHh2d1mZkfIM2A8AJwoaYGkacBSYHPxBZLmAd8FlkXEPxeVHyVpVuEx8B7g0RzrejiPkDIzO8KUvF44Ig5Iugy4DegE1kfEY5JWpOevAT4LdAFrlSwffiAdEXUccENaNgX4ZkTcmlddD9PfD3v3HlnuEVJm1uYUxct2T3K9vb0xMFDHlI1Csnt0/qKrC6680iOkzKzlSNqSderChEh6TxjllgM5+mgHCzNrew4YxZzsNjMrywGjmJPdZmZlOWAU83IgZmZlOWCM5uVAzMxKym1Y7aRTaoSUlwMxM3uVWxgFXg7EzKwiB4wCj5AyM6vIAaPAI6TMzCpywCjwCCkzs4ocMCBJeBdyGJ2dSdn8+R4hZWZWxKOkRo+OGhk51LJwsDAze5VbGB4dZWaWiQOGR0eZmWXigOHRUWZmmeQaMCQtkfSUpO2SLi9xXpK+nJ5/RNKpWe9tGI+OMjPLJLeAIakTuAo4FzgJuEDSSaMuOxc4MT2WA1fXcG/jeP0oM7Oq8mxhLAK2R8TTEfEysAk4f9Q15wNfj8R9wDGSjs94b/0KI6SGhw+Vef0oM7OS8gwYc4Bnip4PpmVZrslyb/08QsrMLLNJn/SWtFzSgKSBoaGh2m72CCkzs8zyDBi7gBOKns9Ny7Jck+VeACJiXUSqaxUqAAAFi0lEQVT0RkRvd3d3bTX0CCkzs8zyDBgPACdKWiBpGrAU2Dzqms3AReloqXcCz0fEsxnvrZ9HSJmZZZbb0iARcUDSZcBtQCewPiIek7QiPX8NcDNwHrAd2Ad8pNK9Da9kYSTU6tVJN9S8eV4SxMysDEVEs+vQML29vTEwMNDsapiZTRqStkREb5ZrJ33S28zMxocDhpmZZeKAYWZmmThgmJlZJg4YZmaWSUuNkpI0BOwc4+2zgecaWJ3JwJ+5PbTjZ4b2/Nxj+czzIyLTrOeWChj1kDSQdWhZq/Bnbg/t+JmhPT933p/ZXVJmZpaJA4aZmWXigHHIumZXoAn8mdtDO35maM/Pnetndg7DzMwycQvDzMwyafuAIWmJpKckbZd0ebPrMx4krZe0W9Kjza7LeJF0gqQ7JT0u6TFJq5pdp7xJmi7pfkkPp5/5T5tdp/EiqVPSQ5K+3+y6jAdJOyRtk7RVUm4rsLZ1l5SkTuCfgXeTbAP7AHBBRDze1IrlTNJZwF6S/dTf2uz6jId0r/jjI+JBSbOALcCvt/LftSQBR0XEXklTgXuAVRFxX5OrljtJnwJ6gddExHubXZ+8SdoB9EZErvNO2r2FsQjYHhFPR8TLwCbg/CbXKXcRcRewp9n1GE8R8WxEPJg+fhF4gjz2iZ9AIrE3fTo1PVr+N0RJc4FfA77a7Lq0mnYPGHOAZ4qeD9LiXyIGknqAtwH/1Nya5C/tmtkK7AZ+GBEt/5mBvwb+ADjY7IqMowBul7RF0vK83qTdA4a1GUlHA9cDn4yIF5pdn7xFxEhELATmAosktXQXpKT3ArsjYkuz6zLOFqd/z+cCH0u7nRuu3QPGLuCEoudz0zJrQWk//vVAf0R8t9n1GU8R8VPgTmBJs+uSszOB96d9+puAd0m6rrlVyl9E7Ep/7gZuIOlub7h2DxgPACdKWiBpGrAU2NzkOlkO0gTw14AnIuKvml2f8SCpW9Ix6eMZJIM7nmxurfIVEZ+JiLkR0UPy//mOiLiwydXKlaSj0oEcSDoKeA+QywjItg4YEXEAuAy4jSQJ+q2IeKy5tcqfpI3Aj4E3SxqUdEmz6zQOzgSWkfzGuTU9zmt2pXJ2PHCnpEdIfjn6YUS0xTDTNnMccI+kh4H7gR9ExK15vFFbD6s1M7Ps2rqFYWZm2TlgmJlZJg4YZmaWiQOGmZll4oBhZmaZOGCYmVkmDhhmFUg6RtLK9PEbJH2nga/9SUkXVTj/Xkmfb9T7mdXL8zDMKkgXKvx+o5eBlzQFeBA4NZ1AWuoapdecGRH7Gvn+ZmPhFoZZZV8C3pjODP92YdMpSb8t6UZJP0w3r7lM0qfSTXvuk3Rset0bJd2ariJ6t6S3pK/7LuDBQrCQ9Il0c6dHJG2CZHly4B+Alt/PwSYHBwyzyi4H/m+6EuinR517K/AbwNuBNcC+iHgbybIrha6mdcDHI+I04PeBtWn5mSSbOBW/z9si4mRgRVH5APBfGvdxzMZuSrMrYDaJ3ZluxvSipOeB76Xl24CT06XUzwC+nfQuAfAL6c/jSdYvK3gE6Jd0I3BjUflu4A051d+sJg4YZmP386LHB4ueHyT5v9UB/DRtnYy2H5he9PzXgLOA9wGrJf1K2l01Pb3WrOncJWVW2YvArLHcmG7Q9K+SPgxJElvSKenpJ4BfSss7gBMi4k7gD4HXAken172JnJaqNquVA4ZZBRExDPwoTXZfMYaX6AMuSZeefoxDe8bfQtKiAOgErpO0DXgI+HK64RHAOcAPxlp/s0bysFqzJpF0A/AHEfEvZc4fB3wzIv7r+NbMrDQHDLMmkfRm4LiIuKvM+bcDr0TE1vGtmVlpDhhmZpaJcxhmZpaJA4aZmWXigGFmZpk4YJiZWSYOGGZmlsn/B0kdMWg2mS4qAAAAAElFTkSuQmCC\n",
          "text/plain": "<matplotlib.figure.Figure at 0x1942ee40828>"
         },
         "metadata": {
          "needs_background": "light"
         },
         "output_type": "display_data"
        }
       ]
      }
     },
     "2bb755238d84453e892df9ab1f225a8d": {
      "model_module": "@jupyter-widgets/output",
      "model_module_version": "1.0.0",
      "model_name": "OutputModel",
      "state": {
       "layout": "IPY_MODEL_d887846e932544fc8370df9783a1cbd1",
       "outputs": [
        {
         "ename": "TypeError",
         "evalue": "FirstOrder_RKtev() takes 3 positional arguments but 4 were given",
         "output_type": "error",
         "traceback": [
          "\u001b[1;31m---------------------------------------------------------------------------\u001b[0m",
          "\u001b[1;31mTypeError\u001b[0m                                 Traceback (most recent call last)",
          "\u001b[1;32m~\\Anaconda3\\lib\\site-packages\\ipywidgets\\widgets\\interaction.py\u001b[0m in \u001b[0;36mupdate\u001b[1;34m(self, *args)\u001b[0m\n\u001b[0;32m    249\u001b[0m                     \u001b[0mvalue\u001b[0m \u001b[1;33m=\u001b[0m \u001b[0mwidget\u001b[0m\u001b[1;33m.\u001b[0m\u001b[0mget_interact_value\u001b[0m\u001b[1;33m(\u001b[0m\u001b[1;33m)\u001b[0m\u001b[1;33m\u001b[0m\u001b[0m\n\u001b[0;32m    250\u001b[0m                     \u001b[0mself\u001b[0m\u001b[1;33m.\u001b[0m\u001b[0mkwargs\u001b[0m\u001b[1;33m[\u001b[0m\u001b[0mwidget\u001b[0m\u001b[1;33m.\u001b[0m\u001b[0m_kwarg\u001b[0m\u001b[1;33m]\u001b[0m \u001b[1;33m=\u001b[0m \u001b[0mvalue\u001b[0m\u001b[1;33m\u001b[0m\u001b[0m\n\u001b[1;32m--> 251\u001b[1;33m                 \u001b[0mself\u001b[0m\u001b[1;33m.\u001b[0m\u001b[0mresult\u001b[0m \u001b[1;33m=\u001b[0m \u001b[0mself\u001b[0m\u001b[1;33m.\u001b[0m\u001b[0mf\u001b[0m\u001b[1;33m(\u001b[0m\u001b[1;33m**\u001b[0m\u001b[0mself\u001b[0m\u001b[1;33m.\u001b[0m\u001b[0mkwargs\u001b[0m\u001b[1;33m)\u001b[0m\u001b[1;33m\u001b[0m\u001b[0m\n\u001b[0m\u001b[0;32m    252\u001b[0m                 \u001b[0mshow_inline_matplotlib_plots\u001b[0m\u001b[1;33m(\u001b[0m\u001b[1;33m)\u001b[0m\u001b[1;33m\u001b[0m\u001b[0m\n\u001b[0;32m    253\u001b[0m                 \u001b[1;32mif\u001b[0m \u001b[0mself\u001b[0m\u001b[1;33m.\u001b[0m\u001b[0mauto_display\u001b[0m \u001b[1;32mand\u001b[0m \u001b[0mself\u001b[0m\u001b[1;33m.\u001b[0m\u001b[0mresult\u001b[0m \u001b[1;32mis\u001b[0m \u001b[1;32mnot\u001b[0m \u001b[1;32mNone\u001b[0m\u001b[1;33m:\u001b[0m\u001b[1;33m\u001b[0m\u001b[0m\n",
          "\u001b[1;32m<ipython-input-10-310a8897b9bb>\u001b[0m in \u001b[0;36mf\u001b[1;34m(A0, B0, k_1)\u001b[0m\n\u001b[0;32m     11\u001b[0m \u001b[1;33m\u001b[0m\u001b[0m\n\u001b[0;32m     12\u001b[0m     \u001b[1;32mfor\u001b[0m \u001b[0mki\u001b[0m \u001b[1;32min\u001b[0m \u001b[0mrange\u001b[0m\u001b[1;33m(\u001b[0m\u001b[1;36m0\u001b[0m\u001b[1;33m,\u001b[0m\u001b[0mNT\u001b[0m\u001b[1;33m)\u001b[0m\u001b[1;33m:\u001b[0m\u001b[1;33m\u001b[0m\u001b[0m\n\u001b[1;32m---> 13\u001b[1;33m         \u001b[0mA1\u001b[0m\u001b[1;33m,\u001b[0m\u001b[0mB1\u001b[0m \u001b[1;33m=\u001b[0m \u001b[0mFirstOrder_RKtev\u001b[0m\u001b[1;33m(\u001b[0m\u001b[0mA0\u001b[0m\u001b[1;33m,\u001b[0m\u001b[0mB0\u001b[0m\u001b[1;33m,\u001b[0m\u001b[0mdt\u001b[0m\u001b[1;33m,\u001b[0m\u001b[1;33m-\u001b[0m\u001b[0mk_1\u001b[0m\u001b[1;33m)\u001b[0m\u001b[1;33m;\u001b[0m\u001b[1;33m\u001b[0m\u001b[0m\n\u001b[0m\u001b[0;32m     14\u001b[0m         \u001b[0mplt\u001b[0m\u001b[1;33m.\u001b[0m\u001b[0mplot\u001b[0m\u001b[1;33m(\u001b[0m\u001b[0mki\u001b[0m\u001b[1;33m*\u001b[0m\u001b[0mdt\u001b[0m\u001b[1;33m,\u001b[0m\u001b[0mA0\u001b[0m\u001b[1;33m,\u001b[0m\u001b[1;34m'ro'\u001b[0m\u001b[1;33m)\u001b[0m\u001b[1;33m;\u001b[0m\u001b[1;33m\u001b[0m\u001b[0m\n\u001b[0;32m     15\u001b[0m         \u001b[0mplt\u001b[0m\u001b[1;33m.\u001b[0m\u001b[0mplot\u001b[0m\u001b[1;33m(\u001b[0m\u001b[0mki\u001b[0m\u001b[1;33m*\u001b[0m\u001b[0mdt\u001b[0m\u001b[1;33m,\u001b[0m\u001b[0mB0\u001b[0m\u001b[1;33m,\u001b[0m\u001b[1;34m'bo'\u001b[0m\u001b[1;33m)\u001b[0m\u001b[1;33m;\u001b[0m\u001b[1;33m\u001b[0m\u001b[0m\n",
          "\u001b[1;31mTypeError\u001b[0m: FirstOrder_RKtev() takes 3 positional arguments but 4 were given"
         ]
        }
       ]
      }
     },
     "2bd0d8e5546e4bdba3547f3e9a3faa43": {
      "model_module": "@jupyter-widgets/controls",
      "model_module_version": "1.4.0",
      "model_name": "SliderStyleModel",
      "state": {
       "description_width": ""
      }
     },
     "2c503e158801473598b963acb23293af": {
      "model_module": "@jupyter-widgets/controls",
      "model_module_version": "1.4.0",
      "model_name": "SliderStyleModel",
      "state": {
       "description_width": ""
      }
     },
     "2d1ec3a557944132bb5cd503e410ffd2": {
      "model_module": "@jupyter-widgets/output",
      "model_module_version": "1.0.0",
      "model_name": "OutputModel",
      "state": {
       "layout": "IPY_MODEL_62dfdf821b424cf992d575084a4218cc",
       "outputs": [
        {
         "data": {
          "image/png": "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\n",
          "text/plain": "<matplotlib.figure.Figure at 0x1942d319278>"
         },
         "metadata": {
          "needs_background": "light"
         },
         "output_type": "display_data"
        }
       ]
      }
     },
     "2d4190b3629849f8987281733ae63564": {
      "model_module": "@jupyter-widgets/controls",
      "model_module_version": "1.4.0",
      "model_name": "FloatSliderModel",
      "state": {
       "description": "k_1",
       "layout": "IPY_MODEL_fd391b2f85b8460dbd9d18d574d5313e",
       "max": 10,
       "step": 0.1,
       "style": "IPY_MODEL_9ca7310a0dad426eab441f0aa98b6ab2",
       "value": 5
      }
     },
     "2dc25779815e4c039ca8986416594ac3": {
      "model_module": "@jupyter-widgets/base",
      "model_module_version": "1.1.0",
      "model_name": "LayoutModel",
      "state": {}
     },
     "3028dff47d77402b9b01e26f17caca17": {
      "model_module": "@jupyter-widgets/controls",
      "model_module_version": "1.4.0",
      "model_name": "SliderStyleModel",
      "state": {
       "description_width": ""
      }
     },
     "327552aa92e34291aee209c594dc9a38": {
      "model_module": "@jupyter-widgets/controls",
      "model_module_version": "1.4.0",
      "model_name": "IntSliderModel",
      "state": {
       "description": "B0",
       "layout": "IPY_MODEL_4e853f5132a94e719c6268efc353c3ce",
       "max": 10,
       "style": "IPY_MODEL_1bf5207a18864ccb85191b7546a5428f",
       "value": 5
      }
     },
     "341b04efc5e14b0791034568ff4b4e4e": {
      "model_module": "@jupyter-widgets/base",
      "model_module_version": "1.1.0",
      "model_name": "LayoutModel",
      "state": {}
     },
     "344ad91f8a0e4ccda9c6e0bd6668dc0b": {
      "model_module": "@jupyter-widgets/controls",
      "model_module_version": "1.4.0",
      "model_name": "IntSliderModel",
      "state": {
       "description": "A0",
       "layout": "IPY_MODEL_ef5b357dc94f4dda96e374584349c68a",
       "max": 10,
       "style": "IPY_MODEL_15073aca38b245689adc4c0572982c86",
       "value": 6
      }
     },
     "347d1d998f594563be6f567d422ea0fa": {
      "model_module": "@jupyter-widgets/base",
      "model_module_version": "1.1.0",
      "model_name": "LayoutModel",
      "state": {}
     },
     "352d33552165496ba0754b58ed572346": {
      "model_module": "@jupyter-widgets/base",
      "model_module_version": "1.1.0",
      "model_name": "LayoutModel",
      "state": {}
     },
     "356afece547b4a5fb6d8cf87c57dbb42": {
      "model_module": "@jupyter-widgets/base",
      "model_module_version": "1.1.0",
      "model_name": "LayoutModel",
      "state": {}
     },
     "364b50e6e40b4f10b2beb55593ae54c8": {
      "model_module": "@jupyter-widgets/controls",
      "model_module_version": "1.4.0",
      "model_name": "FloatSliderModel",
      "state": {
       "description": "k_1",
       "layout": "IPY_MODEL_53f0c940d284423699a66f2983737e1a",
       "max": 10,
       "step": 0.1,
       "style": "IPY_MODEL_8d165d4a4cad441aa6106599940d855e",
       "value": 1.6
      }
     },
     "3661dcc9732d4695b41bbf81c9e9d699": {
      "model_module": "@jupyter-widgets/base",
      "model_module_version": "1.1.0",
      "model_name": "LayoutModel",
      "state": {}
     },
     "3680d304f2ac4ce19f3ab77e32e060ab": {
      "model_module": "@jupyter-widgets/base",
      "model_module_version": "1.1.0",
      "model_name": "LayoutModel",
      "state": {}
     },
     "36df3a9462004734924e24f7699f62b4": {
      "model_module": "@jupyter-widgets/controls",
      "model_module_version": "1.4.0",
      "model_name": "SliderStyleModel",
      "state": {
       "description_width": ""
      }
     },
     "36f11d18efb54df3ac8da44480de5ff9": {
      "model_module": "@jupyter-widgets/controls",
      "model_module_version": "1.4.0",
      "model_name": "SliderStyleModel",
      "state": {
       "description_width": ""
      }
     },
     "3727a1d89c9f44f3b66825c438ede721": {
      "model_module": "@jupyter-widgets/controls",
      "model_module_version": "1.4.0",
      "model_name": "ButtonModel",
      "state": {
       "description": "Run Interact",
       "layout": "IPY_MODEL_e00cf8e10e5243acaaf19545e22840c0",
       "style": "IPY_MODEL_b5e7def8812140f0a5ddbd48c895e8d5"
      }
     },
     "374a49c7847042269e5c858247e7f173": {
      "model_module": "@jupyter-widgets/controls",
      "model_module_version": "1.4.0",
      "model_name": "FloatSliderModel",
      "state": {
       "description": "k_1",
       "layout": "IPY_MODEL_39b5da2022024f12be2c0fbad70ac9cb",
       "max": 10,
       "step": 0.1,
       "style": "IPY_MODEL_e568b3cf14d6488ab84f017573774063",
       "value": 5.2
      }
     },
     "37916d370ef54516a5f5723417a401ab": {
      "model_module": "@jupyter-widgets/controls",
      "model_module_version": "1.4.0",
      "model_name": "SliderStyleModel",
      "state": {
       "description_width": ""
      }
     },
     "3888a236e59f4104ac25b42abbaad188": {
      "model_module": "@jupyter-widgets/controls",
      "model_module_version": "1.4.0",
      "model_name": "SliderStyleModel",
      "state": {
       "description_width": ""
      }
     },
     "38c7eb5a48d44d97b7cd736106265621": {
      "model_module": "@jupyter-widgets/controls",
      "model_module_version": "1.4.0",
      "model_name": "SliderStyleModel",
      "state": {
       "description_width": ""
      }
     },
     "39111cc86d9f406c90c2243be39da491": {
      "model_module": "@jupyter-widgets/controls",
      "model_module_version": "1.4.0",
      "model_name": "IntSliderModel",
      "state": {
       "description": "A0",
       "layout": "IPY_MODEL_9826e581c2c7420fa4bf7c0fa1a850aa",
       "max": 10,
       "style": "IPY_MODEL_4750324d88844b84904736053834f62e",
       "value": 5
      }
     },
     "393519c72f024cddb6ecb95cb73c463c": {
      "model_module": "@jupyter-widgets/controls",
      "model_module_version": "1.4.0",
      "model_name": "SliderStyleModel",
      "state": {
       "description_width": ""
      }
     },
     "3984bb97519b46bebdb461f9b6957856": {
      "model_module": "@jupyter-widgets/controls",
      "model_module_version": "1.4.0",
      "model_name": "SliderStyleModel",
      "state": {
       "description_width": ""
      }
     },
     "39b5da2022024f12be2c0fbad70ac9cb": {
      "model_module": "@jupyter-widgets/base",
      "model_module_version": "1.1.0",
      "model_name": "LayoutModel",
      "state": {}
     },
     "3a1099344ae9485aaa4a6e32af8fe1ca": {
      "model_module": "@jupyter-widgets/base",
      "model_module_version": "1.1.0",
      "model_name": "LayoutModel",
      "state": {}
     },
     "3a2a87971e13425e8ae437840c178b1a": {
      "model_module": "@jupyter-widgets/controls",
      "model_module_version": "1.4.0",
      "model_name": "IntSliderModel",
      "state": {
       "description": "B0",
       "layout": "IPY_MODEL_eb621859189041caaa68ca3f4d6956ea",
       "max": 10,
       "style": "IPY_MODEL_56a5260c5b3c44feb603bc177882b762",
       "value": 5
      }
     },
     "3c847e18e0e34508993e626f179f79ea": {
      "model_module": "@jupyter-widgets/base",
      "model_module_version": "1.1.0",
      "model_name": "LayoutModel",
      "state": {}
     },
     "3cc35debc20941b09ad8244fca46243f": {
      "model_module": "@jupyter-widgets/output",
      "model_module_version": "1.0.0",
      "model_name": "OutputModel",
      "state": {
       "layout": "IPY_MODEL_da2171462a9c416a9832b6a0a8d83276",
       "outputs": [
        {
         "data": {
          "image/png": "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\n",
          "text/plain": "<matplotlib.figure.Figure at 0x1942c851e80>"
         },
         "metadata": {
          "needs_background": "light"
         },
         "output_type": "display_data"
        }
       ]
      }
     },
     "3db79b3d9c5142a9a04ae4ec12b9fed0": {
      "model_module": "@jupyter-widgets/controls",
      "model_module_version": "1.4.0",
      "model_name": "IntSliderModel",
      "state": {
       "description": "B0",
       "layout": "IPY_MODEL_18e1f49a15e2435692cbf63c98258036",
       "max": 10,
       "style": "IPY_MODEL_f032f8b6e937480fa8ef207f95e30810",
       "value": 5
      }
     },
     "3e22f03177414f90aa9610a22bce1055": {
      "model_module": "@jupyter-widgets/base",
      "model_module_version": "1.1.0",
      "model_name": "LayoutModel",
      "state": {}
     },
     "3ea9ba6062b04fec924ba7113d8e28d3": {
      "model_module": "@jupyter-widgets/controls",
      "model_module_version": "1.4.0",
      "model_name": "SliderStyleModel",
      "state": {
       "description_width": ""
      }
     },
     "3f6e1911e43b4371862fe8ed41d27fe4": {
      "model_module": "@jupyter-widgets/output",
      "model_module_version": "1.0.0",
      "model_name": "OutputModel",
      "state": {
       "layout": "IPY_MODEL_023aad128ee5499e98b38f9ac280db69",
       "outputs": [
        {
         "ename": "TypeError",
         "evalue": "FirstOrder_RKtev() missing 1 required positional argument: 'k_1'",
         "output_type": "error",
         "traceback": [
          "\u001b[1;31m---------------------------------------------------------------------------\u001b[0m",
          "\u001b[1;31mTypeError\u001b[0m                                 Traceback (most recent call last)",
          "\u001b[1;32m~\\Anaconda3\\lib\\site-packages\\ipywidgets\\widgets\\interaction.py\u001b[0m in \u001b[0;36mupdate\u001b[1;34m(self, *args)\u001b[0m\n\u001b[0;32m    249\u001b[0m                     \u001b[0mvalue\u001b[0m \u001b[1;33m=\u001b[0m \u001b[0mwidget\u001b[0m\u001b[1;33m.\u001b[0m\u001b[0mget_interact_value\u001b[0m\u001b[1;33m(\u001b[0m\u001b[1;33m)\u001b[0m\u001b[1;33m\u001b[0m\u001b[0m\n\u001b[0;32m    250\u001b[0m                     \u001b[0mself\u001b[0m\u001b[1;33m.\u001b[0m\u001b[0mkwargs\u001b[0m\u001b[1;33m[\u001b[0m\u001b[0mwidget\u001b[0m\u001b[1;33m.\u001b[0m\u001b[0m_kwarg\u001b[0m\u001b[1;33m]\u001b[0m \u001b[1;33m=\u001b[0m \u001b[0mvalue\u001b[0m\u001b[1;33m\u001b[0m\u001b[0m\n\u001b[1;32m--> 251\u001b[1;33m                 \u001b[0mself\u001b[0m\u001b[1;33m.\u001b[0m\u001b[0mresult\u001b[0m \u001b[1;33m=\u001b[0m \u001b[0mself\u001b[0m\u001b[1;33m.\u001b[0m\u001b[0mf\u001b[0m\u001b[1;33m(\u001b[0m\u001b[1;33m**\u001b[0m\u001b[0mself\u001b[0m\u001b[1;33m.\u001b[0m\u001b[0mkwargs\u001b[0m\u001b[1;33m)\u001b[0m\u001b[1;33m\u001b[0m\u001b[0m\n\u001b[0m\u001b[0;32m    252\u001b[0m                 \u001b[0mshow_inline_matplotlib_plots\u001b[0m\u001b[1;33m(\u001b[0m\u001b[1;33m)\u001b[0m\u001b[1;33m\u001b[0m\u001b[0m\n\u001b[0;32m    253\u001b[0m                 \u001b[1;32mif\u001b[0m \u001b[0mself\u001b[0m\u001b[1;33m.\u001b[0m\u001b[0mauto_display\u001b[0m \u001b[1;32mand\u001b[0m \u001b[0mself\u001b[0m\u001b[1;33m.\u001b[0m\u001b[0mresult\u001b[0m \u001b[1;32mis\u001b[0m \u001b[1;32mnot\u001b[0m \u001b[1;32mNone\u001b[0m\u001b[1;33m:\u001b[0m\u001b[1;33m\u001b[0m\u001b[0m\n",
          "\u001b[1;32m<ipython-input-23-4ccd5c26897b>\u001b[0m in \u001b[0;36mfrev\u001b[1;34m(A0, B0, k_1, km1)\u001b[0m\n\u001b[0;32m     11\u001b[0m     \u001b[0mk\u001b[0m \u001b[1;33m=\u001b[0m \u001b[0mnp\u001b[0m\u001b[1;33m.\u001b[0m\u001b[0marray\u001b[0m\u001b[1;33m(\u001b[0m\u001b[1;33m[\u001b[0m\u001b[1;33m[\u001b[0m\u001b[1;33m-\u001b[0m\u001b[0mk_1\u001b[0m\u001b[1;33m,\u001b[0m\u001b[0mk_1\u001b[0m\u001b[1;33m]\u001b[0m\u001b[1;33m,\u001b[0m\u001b[1;33m[\u001b[0m\u001b[0mkm1\u001b[0m\u001b[1;33m,\u001b[0m \u001b[1;33m-\u001b[0m\u001b[0mkm1\u001b[0m\u001b[1;33m]\u001b[0m\u001b[1;33m]\u001b[0m\u001b[1;33m)\u001b[0m\u001b[1;33m;\u001b[0m\u001b[1;33m\u001b[0m\u001b[0m\n\u001b[0;32m     12\u001b[0m     \u001b[1;32mfor\u001b[0m \u001b[0mki\u001b[0m \u001b[1;32min\u001b[0m \u001b[0mrange\u001b[0m\u001b[1;33m(\u001b[0m\u001b[1;36m0\u001b[0m\u001b[1;33m,\u001b[0m\u001b[0mNT\u001b[0m\u001b[1;33m)\u001b[0m\u001b[1;33m:\u001b[0m\u001b[1;33m\u001b[0m\u001b[0m\n\u001b[1;32m---> 13\u001b[1;33m         \u001b[0mA1\u001b[0m\u001b[1;33m,\u001b[0m\u001b[0mB1\u001b[0m \u001b[1;33m=\u001b[0m \u001b[0mFirstOrder_RKtev\u001b[0m\u001b[1;33m(\u001b[0m\u001b[0mC0\u001b[0m\u001b[1;33m,\u001b[0m\u001b[0mdt\u001b[0m\u001b[1;33m,\u001b[0m\u001b[0mk\u001b[0m\u001b[1;33m)\u001b[0m\u001b[1;33m;\u001b[0m\u001b[1;33m\u001b[0m\u001b[0m\n\u001b[0m\u001b[0;32m     14\u001b[0m         \u001b[0mplt\u001b[0m\u001b[1;33m.\u001b[0m\u001b[0mplot\u001b[0m\u001b[1;33m(\u001b[0m\u001b[0mki\u001b[0m\u001b[1;33m*\u001b[0m\u001b[0mdt\u001b[0m\u001b[1;33m,\u001b[0m\u001b[0mA0\u001b[0m\u001b[1;33m,\u001b[0m\u001b[1;34m'ro'\u001b[0m\u001b[1;33m)\u001b[0m\u001b[1;33m;\u001b[0m\u001b[1;33m\u001b[0m\u001b[0m\n\u001b[0;32m     15\u001b[0m         \u001b[0mplt\u001b[0m\u001b[1;33m.\u001b[0m\u001b[0mplot\u001b[0m\u001b[1;33m(\u001b[0m\u001b[0mki\u001b[0m\u001b[1;33m*\u001b[0m\u001b[0mdt\u001b[0m\u001b[1;33m,\u001b[0m\u001b[0mB0\u001b[0m\u001b[1;33m,\u001b[0m\u001b[1;34m'bo'\u001b[0m\u001b[1;33m)\u001b[0m\u001b[1;33m;\u001b[0m\u001b[1;33m\u001b[0m\u001b[0m\n",
          "\u001b[1;31mTypeError\u001b[0m: FirstOrder_RKtev() missing 1 required positional argument: 'k_1'"
         ]
        }
       ]
      }
     },
     "3fdfb63c1c964c7687cfa70ad994994f": {
      "model_module": "@jupyter-widgets/base",
      "model_module_version": "1.1.0",
      "model_name": "LayoutModel",
      "state": {}
     },
     "4028e27f89034e398769461cc86ff7f9": {
      "model_module": "@jupyter-widgets/controls",
      "model_module_version": "1.4.0",
      "model_name": "FloatSliderModel",
      "state": {
       "description": "k_1",
       "layout": "IPY_MODEL_f02537e0176a47f98bb39059fd833e45",
       "max": 10,
       "step": 0.1,
       "style": "IPY_MODEL_b35b5b790ecd4f7a82939fd31cd4ac23",
       "value": 6.6
      }
     },
     "404a9aea2c5c4ab4b7a8921dedb2188e": {
      "model_module": "@jupyter-widgets/controls",
      "model_module_version": "1.4.0",
      "model_name": "FloatSliderModel",
      "state": {
       "description": "k_1",
       "layout": "IPY_MODEL_e25646ec826943a0b7c955857c12dd07",
       "max": 10,
       "step": 0.1,
       "style": "IPY_MODEL_26e8dcd6313d4c2d8d9344ce2ed0a55d",
       "value": 5
      }
     },
     "4054116699c046e2ad5cd1fa0620ee01": {
      "model_module": "@jupyter-widgets/base",
      "model_module_version": "1.1.0",
      "model_name": "LayoutModel",
      "state": {}
     },
     "41c5732174154c9e84110be0fffe72b5": {
      "model_module": "@jupyter-widgets/controls",
      "model_module_version": "1.4.0",
      "model_name": "FloatSliderModel",
      "state": {
       "description": "km1",
       "layout": "IPY_MODEL_fa58d98d4b594ddc835730a8cf6c9dc0",
       "max": 10,
       "step": 0.1,
       "style": "IPY_MODEL_0a4d445ca6dd4f2a989312b68c45484f",
       "value": 4
      }
     },
     "4456a59bb7e8438f88edede831c36f8d": {
      "model_module": "@jupyter-widgets/controls",
      "model_module_version": "1.4.0",
      "model_name": "VBoxModel",
      "state": {
       "_dom_classes": [
        "widget-interact"
       ],
       "children": [
        "IPY_MODEL_6e69af0a061c4ddfa92610d778434156",
        "IPY_MODEL_913566ba15db45c29e31c68e4b9b2b3b",
        "IPY_MODEL_8bc7ee80c9ac4698b024b1c1b03d51b2",
        "IPY_MODEL_9e69a3dbbe2f473aa6706a20fc5c987f"
       ],
       "layout": "IPY_MODEL_b167c1de48c74775aab4fe00385280e2"
      }
     },
     "44c9aaeecd794e95bd0f98e7f89df232": {
      "model_module": "@jupyter-widgets/controls",
      "model_module_version": "1.4.0",
      "model_name": "IntSliderModel",
      "state": {
       "description": "A0",
       "layout": "IPY_MODEL_da846a48304041df937bfa25e13a7574",
       "max": 10,
       "style": "IPY_MODEL_5da8c320d86e42449238975f5f2c8a2a",
       "value": 8
      }
     },
     "45970c3cf65f46d4b7405b70cf59811b": {
      "model_module": "@jupyter-widgets/base",
      "model_module_version": "1.1.0",
      "model_name": "LayoutModel",
      "state": {}
     },
     "4607f0a6b4a649ab8d860a7f7e8e873a": {
      "model_module": "@jupyter-widgets/controls",
      "model_module_version": "1.4.0",
      "model_name": "SliderStyleModel",
      "state": {
       "description_width": ""
      }
     },
     "464c788ee45d46d1b440931d97481c75": {
      "model_module": "@jupyter-widgets/base",
      "model_module_version": "1.1.0",
      "model_name": "LayoutModel",
      "state": {}
     },
     "4745aabbb79c439ab34286cff746e860": {
      "model_module": "@jupyter-widgets/controls",
      "model_module_version": "1.4.0",
      "model_name": "IntSliderModel",
      "state": {
       "description": "A0",
       "layout": "IPY_MODEL_ccc77078edac42db8af38a930b1722d3",
       "max": 10,
       "style": "IPY_MODEL_8284fe95683047be99e96bda7ae93f6f",
       "value": 1
      }
     },
     "4750324d88844b84904736053834f62e": {
      "model_module": "@jupyter-widgets/controls",
      "model_module_version": "1.4.0",
      "model_name": "SliderStyleModel",
      "state": {
       "description_width": ""
      }
     },
     "478b856b53b14d4690508672a6ac9dc4": {
      "model_module": "@jupyter-widgets/controls",
      "model_module_version": "1.4.0",
      "model_name": "IntSliderModel",
      "state": {
       "description": "A0",
       "layout": "IPY_MODEL_a82088a3699e416b9a3ff2e6043822d4",
       "max": 10,
       "style": "IPY_MODEL_b968b7322e2e4b40b9d7a75739410a63",
       "value": 7
      }
     },
     "483b105aa91f44ecacd0644de3a06205": {
      "model_module": "@jupyter-widgets/base",
      "model_module_version": "1.1.0",
      "model_name": "LayoutModel",
      "state": {}
     },
     "486102c9a5094d259975aea958fa9cff": {
      "model_module": "@jupyter-widgets/controls",
      "model_module_version": "1.4.0",
      "model_name": "IntSliderModel",
      "state": {
       "description": "A0",
       "layout": "IPY_MODEL_50670dbe024740f09a7968a682f52252",
       "max": 10,
       "style": "IPY_MODEL_756edf2ec41845489a001928c4913a21",
       "value": 5
      }
     },
     "4879a97b8d1d46d0bcd5ea08e3ef78d0": {
      "model_module": "@jupyter-widgets/controls",
      "model_module_version": "1.4.0",
      "model_name": "IntSliderModel",
      "state": {
       "description": "A0",
       "layout": "IPY_MODEL_9c9819d04f8845449c1b3692233a543e",
       "max": 10,
       "style": "IPY_MODEL_23aa12d3564b4267b23eefa142e7f8f3",
       "value": 5
      }
     },
     "4aac7cad66d04751bb44b62ddc710374": {
      "model_module": "@jupyter-widgets/controls",
      "model_module_version": "1.4.0",
      "model_name": "SliderStyleModel",
      "state": {
       "description_width": ""
      }
     },
     "4c137fd169f943248e3908d0a520f8ce": {
      "model_module": "@jupyter-widgets/controls",
      "model_module_version": "1.4.0",
      "model_name": "SliderStyleModel",
      "state": {
       "description_width": ""
      }
     },
     "4db981f71bc648178e4a91ec0919a0bc": {
      "model_module": "@jupyter-widgets/controls",
      "model_module_version": "1.4.0",
      "model_name": "ButtonModel",
      "state": {
       "description": "Run Interact",
       "layout": "IPY_MODEL_92ae361e098f4e55986d2470f228404c",
       "style": "IPY_MODEL_a5736ccc6d4e4d3ebf4b03c3c256c686"
      }
     },
     "4e0a82652a8f40d49728d530822c16f8": {
      "model_module": "@jupyter-widgets/base",
      "model_module_version": "1.1.0",
      "model_name": "LayoutModel",
      "state": {}
     },
     "4e0ecdb372364a94859b9aa4bf9b7398": {
      "model_module": "@jupyter-widgets/base",
      "model_module_version": "1.1.0",
      "model_name": "LayoutModel",
      "state": {}
     },
     "4e853f5132a94e719c6268efc353c3ce": {
      "model_module": "@jupyter-widgets/base",
      "model_module_version": "1.1.0",
      "model_name": "LayoutModel",
      "state": {}
     },
     "4eba08fa5bf54db7b7ae6795439cc56d": {
      "model_module": "@jupyter-widgets/controls",
      "model_module_version": "1.4.0",
      "model_name": "IntSliderModel",
      "state": {
       "description": "A0",
       "layout": "IPY_MODEL_cde491fa3e1149e3b1ed80a73f184904",
       "max": 10,
       "style": "IPY_MODEL_edd7d010d40048159500dacd0017074c",
       "value": 4
      }
     },
     "4f686e6341194fdab15f61cec2932f3b": {
      "model_module": "@jupyter-widgets/controls",
      "model_module_version": "1.4.0",
      "model_name": "SliderStyleModel",
      "state": {
       "description_width": ""
      }
     },
     "4fa27188a7614f0e8bba12727116efa2": {
      "model_module": "@jupyter-widgets/base",
      "model_module_version": "1.1.0",
      "model_name": "LayoutModel",
      "state": {}
     },
     "4fd5f8d37fd24b908f4d7ead72ad7051": {
      "model_module": "@jupyter-widgets/controls",
      "model_module_version": "1.4.0",
      "model_name": "FloatSliderModel",
      "state": {
       "description": "k_1",
       "layout": "IPY_MODEL_6c6b3324746e4254b456e0471da01fad",
       "max": 10,
       "step": 0.1,
       "style": "IPY_MODEL_d0b44e309d02464d850caa8217da6b78",
       "value": 3.9
      }
     },
     "504d8b57f4864971a566bdc3a0b307e9": {
      "model_module": "@jupyter-widgets/controls",
      "model_module_version": "1.4.0",
      "model_name": "ButtonStyleModel",
      "state": {}
     },
     "505f6de739c847b5ad65b8b074d4d80e": {
      "model_module": "@jupyter-widgets/base",
      "model_module_version": "1.1.0",
      "model_name": "LayoutModel",
      "state": {}
     },
     "50670dbe024740f09a7968a682f52252": {
      "model_module": "@jupyter-widgets/base",
      "model_module_version": "1.1.0",
      "model_name": "LayoutModel",
      "state": {}
     },
     "506fa444b7914e80b317eb01861e653e": {
      "model_module": "@jupyter-widgets/controls",
      "model_module_version": "1.4.0",
      "model_name": "IntSliderModel",
      "state": {
       "description": "B0",
       "layout": "IPY_MODEL_04ff9e2673ad48598f0e8e636c6401b0",
       "max": 10,
       "style": "IPY_MODEL_94426ab2a9cc44b0982948ea02154028",
       "value": 3
      }
     },
     "5254f09cca68474eb55b27f641a29445": {
      "model_module": "@jupyter-widgets/base",
      "model_module_version": "1.1.0",
      "model_name": "LayoutModel",
      "state": {}
     },
     "53ea4c8a93434de78ed9f904eb6691fc": {
      "model_module": "@jupyter-widgets/controls",
      "model_module_version": "1.4.0",
      "model_name": "ButtonModel",
      "state": {
       "description": "Run Interact",
       "layout": "IPY_MODEL_e8c4c0b65a074968a034a32688b9a56b",
       "style": "IPY_MODEL_7770a28c7e5442309ce285eec79fc5da"
      }
     },
     "53f0c940d284423699a66f2983737e1a": {
      "model_module": "@jupyter-widgets/base",
      "model_module_version": "1.1.0",
      "model_name": "LayoutModel",
      "state": {}
     },
     "545c7528e964499b965b64c4fdd672b3": {
      "model_module": "@jupyter-widgets/base",
      "model_module_version": "1.1.0",
      "model_name": "LayoutModel",
      "state": {}
     },
     "5478468f07994c70bfa451e75fc0f2c6": {
      "model_module": "@jupyter-widgets/controls",
      "model_module_version": "1.4.0",
      "model_name": "VBoxModel",
      "state": {
       "_dom_classes": [
        "widget-interact"
       ],
       "children": [
        "IPY_MODEL_344ad91f8a0e4ccda9c6e0bd6668dc0b",
        "IPY_MODEL_f9e98320cb814f4b9c5a62630b35b6a2",
        "IPY_MODEL_cd69f7200a4c48548b439ee71eed03b6",
        "IPY_MODEL_822efdba7ec14b0f9164cf80cb145f01"
       ],
       "layout": "IPY_MODEL_e04f2788526c475ea78b68b5ff05396d"
      }
     },
     "55073e0f949043b2b876b70072babba2": {
      "model_module": "@jupyter-widgets/controls",
      "model_module_version": "1.4.0",
      "model_name": "IntSliderModel",
      "state": {
       "description": "B0",
       "layout": "IPY_MODEL_a653e296e3eb4366ab24da853c859901",
       "max": 10,
       "style": "IPY_MODEL_e0cb6d7d5a3e4bfc8383f387de96bd50",
       "value": 5
      }
     },
     "550ddaa397f742b08e0c3ae8e6bf1676": {
      "model_module": "@jupyter-widgets/controls",
      "model_module_version": "1.4.0",
      "model_name": "SliderStyleModel",
      "state": {
       "description_width": ""
      }
     },
     "56a5260c5b3c44feb603bc177882b762": {
      "model_module": "@jupyter-widgets/controls",
      "model_module_version": "1.4.0",
      "model_name": "SliderStyleModel",
      "state": {
       "description_width": ""
      }
     },
     "56c2727552eb49629115e49932e0bc09": {
      "model_module": "@jupyter-widgets/controls",
      "model_module_version": "1.4.0",
      "model_name": "SliderStyleModel",
      "state": {
       "description_width": ""
      }
     },
     "59497ef02a794ec2b2585be8af1f9449": {
      "model_module": "@jupyter-widgets/base",
      "model_module_version": "1.1.0",
      "model_name": "LayoutModel",
      "state": {}
     },
     "5b90f6ea1d1a4437bf8a852da2f6e80b": {
      "model_module": "@jupyter-widgets/base",
      "model_module_version": "1.1.0",
      "model_name": "LayoutModel",
      "state": {}
     },
     "5bd0c57a51b848078982733d97d3beab": {
      "model_module": "@jupyter-widgets/controls",
      "model_module_version": "1.4.0",
      "model_name": "SliderStyleModel",
      "state": {
       "description_width": ""
      }
     },
     "5beffccff40140ddbb093eb33e80c901": {
      "model_module": "@jupyter-widgets/base",
      "model_module_version": "1.1.0",
      "model_name": "LayoutModel",
      "state": {}
     },
     "5c421338fefd425e800bef95574cc300": {
      "model_module": "@jupyter-widgets/base",
      "model_module_version": "1.1.0",
      "model_name": "LayoutModel",
      "state": {}
     },
     "5c7fbb003845408985481b2e58351b2f": {
      "model_module": "@jupyter-widgets/controls",
      "model_module_version": "1.4.0",
      "model_name": "VBoxModel",
      "state": {
       "_dom_classes": [
        "widget-interact"
       ],
       "children": [
        "IPY_MODEL_1f74d7fe60fc45da8325af0038b28bdf",
        "IPY_MODEL_650cfc19edbd4ad890a94da7efff3046",
        "IPY_MODEL_d64b98fda78c4f488c3dec92bf1dc163",
        "IPY_MODEL_1c9bbc03c1774f6c910743c1e2461b7b"
       ],
       "layout": "IPY_MODEL_06f6ea892a4243b0bf5e4b753eb0fa63"
      }
     },
     "5d3972c82d0649c89387f8326abbc49d": {
      "model_module": "@jupyter-widgets/base",
      "model_module_version": "1.1.0",
      "model_name": "LayoutModel",
      "state": {}
     },
     "5da2346e742e4b33bbd5d3b66751fd85": {
      "model_module": "@jupyter-widgets/controls",
      "model_module_version": "1.4.0",
      "model_name": "IntSliderModel",
      "state": {
       "description": "B0",
       "layout": "IPY_MODEL_6cdec0bad74d4a1089f666d99988e125",
       "max": 10,
       "style": "IPY_MODEL_001e51b38087474bb92a51684423d344",
       "value": 7
      }
     },
     "5da8c320d86e42449238975f5f2c8a2a": {
      "model_module": "@jupyter-widgets/controls",
      "model_module_version": "1.4.0",
      "model_name": "SliderStyleModel",
      "state": {
       "description_width": ""
      }
     },
     "5e17658a577d4c7c9bae9440a14e4915": {
      "model_module": "@jupyter-widgets/controls",
      "model_module_version": "1.4.0",
      "model_name": "VBoxModel",
      "state": {
       "_dom_classes": [
        "widget-interact"
       ],
       "children": [
        "IPY_MODEL_478b856b53b14d4690508672a6ac9dc4",
        "IPY_MODEL_d2c60be2e7694df290a66214e6508704",
        "IPY_MODEL_7d5da17efc204cbca6e9d9afbe8cec1e",
        "IPY_MODEL_fc1e5293104941c5bc473fe3d93bbf5e"
       ],
       "layout": "IPY_MODEL_8cc0edb3e3054874acba0d1f0c0df9c3"
      }
     },
     "5efad73976b94118bb98e22ea8672980": {
      "model_module": "@jupyter-widgets/controls",
      "model_module_version": "1.4.0",
      "model_name": "VBoxModel",
      "state": {
       "_dom_classes": [
        "widget-interact"
       ],
       "children": [
        "IPY_MODEL_cb58c2bc558c4897a69d977a10540372",
        "IPY_MODEL_9b3c1a5f963f4d2395e4184af1c4f71c",
        "IPY_MODEL_7508449775954a5491b971ebe262fc73",
        "IPY_MODEL_3cc35debc20941b09ad8244fca46243f"
       ],
       "layout": "IPY_MODEL_6e80038681ad47c997db7708a06bae67"
      }
     },
     "5f1878ff27dc4282ba0a2c3287a92539": {
      "model_module": "@jupyter-widgets/base",
      "model_module_version": "1.1.0",
      "model_name": "LayoutModel",
      "state": {}
     },
     "5fbd7199608c46458f3efa32b41aa26e": {
      "model_module": "@jupyter-widgets/controls",
      "model_module_version": "1.4.0",
      "model_name": "IntSliderModel",
      "state": {
       "description": "A0",
       "layout": "IPY_MODEL_8ed8f70a33c149f0a4f5f34e5f502636",
       "max": 10,
       "style": "IPY_MODEL_d214558fa0d0424381e409d041e4f88f"
      }
     },
     "60325c2c2e7c4368969e40d425caff95": {
      "model_module": "@jupyter-widgets/output",
      "model_module_version": "1.0.0",
      "model_name": "OutputModel",
      "state": {
       "layout": "IPY_MODEL_ed7b19b5686d4ef8845020ec8377b8fa",
       "outputs": [
        {
         "data": {
          "image/png": "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\n",
          "text/plain": "<matplotlib.figure.Figure at 0x1942d2d2e48>"
         },
         "metadata": {
          "needs_background": "light"
         },
         "output_type": "display_data"
        }
       ]
      }
     },
     "60411cfa79db4db0a2b01aa66131efbb": {
      "model_module": "@jupyter-widgets/controls",
      "model_module_version": "1.4.0",
      "model_name": "SliderStyleModel",
      "state": {
       "description_width": ""
      }
     },
     "60a152ea6d924726b7ce552db6204038": {
      "model_module": "@jupyter-widgets/controls",
      "model_module_version": "1.4.0",
      "model_name": "IntSliderModel",
      "state": {
       "description": "A0",
       "layout": "IPY_MODEL_3661dcc9732d4695b41bbf81c9e9d699",
       "max": 10,
       "style": "IPY_MODEL_b1334f4cc13649c6bf6675eea8859910",
       "value": 5
      }
     },
     "60a3721e7ee0492c97df88a038df56f9": {
      "model_module": "@jupyter-widgets/controls",
      "model_module_version": "1.4.0",
      "model_name": "SliderStyleModel",
      "state": {
       "description_width": ""
      }
     },
     "62cc045aa3374df4b58ec371529fe313": {
      "model_module": "@jupyter-widgets/controls",
      "model_module_version": "1.4.0",
      "model_name": "VBoxModel",
      "state": {
       "_dom_classes": [
        "widget-interact"
       ],
       "children": [
        "IPY_MODEL_01f2c212daa54c9fb8694fb3fb8f9a8c",
        "IPY_MODEL_638152bf5a7d4326ab7d512802f13dc4",
        "IPY_MODEL_6eaf073315af4f1b8547660182c931e6",
        "IPY_MODEL_871f0a775a2c4a8594fa27b0c0282670"
       ],
       "layout": "IPY_MODEL_29c6c8660aa8462b93f5fd0bccfcab45"
      }
     },
     "62dfdf821b424cf992d575084a4218cc": {
      "model_module": "@jupyter-widgets/base",
      "model_module_version": "1.1.0",
      "model_name": "LayoutModel",
      "state": {}
     },
     "638152bf5a7d4326ab7d512802f13dc4": {
      "model_module": "@jupyter-widgets/controls",
      "model_module_version": "1.4.0",
      "model_name": "IntSliderModel",
      "state": {
       "description": "B0",
       "layout": "IPY_MODEL_0808f90e28824e679f31b91599057b88",
       "max": 10,
       "style": "IPY_MODEL_eb0a71b09cbb4a92a16a98f3eabdbb05",
       "value": 7
      }
     },
     "64313b6f6fc649c6b74c12cb91c1e49e": {
      "model_module": "@jupyter-widgets/controls",
      "model_module_version": "1.4.0",
      "model_name": "IntSliderModel",
      "state": {
       "description": "B0",
       "layout": "IPY_MODEL_b6071a123522462b8d95dfe967b9bfd0",
       "max": 10,
       "style": "IPY_MODEL_d19c9def7e1c4069bc6896bc56e73d81"
      }
     },
     "6443384541dd4554b4b676c8f7778bc7": {
      "model_module": "@jupyter-widgets/controls",
      "model_module_version": "1.4.0",
      "model_name": "IntSliderModel",
      "state": {
       "description": "B0",
       "layout": "IPY_MODEL_cbbf74cf83ab4f76adea073f30464674",
       "max": 10,
       "style": "IPY_MODEL_a8813fd3bc6647d986cb31b62adee468",
       "value": 5
      }
     },
     "64fe534d6a834e6292991921e23d201d": {
      "model_module": "@jupyter-widgets/base",
      "model_module_version": "1.1.0",
      "model_name": "LayoutModel",
      "state": {}
     },
     "6500db46d1d24c27b46c96760a85372c": {
      "model_module": "@jupyter-widgets/base",
      "model_module_version": "1.1.0",
      "model_name": "LayoutModel",
      "state": {}
     },
     "650cfc19edbd4ad890a94da7efff3046": {
      "model_module": "@jupyter-widgets/controls",
      "model_module_version": "1.4.0",
      "model_name": "IntSliderModel",
      "state": {
       "description": "B0",
       "layout": "IPY_MODEL_e431d8af808d466ab7f65322c4fa9636",
       "max": 10,
       "style": "IPY_MODEL_05e94202c62a4876961d946647d57d40",
       "value": 5
      }
     },
     "65db93c2729d4a21983cced24477b1aa": {
      "model_module": "@jupyter-widgets/base",
      "model_module_version": "1.1.0",
      "model_name": "LayoutModel",
      "state": {}
     },
     "65f54ea9e1bc47c19de479da31eb60d4": {
      "model_module": "@jupyter-widgets/controls",
      "model_module_version": "1.4.0",
      "model_name": "VBoxModel",
      "state": {
       "_dom_classes": [
        "widget-interact"
       ],
       "children": [
        "IPY_MODEL_f85c38e6c43141d8a81b8286be7a76b0",
        "IPY_MODEL_e39708e7e0f147869adf15255fdced55",
        "IPY_MODEL_fd2aa57af02143b79c83f4d640fb076c",
        "IPY_MODEL_07467813239e477b846e555ff3d1fa8a"
       ],
       "layout": "IPY_MODEL_744b6789799547ff839b6bd3022a692a"
      }
     },
     "66360bc077154f82a5d9630f9f320457": {
      "model_module": "@jupyter-widgets/controls",
      "model_module_version": "1.4.0",
      "model_name": "ButtonStyleModel",
      "state": {}
     },
     "667f5bbcfe2348d59fa9c9bd50390b2b": {
      "model_module": "@jupyter-widgets/base",
      "model_module_version": "1.1.0",
      "model_name": "LayoutModel",
      "state": {}
     },
     "668247e40fb346dca1209b74a4fad946": {
      "model_module": "@jupyter-widgets/base",
      "model_module_version": "1.1.0",
      "model_name": "LayoutModel",
      "state": {}
     },
     "669b007b0f6b42ec8fdd3780b9112803": {
      "model_module": "@jupyter-widgets/controls",
      "model_module_version": "1.4.0",
      "model_name": "SliderStyleModel",
      "state": {
       "description_width": ""
      }
     },
     "66d0b44e668a4d9cbe0ca70f2bf39fe7": {
      "model_module": "@jupyter-widgets/base",
      "model_module_version": "1.1.0",
      "model_name": "LayoutModel",
      "state": {}
     },
     "673b2267fa524cc2a970bd68321ad40a": {
      "model_module": "@jupyter-widgets/controls",
      "model_module_version": "1.4.0",
      "model_name": "FloatSliderModel",
      "state": {
       "description": "k_1",
       "layout": "IPY_MODEL_28e661444d424985bd28f1393617b81f",
       "max": 10,
       "step": 0.1,
       "style": "IPY_MODEL_fcfe635f8e9f4df0a605f91489bfbb88",
       "value": 5.5
      }
     },
     "67420a7d3d874049b9e5499dc8f2e44a": {
      "model_module": "@jupyter-widgets/base",
      "model_module_version": "1.1.0",
      "model_name": "LayoutModel",
      "state": {}
     },
     "67b1130a7aa2403b83041ad2d7ebbc4f": {
      "model_module": "@jupyter-widgets/controls",
      "model_module_version": "1.4.0",
      "model_name": "IntSliderModel",
      "state": {
       "description": "A0",
       "layout": "IPY_MODEL_b8bf32ee5e6742aba936c4fc7ff7e921",
       "max": 10,
       "style": "IPY_MODEL_4aac7cad66d04751bb44b62ddc710374",
       "value": 1
      }
     },
     "6821d9a6f7ef4a94afc3c6394a603fcf": {
      "model_module": "@jupyter-widgets/base",
      "model_module_version": "1.1.0",
      "model_name": "LayoutModel",
      "state": {}
     },
     "68b1699e65474339bd6c8a189df7b58d": {
      "model_module": "@jupyter-widgets/controls",
      "model_module_version": "1.4.0",
      "model_name": "SliderStyleModel",
      "state": {
       "description_width": ""
      }
     },
     "690514915a5548c29e41843e9c66bf3a": {
      "model_module": "@jupyter-widgets/controls",
      "model_module_version": "1.4.0",
      "model_name": "SliderStyleModel",
      "state": {
       "description_width": ""
      }
     },
     "697ea036668a4021ab04c88b6addd109": {
      "model_module": "@jupyter-widgets/controls",
      "model_module_version": "1.4.0",
      "model_name": "VBoxModel",
      "state": {
       "_dom_classes": [
        "widget-interact"
       ],
       "children": [
        "IPY_MODEL_486102c9a5094d259975aea958fa9cff",
        "IPY_MODEL_ebbd0345020e4cc0b46413d7ee39bc44",
        "IPY_MODEL_364b50e6e40b4f10b2beb55593ae54c8",
        "IPY_MODEL_1b8dbd16378c4266a77158de929b9abe"
       ],
       "layout": "IPY_MODEL_025623cf733a4db0bb3aa55e0e8aaa0a"
      }
     },
     "6998053e1824498eae576ad3ee4aa030": {
      "model_module": "@jupyter-widgets/controls",
      "model_module_version": "1.4.0",
      "model_name": "IntSliderModel",
      "state": {
       "description": "B0",
       "layout": "IPY_MODEL_668247e40fb346dca1209b74a4fad946",
       "max": 10,
       "style": "IPY_MODEL_7bb0e179ab3b4b468245da400793b323",
       "value": 5
      }
     },
     "69bde4bce9414199b328e414f04e9e0a": {
      "model_module": "@jupyter-widgets/controls",
      "model_module_version": "1.4.0",
      "model_name": "ButtonStyleModel",
      "state": {}
     },
     "6a741dcb17624ddb8226225fea3ae2b0": {
      "model_module": "@jupyter-widgets/base",
      "model_module_version": "1.1.0",
      "model_name": "LayoutModel",
      "state": {}
     },
     "6b0aed3e12e44ce08f43d32c0f982d88": {
      "model_module": "@jupyter-widgets/base",
      "model_module_version": "1.1.0",
      "model_name": "LayoutModel",
      "state": {}
     },
     "6c576870edf14552a372e3a5b64eb60f": {
      "model_module": "@jupyter-widgets/base",
      "model_module_version": "1.1.0",
      "model_name": "LayoutModel",
      "state": {}
     },
     "6c6b3324746e4254b456e0471da01fad": {
      "model_module": "@jupyter-widgets/base",
      "model_module_version": "1.1.0",
      "model_name": "LayoutModel",
      "state": {}
     },
     "6cdec0bad74d4a1089f666d99988e125": {
      "model_module": "@jupyter-widgets/base",
      "model_module_version": "1.1.0",
      "model_name": "LayoutModel",
      "state": {}
     },
     "6d35fe1325404f16bc1eee185909cbb7": {
      "model_module": "@jupyter-widgets/base",
      "model_module_version": "1.1.0",
      "model_name": "LayoutModel",
      "state": {}
     },
     "6d62f6312eec44f2a6ad10b675e56282": {
      "model_module": "@jupyter-widgets/output",
      "model_module_version": "1.0.0",
      "model_name": "OutputModel",
      "state": {
       "layout": "IPY_MODEL_45970c3cf65f46d4b7405b70cf59811b",
       "outputs": [
        {
         "ename": "TypeError",
         "evalue": "FirstOrder_RKtev() takes 3 positional arguments but 4 were given",
         "output_type": "error",
         "traceback": [
          "\u001b[1;31m---------------------------------------------------------------------------\u001b[0m",
          "\u001b[1;31mTypeError\u001b[0m                                 Traceback (most recent call last)",
          "\u001b[1;32m~\\Anaconda3\\lib\\site-packages\\ipywidgets\\widgets\\interaction.py\u001b[0m in \u001b[0;36mupdate\u001b[1;34m(self, *args)\u001b[0m\n\u001b[0;32m    249\u001b[0m                     \u001b[0mvalue\u001b[0m \u001b[1;33m=\u001b[0m \u001b[0mwidget\u001b[0m\u001b[1;33m.\u001b[0m\u001b[0mget_interact_value\u001b[0m\u001b[1;33m(\u001b[0m\u001b[1;33m)\u001b[0m\u001b[1;33m\u001b[0m\u001b[0m\n\u001b[0;32m    250\u001b[0m                     \u001b[0mself\u001b[0m\u001b[1;33m.\u001b[0m\u001b[0mkwargs\u001b[0m\u001b[1;33m[\u001b[0m\u001b[0mwidget\u001b[0m\u001b[1;33m.\u001b[0m\u001b[0m_kwarg\u001b[0m\u001b[1;33m]\u001b[0m \u001b[1;33m=\u001b[0m \u001b[0mvalue\u001b[0m\u001b[1;33m\u001b[0m\u001b[0m\n\u001b[1;32m--> 251\u001b[1;33m                 \u001b[0mself\u001b[0m\u001b[1;33m.\u001b[0m\u001b[0mresult\u001b[0m \u001b[1;33m=\u001b[0m \u001b[0mself\u001b[0m\u001b[1;33m.\u001b[0m\u001b[0mf\u001b[0m\u001b[1;33m(\u001b[0m\u001b[1;33m**\u001b[0m\u001b[0mself\u001b[0m\u001b[1;33m.\u001b[0m\u001b[0mkwargs\u001b[0m\u001b[1;33m)\u001b[0m\u001b[1;33m\u001b[0m\u001b[0m\n\u001b[0m\u001b[0;32m    252\u001b[0m                 \u001b[0mshow_inline_matplotlib_plots\u001b[0m\u001b[1;33m(\u001b[0m\u001b[1;33m)\u001b[0m\u001b[1;33m\u001b[0m\u001b[0m\n\u001b[0;32m    253\u001b[0m                 \u001b[1;32mif\u001b[0m \u001b[0mself\u001b[0m\u001b[1;33m.\u001b[0m\u001b[0mauto_display\u001b[0m \u001b[1;32mand\u001b[0m \u001b[0mself\u001b[0m\u001b[1;33m.\u001b[0m\u001b[0mresult\u001b[0m \u001b[1;32mis\u001b[0m \u001b[1;32mnot\u001b[0m \u001b[1;32mNone\u001b[0m\u001b[1;33m:\u001b[0m\u001b[1;33m\u001b[0m\u001b[0m\n",
          "\u001b[1;32m<ipython-input-10-310a8897b9bb>\u001b[0m in \u001b[0;36mf\u001b[1;34m(A0, B0, k_1)\u001b[0m\n\u001b[0;32m     11\u001b[0m \u001b[1;33m\u001b[0m\u001b[0m\n\u001b[0;32m     12\u001b[0m     \u001b[1;32mfor\u001b[0m \u001b[0mki\u001b[0m \u001b[1;32min\u001b[0m \u001b[0mrange\u001b[0m\u001b[1;33m(\u001b[0m\u001b[1;36m0\u001b[0m\u001b[1;33m,\u001b[0m\u001b[0mNT\u001b[0m\u001b[1;33m)\u001b[0m\u001b[1;33m:\u001b[0m\u001b[1;33m\u001b[0m\u001b[0m\n\u001b[1;32m---> 13\u001b[1;33m         \u001b[0mA1\u001b[0m\u001b[1;33m,\u001b[0m\u001b[0mB1\u001b[0m \u001b[1;33m=\u001b[0m \u001b[0mFirstOrder_RKtev\u001b[0m\u001b[1;33m(\u001b[0m\u001b[0mA0\u001b[0m\u001b[1;33m,\u001b[0m\u001b[0mB0\u001b[0m\u001b[1;33m,\u001b[0m\u001b[0mdt\u001b[0m\u001b[1;33m,\u001b[0m\u001b[1;33m-\u001b[0m\u001b[0mk_1\u001b[0m\u001b[1;33m)\u001b[0m\u001b[1;33m;\u001b[0m\u001b[1;33m\u001b[0m\u001b[0m\n\u001b[0m\u001b[0;32m     14\u001b[0m         \u001b[0mplt\u001b[0m\u001b[1;33m.\u001b[0m\u001b[0mplot\u001b[0m\u001b[1;33m(\u001b[0m\u001b[0mki\u001b[0m\u001b[1;33m*\u001b[0m\u001b[0mdt\u001b[0m\u001b[1;33m,\u001b[0m\u001b[0mA0\u001b[0m\u001b[1;33m,\u001b[0m\u001b[1;34m'ro'\u001b[0m\u001b[1;33m)\u001b[0m\u001b[1;33m;\u001b[0m\u001b[1;33m\u001b[0m\u001b[0m\n\u001b[0;32m     15\u001b[0m         \u001b[0mplt\u001b[0m\u001b[1;33m.\u001b[0m\u001b[0mplot\u001b[0m\u001b[1;33m(\u001b[0m\u001b[0mki\u001b[0m\u001b[1;33m*\u001b[0m\u001b[0mdt\u001b[0m\u001b[1;33m,\u001b[0m\u001b[0mB0\u001b[0m\u001b[1;33m,\u001b[0m\u001b[1;34m'bo'\u001b[0m\u001b[1;33m)\u001b[0m\u001b[1;33m;\u001b[0m\u001b[1;33m\u001b[0m\u001b[0m\n",
          "\u001b[1;31mTypeError\u001b[0m: FirstOrder_RKtev() takes 3 positional arguments but 4 were given"
         ]
        }
       ]
      }
     },
     "6e69af0a061c4ddfa92610d778434156": {
      "model_module": "@jupyter-widgets/controls",
      "model_module_version": "1.4.0",
      "model_name": "IntSliderModel",
      "state": {
       "description": "A0",
       "layout": "IPY_MODEL_ca5b145ac2a347bf91a90cba1a89de92",
       "max": 10,
       "style": "IPY_MODEL_3028dff47d77402b9b01e26f17caca17",
       "value": 2
      }
     },
     "6e80038681ad47c997db7708a06bae67": {
      "model_module": "@jupyter-widgets/base",
      "model_module_version": "1.1.0",
      "model_name": "LayoutModel",
      "state": {}
     },
     "6eaf073315af4f1b8547660182c931e6": {
      "model_module": "@jupyter-widgets/controls",
      "model_module_version": "1.4.0",
      "model_name": "FloatSliderModel",
      "state": {
       "description": "k_1",
       "layout": "IPY_MODEL_1c098b46cbbc4008854de9840ebcd75b",
       "max": 10,
       "step": 0.1,
       "style": "IPY_MODEL_83e721cf90b54632a28f1abc06f257e7",
       "value": 5
      }
     },
     "71691de40de448e5bb5b480fa069209e": {
      "model_module": "@jupyter-widgets/controls",
      "model_module_version": "1.4.0",
      "model_name": "SliderStyleModel",
      "state": {
       "description_width": ""
      }
     },
     "740d35db3dce4c20bae180139e8f18b9": {
      "model_module": "@jupyter-widgets/controls",
      "model_module_version": "1.4.0",
      "model_name": "ButtonModel",
      "state": {
       "description": "Run Interact",
       "layout": "IPY_MODEL_283c9b36d6734ae9bd7ab9955c2d448a",
       "style": "IPY_MODEL_504d8b57f4864971a566bdc3a0b307e9"
      }
     },
     "74424e7154c749a7be0c156fa4fde42c": {
      "model_module": "@jupyter-widgets/controls",
      "model_module_version": "1.4.0",
      "model_name": "VBoxModel",
      "state": {
       "_dom_classes": [
        "widget-interact"
       ],
       "children": [
        "IPY_MODEL_b45cc12b28714693a80403316f4c2cf4",
        "IPY_MODEL_162f27663d5d4561b3acf77ab03033b3",
        "IPY_MODEL_2d4190b3629849f8987281733ae63564",
        "IPY_MODEL_118c469495734b289ae94f8b0c2d4615"
       ],
       "layout": "IPY_MODEL_157088ff52a94237b76cbfe05218213c"
      }
     },
     "744b6789799547ff839b6bd3022a692a": {
      "model_module": "@jupyter-widgets/base",
      "model_module_version": "1.1.0",
      "model_name": "LayoutModel",
      "state": {}
     },
     "7508449775954a5491b971ebe262fc73": {
      "model_module": "@jupyter-widgets/controls",
      "model_module_version": "1.4.0",
      "model_name": "FloatSliderModel",
      "state": {
       "description": "k_1",
       "layout": "IPY_MODEL_4fa27188a7614f0e8bba12727116efa2",
       "max": 10,
       "step": 0.1,
       "style": "IPY_MODEL_3984bb97519b46bebdb461f9b6957856",
       "value": 4.2
      }
     },
     "756edf2ec41845489a001928c4913a21": {
      "model_module": "@jupyter-widgets/controls",
      "model_module_version": "1.4.0",
      "model_name": "SliderStyleModel",
      "state": {
       "description_width": ""
      }
     },
     "75827697a76148eca5441a48cfda8a62": {
      "model_module": "@jupyter-widgets/base",
      "model_module_version": "1.1.0",
      "model_name": "LayoutModel",
      "state": {}
     },
     "758fe96bc04d4f8cb0d3e0b049189901": {
      "model_module": "@jupyter-widgets/controls",
      "model_module_version": "1.4.0",
      "model_name": "IntSliderModel",
      "state": {
       "description": "A0",
       "layout": "IPY_MODEL_cc6e36906fac41cea49018c667d5d735",
       "max": 10,
       "style": "IPY_MODEL_2bd0d8e5546e4bdba3547f3e9a3faa43",
       "value": 9
      }
     },
     "75fccf9b7d1a4ecba55c27adb9fd8217": {
      "model_module": "@jupyter-widgets/output",
      "model_module_version": "1.0.0",
      "model_name": "OutputModel",
      "state": {
       "layout": "IPY_MODEL_a7d76645ca674ce69824bea020d490ac",
       "outputs": [
        {
         "data": {
          "image/png": "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\n",
          "text/plain": "<matplotlib.figure.Figure at 0x1942eae6e48>"
         },
         "metadata": {
          "needs_background": "light"
         },
         "output_type": "display_data"
        }
       ]
      }
     },
     "763f8dd0acdb42cda6945d07a2764663": {
      "model_module": "@jupyter-widgets/controls",
      "model_module_version": "1.4.0",
      "model_name": "FloatSliderModel",
      "state": {
       "description": "km1",
       "layout": "IPY_MODEL_eac379ca30544cf6bd735973a26634cc",
       "max": 10,
       "step": 0.1,
       "style": "IPY_MODEL_7beb9076672b4f1a85cbd600cde270da",
       "value": 5
      }
     },
     "776adf9e83834cd38f097eb1dce768f4": {
      "model_module": "@jupyter-widgets/controls",
      "model_module_version": "1.4.0",
      "model_name": "SliderStyleModel",
      "state": {
       "description_width": ""
      }
     },
     "7770a28c7e5442309ce285eec79fc5da": {
      "model_module": "@jupyter-widgets/controls",
      "model_module_version": "1.4.0",
      "model_name": "ButtonStyleModel",
      "state": {}
     },
     "77ec8bc855494a739d785d92a2a276a7": {
      "model_module": "@jupyter-widgets/controls",
      "model_module_version": "1.4.0",
      "model_name": "SliderStyleModel",
      "state": {
       "description_width": ""
      }
     },
     "782b88057f3148a3979ce1631bc8e042": {
      "model_module": "@jupyter-widgets/controls",
      "model_module_version": "1.4.0",
      "model_name": "VBoxModel",
      "state": {
       "_dom_classes": [
        "widget-interact"
       ],
       "children": [
        "IPY_MODEL_160819c47a3544efbb727e80fb2137f3",
        "IPY_MODEL_1f96e0b1eb1344359500b1530aff3f0c",
        "IPY_MODEL_9b2e0c8ed07d4a738ed77f08a8b560c4",
        "IPY_MODEL_75fccf9b7d1a4ecba55c27adb9fd8217"
       ],
       "layout": "IPY_MODEL_a1981a44c3dd4e56ab2b4a18cb30ce50"
      }
     },
     "783735d33fc4445bb922b8d9c3e2a0bc": {
      "model_module": "@jupyter-widgets/controls",
      "model_module_version": "1.4.0",
      "model_name": "FloatSliderModel",
      "state": {
       "description": "k_1",
       "layout": "IPY_MODEL_c1e0c5729afa484eba1774b14810043b",
       "max": 10,
       "step": 0.1,
       "style": "IPY_MODEL_36f11d18efb54df3ac8da44480de5ff9",
       "value": 5
      }
     },
     "785d2e55360a41bd9c6a67899571c526": {
      "model_module": "@jupyter-widgets/base",
      "model_module_version": "1.1.0",
      "model_name": "LayoutModel",
      "state": {}
     },
     "78a145ff2d5546f29b0f1dc653e37fa9": {
      "model_module": "@jupyter-widgets/controls",
      "model_module_version": "1.4.0",
      "model_name": "SliderStyleModel",
      "state": {
       "description_width": ""
      }
     },
     "79561f6e512a49bdb721149a2ee26eb1": {
      "model_module": "@jupyter-widgets/base",
      "model_module_version": "1.1.0",
      "model_name": "LayoutModel",
      "state": {}
     },
     "79648391e5e34e4988a9306d04c7e941": {
      "model_module": "@jupyter-widgets/controls",
      "model_module_version": "1.4.0",
      "model_name": "IntSliderModel",
      "state": {
       "description": "B0",
       "layout": "IPY_MODEL_65db93c2729d4a21983cced24477b1aa",
       "max": 10,
       "style": "IPY_MODEL_b135ddff5ca7413dac8e88fef0ccc707",
       "value": 5
      }
     },
     "79ad3024182240619054dfc43de69ce2": {
      "model_module": "@jupyter-widgets/controls",
      "model_module_version": "1.4.0",
      "model_name": "FloatSliderModel",
      "state": {
       "description": "k_1",
       "layout": "IPY_MODEL_7fa406e55cd1424e91fb11b3b91f0932",
       "max": 10,
       "step": 0.1,
       "style": "IPY_MODEL_d91e1bd184074d3fa08c5403244dd055",
       "value": 10
      }
     },
     "7a4b4ec5e865458ea50df31ca29f0654": {
      "model_module": "@jupyter-widgets/controls",
      "model_module_version": "1.4.0",
      "model_name": "SliderStyleModel",
      "state": {
       "description_width": ""
      }
     },
     "7a959366c17b46cab58c870c2f2ae136": {
      "model_module": "@jupyter-widgets/controls",
      "model_module_version": "1.4.0",
      "model_name": "SliderStyleModel",
      "state": {
       "description_width": ""
      }
     },
     "7b0b7434fe504e2aa982dc8f02cc9bc9": {
      "model_module": "@jupyter-widgets/base",
      "model_module_version": "1.1.0",
      "model_name": "LayoutModel",
      "state": {}
     },
     "7b422958f1ab4245981a743678058b28": {
      "model_module": "@jupyter-widgets/output",
      "model_module_version": "1.0.0",
      "model_name": "OutputModel",
      "state": {
       "layout": "IPY_MODEL_a4ec632e176942dcb8b42af00e7339bf",
       "outputs": [
        {
         "ename": "TypeError",
         "evalue": "FirstOrder_RKtev() takes 3 positional arguments but 4 were given",
         "output_type": "error",
         "traceback": [
          "\u001b[1;31m---------------------------------------------------------------------------\u001b[0m",
          "\u001b[1;31mTypeError\u001b[0m                                 Traceback (most recent call last)",
          "\u001b[1;32m~\\Anaconda3\\lib\\site-packages\\ipywidgets\\widgets\\interaction.py\u001b[0m in \u001b[0;36mupdate\u001b[1;34m(self, *args)\u001b[0m\n\u001b[0;32m    249\u001b[0m                     \u001b[0mvalue\u001b[0m \u001b[1;33m=\u001b[0m \u001b[0mwidget\u001b[0m\u001b[1;33m.\u001b[0m\u001b[0mget_interact_value\u001b[0m\u001b[1;33m(\u001b[0m\u001b[1;33m)\u001b[0m\u001b[1;33m\u001b[0m\u001b[0m\n\u001b[0;32m    250\u001b[0m                     \u001b[0mself\u001b[0m\u001b[1;33m.\u001b[0m\u001b[0mkwargs\u001b[0m\u001b[1;33m[\u001b[0m\u001b[0mwidget\u001b[0m\u001b[1;33m.\u001b[0m\u001b[0m_kwarg\u001b[0m\u001b[1;33m]\u001b[0m \u001b[1;33m=\u001b[0m \u001b[0mvalue\u001b[0m\u001b[1;33m\u001b[0m\u001b[0m\n\u001b[1;32m--> 251\u001b[1;33m                 \u001b[0mself\u001b[0m\u001b[1;33m.\u001b[0m\u001b[0mresult\u001b[0m \u001b[1;33m=\u001b[0m \u001b[0mself\u001b[0m\u001b[1;33m.\u001b[0m\u001b[0mf\u001b[0m\u001b[1;33m(\u001b[0m\u001b[1;33m**\u001b[0m\u001b[0mself\u001b[0m\u001b[1;33m.\u001b[0m\u001b[0mkwargs\u001b[0m\u001b[1;33m)\u001b[0m\u001b[1;33m\u001b[0m\u001b[0m\n\u001b[0m\u001b[0;32m    252\u001b[0m                 \u001b[0mshow_inline_matplotlib_plots\u001b[0m\u001b[1;33m(\u001b[0m\u001b[1;33m)\u001b[0m\u001b[1;33m\u001b[0m\u001b[0m\n\u001b[0;32m    253\u001b[0m                 \u001b[1;32mif\u001b[0m \u001b[0mself\u001b[0m\u001b[1;33m.\u001b[0m\u001b[0mauto_display\u001b[0m \u001b[1;32mand\u001b[0m \u001b[0mself\u001b[0m\u001b[1;33m.\u001b[0m\u001b[0mresult\u001b[0m \u001b[1;32mis\u001b[0m \u001b[1;32mnot\u001b[0m \u001b[1;32mNone\u001b[0m\u001b[1;33m:\u001b[0m\u001b[1;33m\u001b[0m\u001b[0m\n",
          "\u001b[1;32m<ipython-input-10-310a8897b9bb>\u001b[0m in \u001b[0;36mf\u001b[1;34m(A0, B0, k_1)\u001b[0m\n\u001b[0;32m     11\u001b[0m \u001b[1;33m\u001b[0m\u001b[0m\n\u001b[0;32m     12\u001b[0m     \u001b[1;32mfor\u001b[0m \u001b[0mki\u001b[0m \u001b[1;32min\u001b[0m \u001b[0mrange\u001b[0m\u001b[1;33m(\u001b[0m\u001b[1;36m0\u001b[0m\u001b[1;33m,\u001b[0m\u001b[0mNT\u001b[0m\u001b[1;33m)\u001b[0m\u001b[1;33m:\u001b[0m\u001b[1;33m\u001b[0m\u001b[0m\n\u001b[1;32m---> 13\u001b[1;33m         \u001b[0mA1\u001b[0m\u001b[1;33m,\u001b[0m\u001b[0mB1\u001b[0m \u001b[1;33m=\u001b[0m \u001b[0mFirstOrder_RKtev\u001b[0m\u001b[1;33m(\u001b[0m\u001b[0mA0\u001b[0m\u001b[1;33m,\u001b[0m\u001b[0mB0\u001b[0m\u001b[1;33m,\u001b[0m\u001b[0mdt\u001b[0m\u001b[1;33m,\u001b[0m\u001b[1;33m-\u001b[0m\u001b[0mk_1\u001b[0m\u001b[1;33m)\u001b[0m\u001b[1;33m;\u001b[0m\u001b[1;33m\u001b[0m\u001b[0m\n\u001b[0m\u001b[0;32m     14\u001b[0m         \u001b[0mplt\u001b[0m\u001b[1;33m.\u001b[0m\u001b[0mplot\u001b[0m\u001b[1;33m(\u001b[0m\u001b[0mki\u001b[0m\u001b[1;33m*\u001b[0m\u001b[0mdt\u001b[0m\u001b[1;33m,\u001b[0m\u001b[0mA0\u001b[0m\u001b[1;33m,\u001b[0m\u001b[1;34m'ro'\u001b[0m\u001b[1;33m)\u001b[0m\u001b[1;33m;\u001b[0m\u001b[1;33m\u001b[0m\u001b[0m\n\u001b[0;32m     15\u001b[0m         \u001b[0mplt\u001b[0m\u001b[1;33m.\u001b[0m\u001b[0mplot\u001b[0m\u001b[1;33m(\u001b[0m\u001b[0mki\u001b[0m\u001b[1;33m*\u001b[0m\u001b[0mdt\u001b[0m\u001b[1;33m,\u001b[0m\u001b[0mB0\u001b[0m\u001b[1;33m,\u001b[0m\u001b[1;34m'bo'\u001b[0m\u001b[1;33m)\u001b[0m\u001b[1;33m;\u001b[0m\u001b[1;33m\u001b[0m\u001b[0m\n",
          "\u001b[1;31mTypeError\u001b[0m: FirstOrder_RKtev() takes 3 positional arguments but 4 were given"
         ]
        }
       ]
      }
     },
     "7b62c6e1fbb84cc3aae3934f7064ab3b": {
      "model_module": "@jupyter-widgets/controls",
      "model_module_version": "1.4.0",
      "model_name": "SliderStyleModel",
      "state": {
       "description_width": ""
      }
     },
     "7bb0e179ab3b4b468245da400793b323": {
      "model_module": "@jupyter-widgets/controls",
      "model_module_version": "1.4.0",
      "model_name": "SliderStyleModel",
      "state": {
       "description_width": ""
      }
     },
     "7bb62ddd1ee74138910090cb197cca05": {
      "model_module": "@jupyter-widgets/controls",
      "model_module_version": "1.4.0",
      "model_name": "SliderStyleModel",
      "state": {
       "description_width": ""
      }
     },
     "7beb9076672b4f1a85cbd600cde270da": {
      "model_module": "@jupyter-widgets/controls",
      "model_module_version": "1.4.0",
      "model_name": "SliderStyleModel",
      "state": {
       "description_width": ""
      }
     },
     "7d5da17efc204cbca6e9d9afbe8cec1e": {
      "model_module": "@jupyter-widgets/controls",
      "model_module_version": "1.4.0",
      "model_name": "FloatSliderModel",
      "state": {
       "description": "k_1",
       "layout": "IPY_MODEL_ec704705d79d4540a24647421b418ed9",
       "max": 10,
       "step": 0.1,
       "style": "IPY_MODEL_2c503e158801473598b963acb23293af",
       "value": 3
      }
     },
     "7dbdee7b5a3b4ef1a04fde59faef0412": {
      "model_module": "@jupyter-widgets/base",
      "model_module_version": "1.1.0",
      "model_name": "LayoutModel",
      "state": {}
     },
     "7f588c9df4bb4ad284d308fe9a17a445": {
      "model_module": "@jupyter-widgets/controls",
      "model_module_version": "1.4.0",
      "model_name": "IntSliderModel",
      "state": {
       "description": "A0",
       "layout": "IPY_MODEL_a918af11379d484e91b4b07414abc9ba",
       "max": 10,
       "style": "IPY_MODEL_14bf78c244924f929617c7b5039693de",
       "value": 2
      }
     },
     "7fa406e55cd1424e91fb11b3b91f0932": {
      "model_module": "@jupyter-widgets/base",
      "model_module_version": "1.1.0",
      "model_name": "LayoutModel",
      "state": {}
     },
     "8009f0cacaaa4b0a9d3cfc7b4cbd6038": {
      "model_module": "@jupyter-widgets/controls",
      "model_module_version": "1.4.0",
      "model_name": "SliderStyleModel",
      "state": {
       "description_width": ""
      }
     },
     "803beceb2d054d7bbf93048aa05ae52f": {
      "model_module": "@jupyter-widgets/base",
      "model_module_version": "1.1.0",
      "model_name": "LayoutModel",
      "state": {}
     },
     "80433bde23b8474b9735daf733859cbe": {
      "model_module": "@jupyter-widgets/base",
      "model_module_version": "1.1.0",
      "model_name": "LayoutModel",
      "state": {}
     },
     "80600f30818b466fb81b4c72e4a55ff8": {
      "model_module": "@jupyter-widgets/output",
      "model_module_version": "1.0.0",
      "model_name": "OutputModel",
      "state": {
       "layout": "IPY_MODEL_6d35fe1325404f16bc1eee185909cbb7",
       "outputs": [
        {
         "data": {
          "image/png": "iVBORw0KGgoAAAANSUhEUgAAAXwAAAEKCAYAAAARnO4WAAAABHNCSVQICAgIfAhkiAAAAAlwSFlzAAALEgAACxIB0t1+/AAAHP1JREFUeJzt3X+UXGWd5/H3p5tkkkAQ6fQgGLubdQTPrjoBGo8Q9Kx4dPDHsKvoiKeIOLq2LjMajrvrgJmzszPn9Ix7nHVlx0G31ewgKeMoCPhjhYOSVXAU7UCGCIR1nEliI7sJzWrCjwB2f/ePe8tUd7qqbnfXrV/38zrnnqq6des+3zpJvvXkud/7PIoIzMys9/W1OwAzM2sNJ3wzs4JwwjczKwgnfDOzgnDCNzMrCCd8M7OCcMI3MysIJ3wzs4JwwjczK4jj2h1AtXXr1sXIyEi7wzAz6xo7d+58NCIGsxzbUQl/ZGSEycnJdodhZtY1JO3LeqyHdMzMCsIJ38ysIJzwzcwKwgnfzKwgnPDNzAoit4Qv6UxJu6q2Q5KuzKs9O6pchnXrQFr+1t+fPPb1Ned8bsftuJ2Ft3Xrkn+7ecqtLDMiHgI2AEjqBx4GbsqrvW5XLsOWLbBvX/KH32ghsr4+mJ3NduxyzM4mj3kvjOZ23E7R25mehne/O3leKuUTT6uGdF4D/DQi9rWovY5VLsPIyLG/+pddliR7yPaXo1V/Yc2sdZ55Jun45aVVN15dCmxf6A1JY8AYwNDQUIvCaZ1yGTZvTn6953OyNrP59u/P79y59/AlrQQuBr680PsRMRERoxExOjiY6e7gjlc9hn7ZZQsnezOzheTZ721FD//1wD0R8X9b0FZb1evNm5k1snIljI/nd/5WjOG/gxrDOb2i0qPvxd58X/o3RHI7bsft5NnOwABs3ZrfBVvIuYcv6XjgtcD78mynHaqratqhUZXOwABcc02+f3nMrLvkmvAj4glgIM822qFchrExePLJ5p2zksCHh5P/0jlRm1mzddT0yN1i8+alJ3sndjNrF0+tsAiVsfrFjtMPDMC2bcnQy8xM8rh3r5O9mbWWe/gZXXEFfPrT2WvnPYZuZp3GCT+Dcjl7spfg/e+Ha6/NPy4zs8XwkE4D5TJcfnm2ZD88DNdf72RvZp3JPfw6KtU4MzP1j1uzBiYmPHxjZp3NPfw6slTjDAw42ZtZd3APv4ZyuX41jsfqzazbOOEvoDJuX0t/P1x3nXv1ZtZdPKQzT5Zxeyd7M+tGTvjzNBq3Hxhwsjez7uSEX6XRuP2aNcnNVGZm3cgJv0q9pcX6+12NY2bdzQk/VS7Xn+rY4/Zm1u2c8Dl6obYWj9ubWS9wwicZyql1odbj9mbWK5zwqT+U43F7M+sVhU/45XLt9SaHh53szax3FD7hb9my8EyYUr6rx5uZtVquCV/SSZJukLRH0oOSzsuzvaXYv3/h/RHu3ZtZb8l7Lp1rgFsj4q2SVgJrcm5vUcrlZI3ZhaZRGB5ufTxmZnnKLeFLeg7wKuBdABHxDPBMXu0tVr05c9as8XCOmfWePId0TgcOAv9D0r2SPivp+PkHSRqTNClp8uDBgzmGM1etUkzfUWtmvSrPhH8ccDbwqYg4C3gCuGr+QRExERGjETE6ODiYYzhz1Rq7n511sjez3pRnwp8CpiLi7vT1DSQ/AB3h5JMX3j801No4zMxaJbeEHxH/B/iZpDPTXa8BHsirvcUol+HQoWP3r1zpsXsz6115V+l8ACinFTr/CPx+zu1lsmULPPvssfvXrvVwjpn1rlwTfkTsAkbzbGMpao3fP/ZYa+MwM2ulQt5pW2uc3uP3ZtbLCpfwy2V4/PFj97v23sx6XaESfuVmq/nLGA4MuPbezHpfoRJ+rZutTjjByd7Mel+hEn6ti7W19puZ9ZJCJXxfrDWzIitMwvfFWjMrukIkfF+sNTMrSML3xVozs4IkfF+sNTMrSML3xVozs4Ik/PHx5OJsNV+sNbOiKUTCL5WSi7PDwyAlj75Ya2ZF03C2TEnnAZcBrwROBZ4Cfgx8A9gWEb/MNcImKJeTC7f79yfDOOPjTvZmVjx1E76kbwI/B24BxoEDwCrgDODVwC2SPh4RX8070KWqlGRWqnT27Uteg5O+mRWLIqL2m9K6iHi07gkyHJPV6OhoTE5ONuNUvzYykiT5+YaHYe/epjZlZtZyknZGRKZ1R+qO4ddL5JK+1+iYTuCSTDOzxHIu2nZFUaNLMs3MEstJ+LXHgjqISzLNzBKNLtq+pdZbwOpGJ5e0FzgMzAC/yjrO1EyVC7Ou0jGzomtUlvm7dd77esY2Xt2ucf755ZjXX+9Eb2bF1Sjhfwb4ftQr5elQLsc0M5ur0Rj+JmCnpC9Kepek5y3y/AF8S9JOSWNLC3FpFpoh88knk/1mZkVUt4cfEf8WQNKLgdcDfyPpOcAO4FbgexExU+cUF0TEw5J+E7hd0p6I+G71AekPwRjAUBNLZ1yOaWY2V6YqnYjYExH/NSIuAi4E7gLeBtzd4HMPp48HgJuAly9wzEREjEbE6ODg4GLjr8nlmGZmc9VN+JJOnr+RVOf8APiTelU3ko6XtLbyHHgdyRw8LeFyTDOzuRpdtN1JMg6vBd4L4J/V+ewpwE2SKu18ISJuXUqQS+FyTDOzuerOpdNqecylY2bWy5o2l868k14s6S/T7U1LD681yuVk4rS+vuSxXG53RGZm7dVwPnwASR8FzgUqaXOzpPMj4iO5RbYMrsE3MztWpiEdSfcBGyJiNn3dD9wbES9rZjDNGtLxlMhmVhS5DOkAJ1U9f87iQmot1+CbmR0r05AO8BfAvZJ2kFTsvAq4KreolmloaOEevmvwzazIst54tR14BfAV4EbgvIj42zwDWw7X4JuZHWsxQzqV22CPA86vM3Vy25VKMDGRjNlLyePEhC/YmlmxZa3S2Qq8DLgfmE13B0mPvyOVSk7wZmbVso7hvyIi/nmukZiZWa6yDul8X5ITvplZF8ua8D9PkvQfknSfpN1pbX7H8R22ZmYLyzqk8zmSxVB2c3QMv+P4Dlszs9qy9vAPRsRXI+KfImJfZcs1siXwKldmZrVl7eHfK+kLwNeApys7I6KjqnR8h62ZWW1ZE/5qkkT/uqp9HVeW6Ttszcxqy5TwI+L38w6kGcbH547hg++wNTOraLTE4R+nyxrWev/CTpob33fYmpnV1qiHvxv4mqQjwD3AQWAV8CJgA/At4M9zjXCRfIetmdnC6ib8iLgFuEXSi4CNwKnAIWAbMBYRT+UfopmZNUPWMfyfAD9ZSgPpYimTwMMR0THDP2ZmRbOY2TKXajPwYG5n9621ZmaZZC3LXBJJ64E3AuPAh5rewLxba8v7zmfLpley/7JgaFiMj3s838wae/bZZ5mamuLIkSPtDqWmVatWsX79elasWLHkc+Sa8IFPAB8G1uZy9qpba8u8gzE+w5NxPOBpFcwsu6mpKdauXcvIyAiS2h3OMSKC6elppqamOP3005d8nkxDOpIGJX1E0oSkrZWtwWfeBByIiJ0NjhuTNClp8uDBg4sInTm30G7hz3mS4+e87WkVzCyLI0eOMDAw0JHJHkASAwMDy/4fSNYe/i3AnSRlmDMZP7MRuFjSG0hKOU+UtC0iLqs+KCImgAmA0dHRyHjuRNWttftZ+HZaT6tgZll0arKvaEZ8WS/aromIP4qIL0XEjZWt3gci4uqIWB8RI8ClwB3zk/2yVS1eO8TCmd3TKphZt7j55puRxJ49e3I5f9aE//W0p95Zqm6tHWcLazR3qkxPq2BmucipOnD79u1ccMEFbN++vSnnO0ZENNyAwyTz4B9Jnx8GDmX57GK2c845J5Zj27aI4eEIKXnctm1ZpzOzgnjggQeyH7xtW8SaNRFwdFuzZtkJ5/Dhw3HaaafFQw89FGeccUbmOIHJyJhjM/XwI2JtRPRFxKr0+dqIODGfn6ClK5Vg716YnU0eXZ1jZk2X08Ibt9xyCxdddBFnnHEGAwMD7NxZt95lSTLfeCXpYkl/mW6+Y9bMiimnhTe2b9/OpZdeCsCll16ay7BOpiodSR8FzgUqA1WbJW2MiKubHpGZWSfLYeGNxx57jDvuuIPdu3cjiZmZGSTxsY99rKnVQ1l7+G8AXhsRWyNiK3ARyR20ZmbFUlUd+GvLrBC54YYb2LRpE/v27WPv3r387Gc/4/TTT+fOO+9cZrBzLWYunZOqnj+nqVGYmXWLHBbe2L59O29+85vn7LvkkkuaPqyT9carvyBZ13YHIOBVwFVNjcTMrFs0eeGNHTt2HLPvgx/8YNPOX5G1Smc78AqSNWxvBM6LiL9tejRLVL7iLkaOm6JPs4wcN0X5irvaHZKZWcdptMThi9PHs0kWP5lKt9PSfW1XvuIuxj51Fvtm1hP0sW9mPWOfOstJ38xsnkZDOh8CxoD/ssB7AVzY9IgWacvEyLGTpnE8WyZGKF3bpqDMzDpQoyUO0wmGeX1EzJmmTdKq3KJahP0zpy1qv5lZUWWt0vm7jPtabqj/54vab2ZWVI3G8J8n6RxgtaSzJJ2dbv8SWFPvs60yPraXNTwxZ98anmB8bG97AjIz61CNxvB/B3gXsB74eNX+w8BHcoppUUrXXgDcxZaJEfbPnMZQ/88ZH9ub7jcz63z9/f289KUvJSLo7+/nk5/8JOeff37T22k0hn8dcJ2kS6LB/PftVLr2gqoLtOvTzcwsH+VyMlfa/v3JjArLXT979erV7Nq1C4DbbruNq6++mu985ztNivaoTDdeRcSNkt4I/AuS1asq+/+s6RGZmXWwcjlZL7syYWaz188+dOgQz33uc5d/ogVknTzt0yRj9q8GPgu8FfhhLhGZmXWwerMjLzXhP/XUU2zYsIEjR47wyCOPcMcddyw/0AVkrdI5PyLeCfy/iPhT4DzgjFwiMjPrYHnMjlwZ0tmzZw+33nor73znOyuLTzVV1oRfqcF/UtJpwLMkd96amRVKrVmQm7V+9nnnncejjz7KwYMHm3PCKlkT/tcknQR8DLgH2At8oenRmJl1uBxmR55jz549zMzMMDAw0JwTVmmY8CX1Ad+OiF+klTrDwIsj4j82PZrlymlhYTOzihxmR/71GP6GDRt4+9vfznXXXUd/f3/zgk41vGgbEbOS/ho4K339NPB0o8+lUy98F/iNtJ0bIuJPlhfusSrlURv3lfmMxlgTOV06NzNLNXl2ZGZmZpp3sjqyDul8W9IlWtxaW08DF0bEbwMbgIskvWLREdZRKY/atw/G2XI02Vc0YWFhM7NekTXhvw/4MvC0pEOSDks6VO8DkXg8fbki3Zp62bm6PGqIfBYWNjPrFVkXQFkbEX0RsTIiTkxfn9joc5L6Je0CDgC3R8TdCxwzJmlS0uRir0pX5/L95Hzp3Mysy2VK+JK+nWXffBExExEbSOY6eLmklyxwzEREjEbE6ODgYJZwfq06l3+EcZ6YP59bMy+dm1lPy6PuvZmaEV+j2TJXSToZWCfpuZJOTrcR4PlZG4mIXwA7gIuWE+x81eVR2ynxXibYr2GCJl06N7NCWLVqFdPT0x2b9COC6elpVq1a3jIkjap03gdcCZwG7CRZwBzgEPDJeh+UNAg8GxG/kLQaeC3wn5cV7TyVXF6ZxOjvhkrcOV5yjjezRVm/fj1TU1O53OzULKtWrWL9+uVNDKksv2iSPhARf7WoE0svA64D+kn+J/GlRpOtjY6OxuTk5GKaMTMrNEk7I2I0y7FZZ8v8K0nnAyPVn4mIz9f5zH2ktftmZtZ+WWfLvB54IbALqNwhEEDNhG9mZp0lax3+KLAxIq6IiA+k2wfzDGzJPL2CmdmCMvXwgR8DzwMeyTGW5ct7ZQIzsy6WtYe/DnhA0m2SvlrZ8gxsSeqtTGBmVnBZe/j/Kc8gmiaPlQnMzHpE1qkVvkMyB/6K9PmPSObF7yx5r0xgZtbFsk6t8F7gBuC/p7ueD9ycV1BLlvfKBGZmXSzrGP4fABtJ7rAlIn4C/GZeQS1ZHisTmJn1iKxj+E9HxDOV6fAlHUeTpzpummavTGBm1iOy9vC/I+kjwGpJryWZG/9r+YVlZmbNljXhXwUcBHaTTKj2P4E/zisoMzNrvqwJfzWwNSLeFhFvBbam+zqX77g1M5sj85q2zE3wq4FvNT+cJqle7Dbi6B23TvpmVmBZE/6qqvVpSZ+vqXN8e/mOWzOzY2RN+E9IOrvyQtI5wFP5hNQEvuPWzOwYWcsyrwS+LOnnJKtePQ94e25RLdfQUDKMs9B+M7OCyroAyo8kvRg4M931UEQ8m19YyzQ+PnfWTPAdt2ZWeFl7+ADncnTFq7Ml1V3xqq3mL3Y7NJQke9+QZWYF1rsrXvmOWzOzOXJb8UrSCyTtkPSApPslbV5+uIvkWnwzs1/Lc8WrXwH/LiLukbQW2Cnp9oh4YLFBLolXvzIzmyO3Fa8i4pGIuCd9fhh4kGRa5dZwLb6Z2RwtWfFK0ghwFnD3Au+NAWMAQ80sm3QtvpnZHItZ8WoPsDbdHkz3NSTpBOBG4MqIOLTAuSciYjQiRgcHB7NH3ohXvzIzmyPrile/B/wQeBvwe8Ddkt6a4XMrSJJ9OSK+spxAF82rX5mZzZF1SGcLcG5EHACQNEgyedoNtT6gZLWUz5H8b+Djyw100VyLb2Y2R9aLtn2VZJ+azvDZjcAm4EJJu9LtDUsJcslKJdi7F66/Pnm9aZPLM82ssLL28G+VdBuwPX39duCb9T4QEXeRzLvTXi7PNDMDQBHZlqaV9BbggvTlnRFxU7ODGR0djcnJyeaedGRk4YnUhoeT3r+ZWReTtDMiRrMcW7eHL+m3gFMi4nvpRdevpPsvkPTCiPjp8sPNmcszzcyAxuPwnwCOKaUEfpm+1/lcnmlmBjRO+KdExO75O9N9I7lE1GwuzzQzAxon/JPqvNfZi5hXlEowMZGM2UvJ48SEL9iaWeE0SviTkt47f6ekfwPszCekHJRKSY9+aCgZu9+yxaWZZlY4jcoyrwRuklTiaIIfBVYCb84zsKZyaaaZWbayTEmvBl6Svrw/Iu7II5hcyjLBpZlm1rOaVpZZERE7gB3LiqqdXJppZpZ5aoXu5tJMM7OCJPyFSjMBHn/cF2/NrDCKkfArpZkDA3P3T08nF2+d9M2sAIqR8CFJ+ieccOx+L3toZgVRnIQPvnhrZoVWrITvi7dmVmDFSvi+eGtmBVashO+Lt2ZWYMVK+OCLt2ZWWMVL+OCLt2ZWSLklfElbJR2Q9OO82liyWhdpTz65tXGYmbVQnj38vwEuyvH8Szc+DitWHLv/8GGP45tZz8ot4UfEd4HH8jr/spRKcOKJx+5/5hmP45tZzyrmGD7AYzV+izyOb2Y9qu0JX9KYpElJkwcPHmxdw7XG8fv6PKxjZj2p7Qk/IiYiYjQiRgcHB1vXcK2bsGZmXJNvZj2p7Qm/bSo3YfX3H/uea/LNrAflWZa5Hfg+cKakKUnvyautJSuVYHZ24fcWWhLRzKyL5Vml846IODUiVkTE+oj4XF5tLUutsXzJwzpm1lOKO6RTMT6eJPf5IjysY2Y9xQm/VEqS+0L27XMv38x6hhM+wPBw7fdcsWNmPcIJH2qXaEJSsbN5c2vjMTPLgRM+HC3RrGV62r18M+t6TvgVpVL9oR1fwDWzLueEX218vPZ7voBrZl3OCb9aqXTs8ofVNm2CK65oXTxmZk3khD/fNdfUvoAbAZ/+tHv6ZtaVjmt3AB2nVEoeL7ts4fcj4PLL5x5rZtYF3MNfSKMLuDMzHt4xs67jhF9LrSkXKjy8Y2Zdxgm/llIJ3v/+xkn/8sud9M2sKzjh13PttXD99QvPmV/h4R0z6xJO+I2USnDddY17+p/6VHLMunXu8ZtZR3LCzyLL8E7F9HRS4ePEb2Ydxgk/qyzDO9Uqid+9fjPrEE74i5FleGchTv5m1gGc8BdrMcM7C6lO/tWbfwjMLGe5JnxJF0l6SNI/SLoqz7ZaqjK8U2/encWq9UNQa+vvTx5HRvxDYWaZKGot77fcE0v9wP8GXgtMAT8C3hERD9T6zOjoaExOTuYST27K5WSBlOnpdkeSj74+mJ1Nflxy+rvidtyO2yHpQF5zzaKnbJG0MyJGM4WzqDMvzsuBf4iIf4yIZ4AvAv8qx/bao1SCRx9N/jC3bWtur78TzM4mj3n+o3A7bsftJJ3Gd7871/+x55nwnw/8rOr1VLqvd1WSfy8mfjPL3zPP5LrYUtsv2koakzQpafLgwYPtDqc5er3Xb2b52b8/t1PnmfAfBl5Q9Xp9um+OiJiIiNGIGB0cHMwxnDZx8jezxRgayu3UeSb8HwEvknS6pJXApcBXc2yv81Un/+rNPwRmBrByZf2lVpcpt4QfEb8C/hC4DXgQ+FJE3J9Xe12t1g9Bo60VPxR96V+Rpd534HbcjtvJ1s7AAGzdmuvCSrmVZS5FV5Zlmpm1UaeUZZqZWQdxwjczKwgnfDOzgnDCNzMrCCd8M7OC6KgqHUkHgX1L/Pg64NEmhtMN/J2LoYjfGYr5vZfynYcjItNdqx2V8JdD0mTW0qRe4e9cDEX8zlDM7533d/aQjplZQTjhm5kVRC8l/Il2B9AG/s7FUMTvDMX83rl+554Zwzczs/p6qYdvZmZ1dH3C79mF0uuQtFXSAUk/bncsrSLpBZJ2SHpA0v2SNrc7prxJWiXph5L+Pv3Of9rumFpFUr+keyV9vd2xtIKkvZJ2S9olKbcZJLt6SGcpC6X3AkmvAh4HPh8RL2l3PK0g6VTg1Ii4R9JaYCfwr3v5z1qSgOMj4nFJK4C7gM0R8YM2h5Y7SR8CRoETI+JN7Y4nb5L2AqMRket9B93ewy/GQunzRMR3gcfaHUcrRcQjEXFP+vwwyRoLPb1GciQeT1+uSLfu7aFlJGk98Ebgs+2Opdd0e8Iv3kLphqQR4Czg7vZGkr90aGMXcAC4PSJ6/jsDnwA+DMy2O5AWCuBbknZKGsurkW5P+FYwkk4AbgSujIhD7Y4nbxExExEbSNaEfrmknh7Ck/Qm4EBE7Gx3LC12Qfrn/HrgD9Jh26br9oSfaaF06w3pOPaNQDkivtLueFopIn4B7AAuancsOdsIXJyOaX8RuFDStvaGlL+IeDh9PADcRDJc3XTdnvC9UHpBpBcwPwc8GBEfb3c8rSBpUNJJ6fPVJMUJe9obVb4i4uqIWB8RIyT/nu+IiMvaHFauJB2fFiIg6XjgdUAuFXhdnfCLulC6pO3A94EzJU1Jek+7Y2qBjcAmkh7frnR7Q7uDytmpwA5J95F0bm6PiEKUKRbMKcBdkv4e+CHwjYi4NY+Guros08zMsuvqHr6ZmWXnhG9mVhBO+GZmBeGEb2ZWEE74ZmYF4YRvZlYQTvjW0ySdJOmK9Plpkm5o4rmvlPTOOu+/SdKfNas9s+VyHb71tHSita83exppSccB9wBnpzcALnSM0mM2RsSTzWzfbCncw7de91HghemduV+uLBoj6V2SbpZ0e7r4xB9K+lC66MYPJJ2cHvdCSbemsxjeKenF6XkvBO6pJHtJH0wXZ7lP0hchmd4Y+F9Az8/nbt3BCd963VXAT9OZCP/DvPdeArwFOBcYB56MiLNIpq2oDNVMAB+IiHOAfw9cm+7fSLIIS3U7Z0XEy4D3V+2fBF7ZvK9jtnTHtTsAszbakS6mcljSL4Gvpft3Ay9Lp2I+H/hyMjoDwG+kj6eSzN9UcR9QlnQzcHPV/gPAaTnFb7YoTvhWZE9XPZ+tej1L8m+jD/hF+r+D+Z4CVlW9fiPwKuB3gS2SXpoO96xKjzVrOw/pWK87DKxdygfTBVb+SdLbILkIK+m307cfBH4r3d8HvCAidgB/BDwHOCE97gxymurWbLGc8K2nRcQ08L30Yu3HlnCKEvCedOra+zm6ZvI3SXr0AP3ANkm7gXuB/5YuWALwauAbS43frJlclmm2RJJuAj4cET+p8f4pwBci4jWtjcxsYU74Zksk6UzglIj4bo33zwWejYhdrY3MbGFO+GZmBeExfDOzgnDCNzMrCCd8M7OCcMI3MysIJ3wzs4L4/0ruI58HPE9qAAAAAElFTkSuQmCC\n",
          "text/plain": "<matplotlib.figure.Figure at 0x1942f364048>"
         },
         "metadata": {
          "needs_background": "light"
         },
         "output_type": "display_data"
        }
       ]
      }
     },
     "80bdb8b9aee24bc39683fe6473af7328": {
      "model_module": "@jupyter-widgets/base",
      "model_module_version": "1.1.0",
      "model_name": "LayoutModel",
      "state": {}
     },
     "822efdba7ec14b0f9164cf80cb145f01": {
      "model_module": "@jupyter-widgets/output",
      "model_module_version": "1.0.0",
      "model_name": "OutputModel",
      "state": {
       "layout": "IPY_MODEL_5c421338fefd425e800bef95574cc300",
       "outputs": [
        {
         "data": {
          "image/png": "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\n",
          "text/plain": "<matplotlib.figure.Figure at 0x1942ce15588>"
         },
         "metadata": {
          "needs_background": "light"
         },
         "output_type": "display_data"
        }
       ]
      }
     },
     "8284fe95683047be99e96bda7ae93f6f": {
      "model_module": "@jupyter-widgets/controls",
      "model_module_version": "1.4.0",
      "model_name": "SliderStyleModel",
      "state": {
       "description_width": ""
      }
     },
     "82988ae92a6e4b0a8a0e0fe40e0cc9f8": {
      "model_module": "@jupyter-widgets/base",
      "model_module_version": "1.1.0",
      "model_name": "LayoutModel",
      "state": {}
     },
     "8320026c2a434d0485f8cee28d7c3bf5": {
      "model_module": "@jupyter-widgets/controls",
      "model_module_version": "1.4.0",
      "model_name": "IntSliderModel",
      "state": {
       "description": "B0",
       "layout": "IPY_MODEL_4e0ecdb372364a94859b9aa4bf9b7398",
       "max": 10,
       "style": "IPY_MODEL_d0bf1c14f4dc4b969bcb73b96a2613ab",
       "value": 3
      }
     },
     "8336da7f642f4351a3207191f1337536": {
      "model_module": "@jupyter-widgets/base",
      "model_module_version": "1.1.0",
      "model_name": "LayoutModel",
      "state": {}
     },
     "83e721cf90b54632a28f1abc06f257e7": {
      "model_module": "@jupyter-widgets/controls",
      "model_module_version": "1.4.0",
      "model_name": "SliderStyleModel",
      "state": {
       "description_width": ""
      }
     },
     "84cc253352ae4e348b5fe88b5297bf13": {
      "model_module": "@jupyter-widgets/controls",
      "model_module_version": "1.4.0",
      "model_name": "FloatSliderModel",
      "state": {
       "description": "km1",
       "layout": "IPY_MODEL_66d0b44e668a4d9cbe0ca70f2bf39fe7",
       "max": 10,
       "step": 0.1,
       "style": "IPY_MODEL_16befa1302f84a3f905048cfb3feca5f",
       "value": 5
      }
     },
     "85f163b248fa40d5a36ebf4e492b174d": {
      "model_module": "@jupyter-widgets/base",
      "model_module_version": "1.1.0",
      "model_name": "LayoutModel",
      "state": {}
     },
     "8677b22d6d6b455b82aa0d9de9d0d855": {
      "model_module": "@jupyter-widgets/base",
      "model_module_version": "1.1.0",
      "model_name": "LayoutModel",
      "state": {}
     },
     "871f0a775a2c4a8594fa27b0c0282670": {
      "model_module": "@jupyter-widgets/output",
      "model_module_version": "1.0.0",
      "model_name": "OutputModel",
      "state": {
       "layout": "IPY_MODEL_347d1d998f594563be6f567d422ea0fa",
       "outputs": [
        {
         "data": {
          "image/png": "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\n",
          "text/plain": "<matplotlib.figure.Figure at 0x1942ec8e5c0>"
         },
         "metadata": {
          "needs_background": "light"
         },
         "output_type": "display_data"
        }
       ]
      }
     },
     "88484f9500bc4b9280a6908484cf0ac0": {
      "model_module": "@jupyter-widgets/controls",
      "model_module_version": "1.4.0",
      "model_name": "ButtonStyleModel",
      "state": {}
     },
     "88d6c6ca7a2a4c9fab4a9479abeac774": {
      "model_module": "@jupyter-widgets/controls",
      "model_module_version": "1.4.0",
      "model_name": "IntSliderModel",
      "state": {
       "description": "B0",
       "layout": "IPY_MODEL_803beceb2d054d7bbf93048aa05ae52f",
       "max": 10,
       "style": "IPY_MODEL_192f6a9a23a84b7e90e9f1391bc1d094",
       "value": 7
      }
     },
     "89484f779804488ca891718517aee59c": {
      "model_module": "@jupyter-widgets/controls",
      "model_module_version": "1.4.0",
      "model_name": "SliderStyleModel",
      "state": {
       "description_width": ""
      }
     },
     "894b3c197ddb456ab4724d77dfe2a575": {
      "model_module": "@jupyter-widgets/output",
      "model_module_version": "1.0.0",
      "model_name": "OutputModel",
      "state": {
       "layout": "IPY_MODEL_80433bde23b8474b9735daf733859cbe"
      }
     },
     "89ef23967da7414b88b5d37d0779043d": {
      "model_module": "@jupyter-widgets/base",
      "model_module_version": "1.1.0",
      "model_name": "LayoutModel",
      "state": {}
     },
     "8b6b384da0174194a444d8cfc8cbf919": {
      "model_module": "@jupyter-widgets/controls",
      "model_module_version": "1.4.0",
      "model_name": "IntSliderModel",
      "state": {
       "description": "A0",
       "layout": "IPY_MODEL_341b04efc5e14b0791034568ff4b4e4e",
       "max": 10,
       "style": "IPY_MODEL_9627df301b424c2cb3ee0d03a452be07",
       "value": 5
      }
     },
     "8bc7ee80c9ac4698b024b1c1b03d51b2": {
      "model_module": "@jupyter-widgets/controls",
      "model_module_version": "1.4.0",
      "model_name": "FloatSliderModel",
      "state": {
       "description": "k_1",
       "layout": "IPY_MODEL_edf0ca91904a4bec9ec974afe5359f53",
       "max": 10,
       "step": 0.1,
       "style": "IPY_MODEL_7a4b4ec5e865458ea50df31ca29f0654",
       "value": 1.6
      }
     },
     "8bddac42e76741a1b9e31ac937bc3da7": {
      "model_module": "@jupyter-widgets/controls",
      "model_module_version": "1.4.0",
      "model_name": "FloatSliderModel",
      "state": {
       "description": "k_1",
       "layout": "IPY_MODEL_e0435d6686cc44c0aef63f2865ab65ea",
       "max": 10,
       "step": 0.1,
       "style": "IPY_MODEL_0788bbb9a6e84c0daf5d41a80c8f5467",
       "value": 5
      }
     },
     "8be6e61f7bb2424ba943f6e4c34cce2f": {
      "model_module": "@jupyter-widgets/controls",
      "model_module_version": "1.4.0",
      "model_name": "VBoxModel",
      "state": {
       "_dom_classes": [
        "widget-interact"
       ],
       "children": [
        "IPY_MODEL_11a9b65386f2458faaf61c876b4cebdf",
        "IPY_MODEL_a131479fe4f44d13ad536a26afec9ab4",
        "IPY_MODEL_98f5a3e3ccd84d7481b76bd27aa2706b",
        "IPY_MODEL_a6ed35855efa4e91ad0fb7a374f2526f",
        "IPY_MODEL_d677a1b8cd114ee28f1f6a65186ea114",
        "IPY_MODEL_3f6e1911e43b4371862fe8ed41d27fe4"
       ],
       "layout": "IPY_MODEL_e0bcffd256e84dbf91025fd11ef1d190"
      }
     },
     "8cc0edb3e3054874acba0d1f0c0df9c3": {
      "model_module": "@jupyter-widgets/base",
      "model_module_version": "1.1.0",
      "model_name": "LayoutModel",
      "state": {}
     },
     "8d165d4a4cad441aa6106599940d855e": {
      "model_module": "@jupyter-widgets/controls",
      "model_module_version": "1.4.0",
      "model_name": "SliderStyleModel",
      "state": {
       "description_width": ""
      }
     },
     "8d5739c1c06d49ad90611443d84bde5b": {
      "model_module": "@jupyter-widgets/controls",
      "model_module_version": "1.4.0",
      "model_name": "SliderStyleModel",
      "state": {
       "description_width": ""
      }
     },
     "8ed8f70a33c149f0a4f5f34e5f502636": {
      "model_module": "@jupyter-widgets/base",
      "model_module_version": "1.1.0",
      "model_name": "LayoutModel",
      "state": {}
     },
     "8ef9e6e69fe9493ca4ed2657f9fde970": {
      "model_module": "@jupyter-widgets/controls",
      "model_module_version": "1.4.0",
      "model_name": "FloatSliderModel",
      "state": {
       "description": "km1",
       "layout": "IPY_MODEL_67420a7d3d874049b9e5499dc8f2e44a",
       "max": 10,
       "step": 0.1,
       "style": "IPY_MODEL_4c137fd169f943248e3908d0a520f8ce",
       "value": 5
      }
     },
     "90dbcffe854c4525b4cc121c4b496b1a": {
      "model_module": "@jupyter-widgets/controls",
      "model_module_version": "1.4.0",
      "model_name": "VBoxModel",
      "state": {
       "_dom_classes": [
        "widget-interact"
       ],
       "children": [
        "IPY_MODEL_758fe96bc04d4f8cb0d3e0b049189901",
        "IPY_MODEL_8320026c2a434d0485f8cee28d7c3bf5",
        "IPY_MODEL_374a49c7847042269e5c858247e7f173",
        "IPY_MODEL_a232dfb4e0fe4a3dbd5f3fe4b9d746d2"
       ],
       "layout": "IPY_MODEL_19b46bc9fce74e169f4bcaa29de8051f"
      }
     },
     "913566ba15db45c29e31c68e4b9b2b3b": {
      "model_module": "@jupyter-widgets/controls",
      "model_module_version": "1.4.0",
      "model_name": "IntSliderModel",
      "state": {
       "description": "B0",
       "layout": "IPY_MODEL_f18988bfc7c849ceac05118a1a15ec77",
       "max": 10,
       "style": "IPY_MODEL_37916d370ef54516a5f5723417a401ab",
       "value": 8
      }
     },
     "9297653a0efa44b6ad1324233f17f102": {
      "model_module": "@jupyter-widgets/controls",
      "model_module_version": "1.4.0",
      "model_name": "VBoxModel",
      "state": {
       "_dom_classes": [
        "widget-interact"
       ],
       "children": [
        "IPY_MODEL_11838ce2b2804dd7932f7e1dd3d202c1",
        "IPY_MODEL_0ce686b436154d21bcc621a95ac30669",
        "IPY_MODEL_ac62be10cd5a4509b6115cad82c657d8",
        "IPY_MODEL_53ea4c8a93434de78ed9f904eb6691fc",
        "IPY_MODEL_c7ffa4c5ee2645549494cc4a895b3d26"
       ],
       "layout": "IPY_MODEL_a0cf94b2aedb40c0990b649db4fff304"
      }
     },
     "92ae361e098f4e55986d2470f228404c": {
      "model_module": "@jupyter-widgets/base",
      "model_module_version": "1.1.0",
      "model_name": "LayoutModel",
      "state": {}
     },
     "92e5967c5e9d4cefa23e830b5f5eb47a": {
      "model_module": "@jupyter-widgets/output",
      "model_module_version": "1.0.0",
      "model_name": "OutputModel",
      "state": {
       "layout": "IPY_MODEL_ef5b5123058e41209ea82be14799ab4a",
       "outputs": [
        {
         "data": {
          "image/png": "iVBORw0KGgoAAAANSUhEUgAAAYUAAAEKCAYAAAD9xUlFAAAABHNCSVQICAgIfAhkiAAAAAlwSFlzAAALEgAACxIB0t1+/AAAHq1JREFUeJzt3X+QXGWd7/H3Z4Z4J2GzRpMRI0Nmcl3U8meAkQuBpZQt3BAR1wXXbA2g3l2zEX9gWbuKxtq6WDW7Vrm7V5ArMStsgRnDKiAghlggcSVeASch/M5eWZ0Jk8KbIV4I2SEIk+/945zu9HR6ps/M9Omemf68qrq6z+nT53y7Av2d5zzP830UEZiZmQG0NDoAMzObOZwUzMysyEnBzMyKnBTMzKzIScHMzIqcFMzMrMhJwczMipwUzMysyEnBzMyKjml0AJO1ZMmS6OrqanQYZmazyo4dO56JiPZqx826pNDV1UV/f3+jwzAzm1UkDWY5zrePzMysyEnBzMyKnBTMzKzIScHMzIqcFMzMrCjXpCBpkaSbJO2W9ISk08vel6SrJD0p6WFJJ+cSSF8fdHVBS0vy3NeXy2XMzGa7vIekXglsjYgLJb0CWFD2/rnAienjvwHXpM+109cHa9fCyEiyPTiYbAP09NT0UmZms11uLQVJrwTOAq4FiIjfRcSzZYe9H7ghEvcBiyQtrWkg69cfSQgFIyPJfjMzGyPP20fLgWHgXyQ9KOlbko4tO+Z44KmS7aF03xiS1krql9Q/PDw8uSj27JncfjOzJpZnUjgGOBm4JiJOAv4TuHwqJ4qIjRHRHRHd7e1VZ2mPtWzZ5PabmTWxPJPCEDAUEfen2zeRJIlSe4ETSrY70n2109sLC8q6MhYsSPabmdkYuSWFiPgN8JSkN6a7/gh4vOyw24FL0lFIpwHPRcTTNQ2kpwc2boTOTpCS540b3clsZlZB3qOPPgX0pSOPfgV8VNI6gIjYAGwBVgNPAiPAR3OJoqfHScDMLINck0JE7AK6y3ZvKHk/gE/kGYOZmWXnGc1mZlbkpGBmZkVOCmZmVuSkYGZmRU4KZmZW5KRgZmZFTgpmZlbkpGBmZkVOCmZmVuSkYGZmRU4KZmZW5KRgZmZFTgpmZlbkpGBmZkVOCmZmVuSkYGZmRU4KZmZW5KQwg/T1wZIlyVLSU3m0tibPLS1TP4ev4+v4OjPzOoXPdXUlvxV5cVLISV9f8o8nwTHHZPuP4KKLYP/+qV/z8OHkOaImX8HX8XV8nRl0ncLnBgdh7dr8EoOTQg2VJoKLLkr+8QBGR5PnvP9jM7PmMDIC69fnc+5j8jlt87n0UtiwwT/8ZlYfe/bkc163FKap0A9wzTVOCGZWP8uW5XNetxSmwa0DM2uEBQugtzefc7ulMAUztXXQkv5rSr6Or+PrzLXrFD7X2QkbN0JPT23jKsi1pSBpAHgeGAVejojusvffBdwG/DrddUtEfDnPmKZrOq0DqfrnFi+GK6/M7x/czGwi9bh99O6IeGaC9++NiPPqEMe09fVNPiF0dibNPP/Im9ls4D6FSVi/PltC8F/7ZjZb5d2nEMDdknZIWjvOMSslPSzpTklvqXSApLWS+iX1Dw8P5xftBPr6jsw7GI8EH/84PPOME4KZzU55txTOjIi9kl4D3CVpd0T8tOT9ncCyiDgoaTVwK3Bi+UkiYiOwEaC7u7vuXbt9fckMwom4dWBmc0GuLYWI2Js+7wO+D5xa9v6BiDiYvt4CzJO0JM+YpuKyy5IZhJW4dWBmc0luSUHSsZIWFl4D7wEeLTvmtVIyMEvSqWk806j+U3t9fRPXI/r2t+Eb36hfPGZmecqzpXAcsF3SQ8ADwA8jYqukdZLWpcdcCDyaHnMVsCYix5H/heJELS2ZSw1OVF+ks9OtAzObW3LrU4iIXwHvqLB/Q8nrq4Gr84phjELHQOE+UKHUIEz4yz5RfZG8ZhSamTVK88xoXr/+6I6BKqUG+/qOzCIst3ixWwlmNvc0T1IY70/+cfYXGhaFstelFixIRhqZmc01zZMUxispOM7+Sg0LSFY/yrPuiJlZIzVPUujtTf7ELzVBqcHxGhaHDzshmNnc1TxJoacn+RO/szOZXFCl1OAkGxZmZnNC8yQFSBLAwEDy5/7AwIR/8q9efXRp2zxrmJuZzQTNlRQy6uuD668fW/xOgg9/2LeOzGxuc1KooFIncwRs2dKYeMzM6qXq5DVJpwMXAX8ILAVeIClX8UNgU0Q8l2uEDTDJ0atmZnPGhC0FSXcCfwn8CFhFkhTeDHwJaANuk3R+3kHWmzuZzaxZVWspXFxh1bSDJCWvdwL/OBOrmk5Xb+/YihjgTmYzaw4TthQmWkZT0s+qHTMb9fUd6VNobU325b1QtpnZTDGdgnhz7mZKec280dEjLQQnBDNrBtMZfVT3FdDyNoWaeWZmc8qELQVJfzreW8D82ofTWB51ZGbNrtrto/dN8N4dtQxkJli2LFlmodJ+M7NmUC0p/DPw81xXQ5tBPOrIzJpdtT6Fi4Edkm6U9BFJr61HUI0yyZp5ZmZzjrI0AiS9CTgX+GPglcA2YCvws4iosAxNfrq7u6O/v7+elzQzm/Uk7YiI7mrHZRp9FBG7I+J/RsQq4GxgO/BB4P7phTmz9PVBV1eyBGdXV7JtZtZMqo0+evU4b90H3BcRv619SI1RPkdhcDDZBt8+MrPmMeHtI0m/JpmPoApvR0T817wCG09et4+6uiqPPOrsTJZeMDObzbLePpqwpRARy2sX0szmOQpmZpMoc5FWQz0r3fxJRFSdpyBpAHgeGAVeLs9SkgRcCawGRoCPRMTOrDHVkucomJll7GiW9BXgMuDx9HGZpL/LeI13R8SKcZot5wInpo+1wDUZz1lzvb3JnIRSnqNgZs0ma+2j1cA5EXFdRFxHsrbCeTW4/vuBGyJxH7BI0tIanHfSPEfBzGxyVVIXAYXRRq/M+JkA7pY0CnwzIjaWvX888FTJ9lC67+lJxFUzPT1OAmbW3LImhb8HHpS0jWQk0lnA5Rk+d2ZE7JX0GuAuSbsj4qeTDVLSWpLbSyzzTX4zs9xknby2GTgNuAW4GTg9Iv41w+f2ps/7gO8Dp5Ydshc4oWS7I91Xfp6NEdEdEd3t7e1ZQjYzsymYzHoKhV/jY4CVE5TVBkDSsZIWFl4D7wEeLTvsduASJU4DnouIfG8dedqymdm4so4+ug64DriApJz2+6je0XwcsF3SQ8ADwA8jYqukdZLWpcdsAX4FPElSkfXSyX+FSShMWx4chIjitOW+S7c7T5iZkb0g3uMR8eY6xFPVtGY0V5i23Mefs1bfYiSOjEddsMAjj8xsbqlpQTzg55JmRFKYlgrTk9fzd2MSAngJTjNrXllHH91Akhh+A7xIMgIpIuLtuUWWhwrTlvdQeTSTy1uYWTPK2lK4lmTBnVUc6U+YaKnOmanCtOVlGqp4qEe+mlkzypoUhiPi9oj4dUQMFh65RpaHCtOWe9ftcXkLM7NU1ttHD0r6DvADkttHAETELblElaeyacs9AGckfQh79iQthN5edzKbWXPKmhTmkySD95TsC5LJbLOey1uYmSUyJYWI+GjegZiZWeNN2Kcg6UsTLMmJpLMl1aJaqpmZzQDVWgqPAD+QdAjYCQwDbSTrH6wA7gayrqtgZmYzXLXlOG8DbpN0InAGsBQ4AGwC1kbEC/mHaGZm9ZK1T+GXwC9zjsXMzBpsMlVSzcxsjpvMymtzUl+f5yiYWXUvvfQSQ0NDHDp0qNGhTKitrY2Ojg7mzZs3pc83dVIoVNIeGUm200ragBODmY01NDTEwoUL6erqQlKjw6koIti/fz9DQ0MsX758SufIlBQktQMfA7pKPxMR/31KV50h1q8/khAKChVSnRTMrNShQ4dmdEIAkMTixYsZHh6e8jmythRuA+4lGYI6OuWrzTDjVUJ1hVQzq2QmJ4SC6caYtaN5QUR8PiK+GxE3Fx7TuvIMMF4lVFdINbOZ6tZbb0USu3fvzuX8WZPCHZJW5xJBA1WopO0KqWZWGzmtB79582bOPPNMNm/eXJPzlcuaFC4jSQyHJD2fPg7kElEdVaik7WU4zWz6xlkPfrqJ4eDBg2zfvp1rr72WG2+8sUbBjpUpKUTEwohoiYi29PXCiPj9XCKqs54eGBiAw4eTZycEM5u2iUaxTMNtt93GqlWreMMb3sDixYvZsWPHtM5XSebJa5LOl/QP6WP2F8HLqWlnZpbXKJbNmzezZs0aANasWZPLLaSsQ1K/ArwTKPxyXibpjIj4Qs0jqgdPUDCzPFVYD764f4p++9vfcs899/DII48gidHRUSTx1a9+taajorK2FFYD50TEdRFxHclaze+tWRT1llPTzswMyGUUy0033cTFF1/M4OAgAwMDPPXUUyxfvpx77713msGONZnaR4tKXr+yplHUmycomFmechjFsnnzZj7wgQ+M2XfBBRfU/BZS1slrf0+yTvM2QMBZwOVZPiipFegH9kbEeWXvvYtkYtyv0123RMSXM8Y0dTk07czMxqjxOr/btm07at+nP/3pmp2/IGvp7M2SfkLSrwDw+Yj4TcZrXAY8AYw3Wune8mSRu97esX0K4AkKZmZUX47zTenzySQL7Aylj9el+yYkqYOk7+Fb0w+1hjxBwcysomothc8Ca4F/rPBeAGdX+fzXgM8BCyc4ZqWkh4G9wF9HxGNVzlkbNW7amZnNBdWW40zHaXJuRIwpIi6pbaLPpnMZ9kXEjrTvoJKdwLKIOJiW0biVZP3n8nOtJUlOLPN9fzOz3GQdffS/M+4rdQZwvqQB4EbgbEmbSg+IiAMRcTB9vQWYJ2lJ+YkiYmNEdEdEd3t7e8aQzcxssqr1KbxW0inAfEknSTo5fbwLWDDRZyPiCxHRERFdwBrgnoi4qML5lb4+NY1n/9S/Tnae0GxmdrRqfQp/DHwE6AD+qWT/88AXp3JBSesAImIDcCHwcUkvAy8AayIipnLeyfCEZjObjVpbW3nb295GRNDa2srVV1/NypUra3uRiKj6AC7Iclw9HqecckpMV2dnRFK6cOyjs3PapzazOerxxx+f1PGbNiW/KVLyvGnT9GM49thji6+3bt0aZ511VsXjKsUK9EeG39is8xRulvRe4C1AW8n+/Cea5cATms0sT/W4G3HgwAFe9apX1eZkJbIWxNtA0ofwbpI5BxcCD9Q8mjrxhGYzy1Ne67+/8MILrFixgkOHDvH0009zzz33TC/QCrKOPloZEZcA/y8irgBOB95Q82jqxCuumVme8robMX/+fHbt2sXu3bvZunUrl1xySeEWf81kTQqFOQojkl4HvEQyw3lW8oRmM8tTPdZ/P/3003nmmWcYHh6u3UnJnhR+IGkR8FWSCWcDwHdqGkmdecU1M8tLPe5G7N69m9HRURYvXly7k5IhKUhqAX4cEc9GxM1AJ/CmiPjbmkbSKJ6wYGY1ltfdiEKfwooVK/jQhz7E9ddfT2tra22CTlXtaI6Iw5L+F3BSuv0i8GJNo2gUT1gws5zkUV5tdHS0tiesIOvtox9LuqAw+3jO8ApsZmZjZE0KfwV8D3hR0gFJz0s6kGNc9eEJC2ZmY2SdvDZR6evZyxMWzMzGyNRSkPTjLPtmHU9YMLNJqPWcgDxMN8ZqVVLbJL0aWCLpVZJenT66gOOndeWZwBMWzCyjtrY29u/fP6MTQ0Swf/9+2tomXO5mQtVuH/0V8BngdcAOoNDRfAC4espXnUm8ApuZZdDR0cHQ0FDNJ4vVWltbGx0dHVP+fLWV164ErpT0qYj4+pSvYmY2y82bN4/ly5c3OozcZe1o/rqklUBX6Wci4oac4jIzswbIWiX128DrgV1AYfZEAE4KZmZzSKakAHQDb46Z3MNiZmbTlnXy2qPAa/MMxMzMGi9rS2EJ8LikByipexQR5+cSlZmZNUTWpPA/8gyi4fr6knpHe/Yks5l7ez1M1cyaUqbbRxHxbyRrKMxLX/+CZF2FWae8Uvb2S9NKqYODEHGkUqpLaJtZE8pa5uJjwE3AN9NdxwO35hVUXvoq/P4v2+BKqWZmBVk7mj8BnEEyk5mI+CXwmryCykulStkd4UqpZmYFWZPCixHxu8KGpGNI5inMKpV+5/dQh8VUzcxmiaxJ4d8kfRGYL+kckrUVfpDlg5JaJT0o6Y4K70nSVZKelPSwpJOzhz55lX7nv0gvI3KlVDMzyJ4ULgeGgUdIiuRtAb6U8bOXAU+M8965wInpYy1wTcZzTkmlStm3Lehh5zpXSjUzg+xDUucD10XEP0Py13+6b2SiD0nqAN4L9AKfrXDI+4Eb0pnS90laJGlpRDyd9QtMRuF3vnz06Zk9PYCTgJlZ5jWaSZJAwXzg7gyf+xrwOeDwOO8fDzxVsj1Ezus09PTAwAAcPpw8u0FgZnZE1qTQFhEHCxvp6wUTHI+k84B9EbFjGvEVzrVWUr+k/pley9zMbDbLmhT+s7QTWNIpwAtVPnMGcL6kAeBG4GxJm8qO2QucULLdke4bIyI2RkR3RHS3t7dnDNnMzCYra1L4DPA9SfdK2g78K/DJiT4QEV+IiI6I6ALWAPdExEVlh90OXJKOQjoNeC6v/oRMyqc7e1azmTWZrIvs/ELSm4A3prv+PSJemsoFJa1Lz7mBZBTTauBJkk7rj07lnDVRmO5cmN1WKHcB7ngws6ahrEskzJSV17q7u6O/v7/2J+7qShJBuc7OpEfazGwWk7QjIrqrHeeV1wrGK2vhchdm1kS88lrBsmWVWwoud2FmTcQrrxVUmu7schdm1mS88lrBeNOd3clsZk3EK6+V6ulxEjCzpjaZldd2AwvTxxPpvrnHcxXMrIllXXntz4AHgA8CfwbcL+nCPANriEpLs3lpTjNrIpnmKUh6CDgnIval2+3A3RHxjpzjO0pu8xTAcxXMbM7KOk8h6+ijlkJCSO2fxGdnD89VMLMml7WjeaukHwGb0+0PAXfmE1IDea6CmTW5rB3NfwN8E3h7+tgYEZ/LM7CG8FwFM2tyE7YUJP0BcFxE/CwibgFuSfefKen1EfEf9QiybkrnKgwOQmtrUiBv/fqx75uZzVHVWgpfAw5U2P9c+t7c09NzpMUwmpZ58igkM2sS1ZLCcRHxSPnOdF9XLhHNBOvXHymhXVDaYjAzm6OqJYVFE7w3f4L3ZjePQjKzJlUtKfRL+lj5Tkl/CUx77eUZa7zRRh6FZGZzXLUhqZ8Bvi+phyNJoBt4BfCBPANrqN7esauwAUiwenXjYjIzq4MJWwoR8X8jYiVwBTCQPq6IiNMj4jf5h9cgPT3w4Q8niaAgAq6/3p3NZjanZZ2nsC0ivp4+7sk7qLxMqtbdli1JIijlzmYzm+Oyzmie9Qq17gp3hAqjTGGc6QfubDazJjT36heNY9KjTMfrVG5p8S0kM5uzmiYpTPoP/0olLyCZ0OaJbGY2RzVNUpj0KNOeHti4MSl1Uc59C2Y2RzVNUphSrbueHjh8uPJ7laqpmpnNcrklBUltkh6Q9JCkxyRdUeGYd0l6TtKu9PG3ecVT+MO/szMZadrZmWxXrXE3XlNC8i0kM5tz8hx99CJwdkQclDQP2C7pzoi4r+y4eyPivBzjKOrpmUKh095euPjio4enRiRzGQonNjObA3JrKUTiYLo5L31UX/tzpunpOTohFIyOJgnj0kvrG5OZWU5y7VOQ1CppF7APuCsi7q9w2EpJD0u6U9Jb8oxnyjo7x38vAjZs8K0kM5sTck0KETEaESuADuBUSW8tO2QnsCwi3g58Hbi10nkkrZXUL6l/eHg4z5ArG294akHhVpITg5nNcnUZfRQRzwLbgFVl+w8UbjFFxBZgnqQlFT6/MSK6I6K7vb29HiGPNdHw1ILRUbjooqQDumoNDTOzmSnP0Uftkhalr+cD5wC7y455rZRUnZN0ahrP/rximpaenqQgXmmRvPEMDjpBmNmslGdLYSmwTdLDwC9I+hTukLRO0rr0mAuBRyU9BFwFrIkYr1d3BujpgXXrsiWGgtIE0dKSPEtJq8NJw8xmGM3k3+BKuru7o7+/v7FB9PUlfQiFNZxnipaWZLKdNP6IKV/H1/F1Zud1Cp/r7Ez6OSc5FF7SjojornZc01RJranCP0al+QuNVJh9nXdMvo6v4+vU/zqFz1Ut8Tw9TVPmouamcivJzKwWcqy/5qQwHd/4Bnz72xPPYzAzy0NOa7s4KUxXTw8MDCRNwU2bnCDMrD7GLfE8PU4KtTRegijMb/CtJjOrhaolnqfOSSEvpQni5ZeT58OHk+fypFGrZNHSUtvz+Tq+jq8zc65T+FzmEs9T49FHjTKlkq1mZvlyS8HMzIqcFMzMrMhJwczMipwUzMysyEnBzMyKnBTMzKzIScHMzIqcFMzMrMhJwczMipwUzMysyEnBzMyKnBTMzKzIScHMzIqcFMzMrMhJwczMipwUzMysyEnBzMyKcksKktokPSDpIUmPSbqiwjGSdJWkJyU9LOnkvOIxM7Pq8mwpvAicHRHvAFYAqySdVnbMucCJ6WMtcE0egfT1QVdXssRpV1eybWZmR8ttjeaICOBgujkvfUTZYe8HbkiPvU/SIklLI+LpWsXR1wdr18LISLI9OJhsg5dINjMrl2ufgqRWSbuAfcBdEXF/2SHHA0+VbA+l+2pm/fojCaFgZCTZb2ZmY+WaFCJiNCJWAB3AqZLeOpXzSForqV9S//Dw8KQ+u2fP5PabmTWzuow+iohngW3AqrK39gInlGx3pPvKP78xIrojoru9vX1S1162bHL7zcyaWZ6jj9olLUpfzwfOAXaXHXY7cEk6Cuk04Lla9icA9PbCggVj9y1YkOw3M7OxcutoBpYC10tqJUk+342IOyStA4iIDcAWYDXwJDACfLTWQRQ6k9evT24ZLVuWJAR3MpuZHU3JwJ/Zo7u7O/r7+xsdhpnZrCJpR0R0VzvOM5rNzKzIScHMzIqcFMzMrMhJwczMipwUzMysaNaNPpI0DAxO8eNLgGdqGM5s0Yzf29+5Ofg7Z9cZEVVn/866pDAdkvqzDMmaa5rxe/s7Nwd/59rz7SMzMytyUjAzs6JmSwobGx1AgzTj9/Z3bg7+zjXWVH0KZmY2sWZrKZiZ2QSaJilIWiXp3yU9KenyRsdTD5Kuk7RP0qONjqUeJJ0gaZukxyU9JumyRsdUD5LaJD0g6aH0e1/R6JjqIV3Z8UFJdzQ6lnqRNCDpEUm7JOVSGbQpbh+l5bv/D8maDkPAL4A/j4jHGxpYziSdRbJO9g0RMaVV72YTSUuBpRGxU9JCYAfwJ03w7yzg2Ig4KGkesB24LCLua3BouZL0WaAb+P2IOK/R8dSDpAGgOyJym5vRLC2FU4EnI+JXEfE74Ebg/Q2OKXcR8VPgt42Oo14i4umI2Jm+fh54ghqv+T0TReJgujkvfczpv/YkdQDvBb7V6FjmmmZJCscDT5VsD9EEPxbNTFIXcBJwf2MjqY/0VsouYB9wV0TM9e/9NeBzwOFGB1JnAdwtaYektXlcoFmSgjURSb8H3Ax8JiIONDqeeoiI0YhYQbLO+amS5uztQknnAfsiYkejY2mAM9N/53OBT6S3iGuqWZLCXuCEku2OdJ/NMek99ZuBvoi4pdHx1FtEPAtsA1Y1OpYcnQGcn95fvxE4W9KmxoZUHxGxN33eB3yf5NZ4TTVLUvgFcKKk5ZJeAawBbm9wTFZjaYfrtcATEfFPjY6nXiS1S1qUvp5PMqBid2Ojyk9EfCEiOiKii+T/5Xsi4qIGh5U7ScemAyiQdCzwHqDmIwubIilExMvAJ4EfkXQ+fjciHmtsVPmTtBn4OfBGSUOS/qLRMeXsDOBikr8cd6WP1Y0Oqg6WAtskPUzyB9BdEdE0wzSbyHHAdkkPAQ8AP4yIrbW+SFMMSTUzs2yaoqVgZmbZOCmYmVmRk4KZmRU5KZiZWZGTgpmZFTkpmJlZkZOCGSBpkaRL09evk3RTDc/9GUmXTPD+eZK+XKvrmU2H5ymYUSygd0etS4xLOgbYCZycTqKsdIzSY86IiJFaXt9sstxSMEt8BXh9Ogv6e4WFiSR9RNKtku5KFzj5pKTPpou73Cfp1elxr5e0Na1eea+kN6XnPRvYWUgIkj6dLgL0sKQbISl9DfwEaIo1AWxmc1IwS1wO/EdagfJvyt57K/CnwDuBXmAkIk4iKSFSuC20EfhURJwC/DXwjXT/GSSL/ZRe56SIeDuwrmR/P/CHtfs6ZlNzTKMDMJsFtqWL9jwv6TngB+n+R4C3p6W6VwLfS+4EAfBf0uelJPW2Ch4G+iTdCtxasn8f8Lqc4jfLzEnBrLoXS14fLtk+TPL/UAvwbNrKKPcC0Fay/V7gLOB9wHpJb0tvLbWlx5o1lG8fmSWeBxZO5YPpQj6/lvRBSDqOJb0jffsJ4A/S/S3ACRGxDfg88Erg99Lj3kAOZZDNJstJwQyIiP3Az9IO5q9O4RQ9wF+kZY0f48ga4HeStAwAWoFNkh4BHgSuShfFAXg38MOpxm9WKx6SapYzSd8HPhcRvxzn/eOA70TEH9U3MrOjOSmY5UzSG4HjIuKn47z/TuCliNhV38jMjuakYGZmRe5TMDOzIicFMzMrclIwM7MiJwUzMytyUjAzs6L/D6OWr0MIg5McAAAAAElFTkSuQmCC\n",
          "text/plain": "<matplotlib.figure.Figure at 0x1942f3e6fd0>"
         },
         "metadata": {
          "needs_background": "light"
         },
         "output_type": "display_data"
        }
       ]
      }
     },
     "936548c2437849708f4164e45857634a": {
      "model_module": "@jupyter-widgets/base",
      "model_module_version": "1.1.0",
      "model_name": "LayoutModel",
      "state": {}
     },
     "94426ab2a9cc44b0982948ea02154028": {
      "model_module": "@jupyter-widgets/controls",
      "model_module_version": "1.4.0",
      "model_name": "SliderStyleModel",
      "state": {
       "description_width": ""
      }
     },
     "95a4b2c77e8642488dbc13862473c08f": {
      "model_module": "@jupyter-widgets/base",
      "model_module_version": "1.1.0",
      "model_name": "LayoutModel",
      "state": {}
     },
     "9627df301b424c2cb3ee0d03a452be07": {
      "model_module": "@jupyter-widgets/controls",
      "model_module_version": "1.4.0",
      "model_name": "SliderStyleModel",
      "state": {
       "description_width": ""
      }
     },
     "963d6693b4884902b2b6f149613fe692": {
      "model_module": "@jupyter-widgets/base",
      "model_module_version": "1.1.0",
      "model_name": "LayoutModel",
      "state": {}
     },
     "965f5f7913394b3ab30f32f91e1d0836": {
      "model_module": "@jupyter-widgets/controls",
      "model_module_version": "1.4.0",
      "model_name": "ButtonStyleModel",
      "state": {}
     },
     "96bc5d240ce94e72b599d77b6ff4e90b": {
      "model_module": "@jupyter-widgets/base",
      "model_module_version": "1.1.0",
      "model_name": "LayoutModel",
      "state": {}
     },
     "9725f7eee12340a599be631cb049c985": {
      "model_module": "@jupyter-widgets/base",
      "model_module_version": "1.1.0",
      "model_name": "LayoutModel",
      "state": {}
     },
     "9826e581c2c7420fa4bf7c0fa1a850aa": {
      "model_module": "@jupyter-widgets/base",
      "model_module_version": "1.1.0",
      "model_name": "LayoutModel",
      "state": {}
     },
     "98a3130990e94f2d8dc7e75620b29a62": {
      "model_module": "@jupyter-widgets/base",
      "model_module_version": "1.1.0",
      "model_name": "LayoutModel",
      "state": {}
     },
     "98cfd26b27db4857a9f33a7b6978063f": {
      "model_module": "@jupyter-widgets/controls",
      "model_module_version": "1.4.0",
      "model_name": "VBoxModel",
      "state": {
       "_dom_classes": [
        "widget-interact"
       ],
       "children": [
        "IPY_MODEL_4745aabbb79c439ab34286cff746e860",
        "IPY_MODEL_64313b6f6fc649c6b74c12cb91c1e49e",
        "IPY_MODEL_e0663fec83e74868bf312d0107643dcc",
        "IPY_MODEL_263b2ea032b942558d3b55d112921e24"
       ],
       "layout": "IPY_MODEL_89ef23967da7414b88b5d37d0779043d"
      }
     },
     "98f5a3e3ccd84d7481b76bd27aa2706b": {
      "model_module": "@jupyter-widgets/controls",
      "model_module_version": "1.4.0",
      "model_name": "FloatSliderModel",
      "state": {
       "description": "k_1",
       "layout": "IPY_MODEL_1ee95dbc291b48bbad517ad66df53732",
       "max": 10,
       "step": 0.1,
       "style": "IPY_MODEL_5bd0c57a51b848078982733d97d3beab",
       "value": 5
      }
     },
     "99898c8947404fcb847b61cebcf00072": {
      "model_module": "@jupyter-widgets/base",
      "model_module_version": "1.1.0",
      "model_name": "LayoutModel",
      "state": {}
     },
     "99eb3d2b6e0c47a6af21e8a4a0c0756d": {
      "model_module": "@jupyter-widgets/controls",
      "model_module_version": "1.4.0",
      "model_name": "SliderStyleModel",
      "state": {
       "description_width": ""
      }
     },
     "9a398864534e40e986676cbcb6ee7ee9": {
      "model_module": "@jupyter-widgets/controls",
      "model_module_version": "1.4.0",
      "model_name": "VBoxModel",
      "state": {
       "_dom_classes": [
        "widget-interact"
       ],
       "children": [
        "IPY_MODEL_5fbd7199608c46458f3efa32b41aa26e",
        "IPY_MODEL_26a1f39a301a42288fe94637d4630438",
        "IPY_MODEL_f1828f55f4ea4257b47c301b5ad5e421",
        "IPY_MODEL_dfd44079ace84780b14bdba9f0239c05",
        "IPY_MODEL_131db3c606f9411d8ddf27504a68734d",
        "IPY_MODEL_2b61ce5cf3c04c05b37eeeed2027ef09"
       ],
       "layout": "IPY_MODEL_6821d9a6f7ef4a94afc3c6394a603fcf"
      }
     },
     "9a618019d23e45899277de0bdb0667c5": {
      "model_module": "@jupyter-widgets/controls",
      "model_module_version": "1.4.0",
      "model_name": "FloatSliderModel",
      "state": {
       "description": "k_1",
       "layout": "IPY_MODEL_b39459a63e4645809a18878569d916ec",
       "max": 10,
       "step": 0.1,
       "style": "IPY_MODEL_8009f0cacaaa4b0a9d3cfc7b4cbd6038",
       "value": 3.3
      }
     },
     "9b0ed335d78b4aeebbcc8b42a1bf131a": {
      "model_module": "@jupyter-widgets/controls",
      "model_module_version": "1.4.0",
      "model_name": "VBoxModel",
      "state": {
       "_dom_classes": [
        "widget-interact"
       ],
       "children": [
        "IPY_MODEL_ea6fe6a679bb4c3287fda2cda42224ed",
        "IPY_MODEL_3db79b3d9c5142a9a04ae4ec12b9fed0",
        "IPY_MODEL_783735d33fc4445bb922b8d9c3e2a0bc",
        "IPY_MODEL_d8873d752d184491a7beedcf87d34e17",
        "IPY_MODEL_1914104fe2ab434b9eff1febcc1eb2fc",
        "IPY_MODEL_894b3c197ddb456ab4724d77dfe2a575"
       ],
       "layout": "IPY_MODEL_6a741dcb17624ddb8226225fea3ae2b0"
      }
     },
     "9b2e0c8ed07d4a738ed77f08a8b560c4": {
      "model_module": "@jupyter-widgets/controls",
      "model_module_version": "1.4.0",
      "model_name": "FloatSliderModel",
      "state": {
       "description": "k_1",
       "layout": "IPY_MODEL_13950e73be15449b8b6a93b341621e8d",
       "max": 10,
       "step": 0.1,
       "style": "IPY_MODEL_77ec8bc855494a739d785d92a2a276a7",
       "value": 5
      }
     },
     "9b3c1a5f963f4d2395e4184af1c4f71c": {
      "model_module": "@jupyter-widgets/controls",
      "model_module_version": "1.4.0",
      "model_name": "IntSliderModel",
      "state": {
       "description": "B0",
       "layout": "IPY_MODEL_247b7883a7844df8a9fafc1fd48957ed",
       "max": 10,
       "style": "IPY_MODEL_084d6166f87e4c9c8d3f4c0bf600dbc6",
       "value": 4
      }
     },
     "9c9819d04f8845449c1b3692233a543e": {
      "model_module": "@jupyter-widgets/base",
      "model_module_version": "1.1.0",
      "model_name": "LayoutModel",
      "state": {}
     },
     "9ca7310a0dad426eab441f0aa98b6ab2": {
      "model_module": "@jupyter-widgets/controls",
      "model_module_version": "1.4.0",
      "model_name": "SliderStyleModel",
      "state": {
       "description_width": ""
      }
     },
     "9d51dad9b43f42cbac9af62c839089de": {
      "model_module": "@jupyter-widgets/base",
      "model_module_version": "1.1.0",
      "model_name": "LayoutModel",
      "state": {}
     },
     "9e69a3dbbe2f473aa6706a20fc5c987f": {
      "model_module": "@jupyter-widgets/output",
      "model_module_version": "1.0.0",
      "model_name": "OutputModel",
      "state": {
       "layout": "IPY_MODEL_9d51dad9b43f42cbac9af62c839089de",
       "outputs": [
        {
         "data": {
          "image/png": "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\n",
          "text/plain": "<matplotlib.figure.Figure at 0x1942e839828>"
         },
         "metadata": {
          "needs_background": "light"
         },
         "output_type": "display_data"
        }
       ]
      }
     },
     "a0192df367824251a359bda4dad0a717": {
      "model_module": "@jupyter-widgets/controls",
      "model_module_version": "1.4.0",
      "model_name": "FloatSliderModel",
      "state": {
       "description": "km1",
       "layout": "IPY_MODEL_352d33552165496ba0754b58ed572346",
       "max": 10,
       "step": 0.1,
       "style": "IPY_MODEL_776adf9e83834cd38f097eb1dce768f4",
       "value": 2.7
      }
     },
     "a0cf94b2aedb40c0990b649db4fff304": {
      "model_module": "@jupyter-widgets/base",
      "model_module_version": "1.1.0",
      "model_name": "LayoutModel",
      "state": {}
     },
     "a10bddd1014640159357c7985b9324df": {
      "model_module": "@jupyter-widgets/controls",
      "model_module_version": "1.4.0",
      "model_name": "VBoxModel",
      "state": {
       "_dom_classes": [
        "widget-interact"
       ],
       "children": [
        "IPY_MODEL_c49bd99084d746c5ba748af86f4fdd2b",
        "IPY_MODEL_79648391e5e34e4988a9306d04c7e941",
        "IPY_MODEL_d117d87d8afe4f70a6894f40058f95d3",
        "IPY_MODEL_2d1ec3a557944132bb5cd503e410ffd2"
       ],
       "layout": "IPY_MODEL_ca831171071d4ee5a700834ab952a038"
      }
     },
     "a131479fe4f44d13ad536a26afec9ab4": {
      "model_module": "@jupyter-widgets/controls",
      "model_module_version": "1.4.0",
      "model_name": "IntSliderModel",
      "state": {
       "description": "B0",
       "layout": "IPY_MODEL_2a44e396e5e34e239e37533c78b057ab",
       "max": 10,
       "style": "IPY_MODEL_b6051845070148a69e9696fe872590d3",
       "value": 5
      }
     },
     "a1981a44c3dd4e56ab2b4a18cb30ce50": {
      "model_module": "@jupyter-widgets/base",
      "model_module_version": "1.1.0",
      "model_name": "LayoutModel",
      "state": {}
     },
     "a232dfb4e0fe4a3dbd5f3fe4b9d746d2": {
      "model_module": "@jupyter-widgets/output",
      "model_module_version": "1.0.0",
      "model_name": "OutputModel",
      "state": {
       "layout": "IPY_MODEL_d3f08b11476841e5b5e31b5ee6e339c8",
       "outputs": [
        {
         "data": {
          "image/png": "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\n",
          "text/plain": "<matplotlib.figure.Figure at 0x1942ea09240>"
         },
         "metadata": {
          "needs_background": "light"
         },
         "output_type": "display_data"
        }
       ]
      }
     },
     "a263f8c556ac4053aec39e59be8c9cd2": {
      "model_module": "@jupyter-widgets/base",
      "model_module_version": "1.1.0",
      "model_name": "LayoutModel",
      "state": {}
     },
     "a463454b553945e38b7ca8158261abc5": {
      "model_module": "@jupyter-widgets/controls",
      "model_module_version": "1.4.0",
      "model_name": "SliderStyleModel",
      "state": {
       "description_width": ""
      }
     },
     "a4ec632e176942dcb8b42af00e7339bf": {
      "model_module": "@jupyter-widgets/base",
      "model_module_version": "1.1.0",
      "model_name": "LayoutModel",
      "state": {}
     },
     "a5736ccc6d4e4d3ebf4b03c3c256c686": {
      "model_module": "@jupyter-widgets/controls",
      "model_module_version": "1.4.0",
      "model_name": "ButtonStyleModel",
      "state": {}
     },
     "a653e296e3eb4366ab24da853c859901": {
      "model_module": "@jupyter-widgets/base",
      "model_module_version": "1.1.0",
      "model_name": "LayoutModel",
      "state": {}
     },
     "a693c377b70c448bb73580acc667c98a": {
      "model_module": "@jupyter-widgets/output",
      "model_module_version": "1.0.0",
      "model_name": "OutputModel",
      "state": {
       "layout": "IPY_MODEL_25332a281b0145ae824b665aaa9efcb7",
       "outputs": [
        {
         "ename": "TypeError",
         "evalue": "FirstOrder_RKtev() takes 3 positional arguments but 4 were given",
         "output_type": "error",
         "traceback": [
          "\u001b[1;31m---------------------------------------------------------------------------\u001b[0m",
          "\u001b[1;31mTypeError\u001b[0m                                 Traceback (most recent call last)",
          "\u001b[1;32m~\\Anaconda3\\lib\\site-packages\\ipywidgets\\widgets\\interaction.py\u001b[0m in \u001b[0;36mupdate\u001b[1;34m(self, *args)\u001b[0m\n\u001b[0;32m    249\u001b[0m                     \u001b[0mvalue\u001b[0m \u001b[1;33m=\u001b[0m \u001b[0mwidget\u001b[0m\u001b[1;33m.\u001b[0m\u001b[0mget_interact_value\u001b[0m\u001b[1;33m(\u001b[0m\u001b[1;33m)\u001b[0m\u001b[1;33m\u001b[0m\u001b[0m\n\u001b[0;32m    250\u001b[0m                     \u001b[0mself\u001b[0m\u001b[1;33m.\u001b[0m\u001b[0mkwargs\u001b[0m\u001b[1;33m[\u001b[0m\u001b[0mwidget\u001b[0m\u001b[1;33m.\u001b[0m\u001b[0m_kwarg\u001b[0m\u001b[1;33m]\u001b[0m \u001b[1;33m=\u001b[0m \u001b[0mvalue\u001b[0m\u001b[1;33m\u001b[0m\u001b[0m\n\u001b[1;32m--> 251\u001b[1;33m                 \u001b[0mself\u001b[0m\u001b[1;33m.\u001b[0m\u001b[0mresult\u001b[0m \u001b[1;33m=\u001b[0m \u001b[0mself\u001b[0m\u001b[1;33m.\u001b[0m\u001b[0mf\u001b[0m\u001b[1;33m(\u001b[0m\u001b[1;33m**\u001b[0m\u001b[0mself\u001b[0m\u001b[1;33m.\u001b[0m\u001b[0mkwargs\u001b[0m\u001b[1;33m)\u001b[0m\u001b[1;33m\u001b[0m\u001b[0m\n\u001b[0m\u001b[0;32m    252\u001b[0m                 \u001b[0mshow_inline_matplotlib_plots\u001b[0m\u001b[1;33m(\u001b[0m\u001b[1;33m)\u001b[0m\u001b[1;33m\u001b[0m\u001b[0m\n\u001b[0;32m    253\u001b[0m                 \u001b[1;32mif\u001b[0m \u001b[0mself\u001b[0m\u001b[1;33m.\u001b[0m\u001b[0mauto_display\u001b[0m \u001b[1;32mand\u001b[0m \u001b[0mself\u001b[0m\u001b[1;33m.\u001b[0m\u001b[0mresult\u001b[0m \u001b[1;32mis\u001b[0m \u001b[1;32mnot\u001b[0m \u001b[1;32mNone\u001b[0m\u001b[1;33m:\u001b[0m\u001b[1;33m\u001b[0m\u001b[0m\n",
          "\u001b[1;32m<ipython-input-10-310a8897b9bb>\u001b[0m in \u001b[0;36mf\u001b[1;34m(A0, B0, k_1)\u001b[0m\n\u001b[0;32m     11\u001b[0m \u001b[1;33m\u001b[0m\u001b[0m\n\u001b[0;32m     12\u001b[0m     \u001b[1;32mfor\u001b[0m \u001b[0mki\u001b[0m \u001b[1;32min\u001b[0m \u001b[0mrange\u001b[0m\u001b[1;33m(\u001b[0m\u001b[1;36m0\u001b[0m\u001b[1;33m,\u001b[0m\u001b[0mNT\u001b[0m\u001b[1;33m)\u001b[0m\u001b[1;33m:\u001b[0m\u001b[1;33m\u001b[0m\u001b[0m\n\u001b[1;32m---> 13\u001b[1;33m         \u001b[0mA1\u001b[0m\u001b[1;33m,\u001b[0m\u001b[0mB1\u001b[0m \u001b[1;33m=\u001b[0m \u001b[0mFirstOrder_RKtev\u001b[0m\u001b[1;33m(\u001b[0m\u001b[0mA0\u001b[0m\u001b[1;33m,\u001b[0m\u001b[0mB0\u001b[0m\u001b[1;33m,\u001b[0m\u001b[0mdt\u001b[0m\u001b[1;33m,\u001b[0m\u001b[1;33m-\u001b[0m\u001b[0mk_1\u001b[0m\u001b[1;33m)\u001b[0m\u001b[1;33m;\u001b[0m\u001b[1;33m\u001b[0m\u001b[0m\n\u001b[0m\u001b[0;32m     14\u001b[0m         \u001b[0mplt\u001b[0m\u001b[1;33m.\u001b[0m\u001b[0mplot\u001b[0m\u001b[1;33m(\u001b[0m\u001b[0mki\u001b[0m\u001b[1;33m*\u001b[0m\u001b[0mdt\u001b[0m\u001b[1;33m,\u001b[0m\u001b[0mA0\u001b[0m\u001b[1;33m,\u001b[0m\u001b[1;34m'ro'\u001b[0m\u001b[1;33m)\u001b[0m\u001b[1;33m;\u001b[0m\u001b[1;33m\u001b[0m\u001b[0m\n\u001b[0;32m     15\u001b[0m         \u001b[0mplt\u001b[0m\u001b[1;33m.\u001b[0m\u001b[0mplot\u001b[0m\u001b[1;33m(\u001b[0m\u001b[0mki\u001b[0m\u001b[1;33m*\u001b[0m\u001b[0mdt\u001b[0m\u001b[1;33m,\u001b[0m\u001b[0mB0\u001b[0m\u001b[1;33m,\u001b[0m\u001b[1;34m'bo'\u001b[0m\u001b[1;33m)\u001b[0m\u001b[1;33m;\u001b[0m\u001b[1;33m\u001b[0m\u001b[0m\n",
          "\u001b[1;31mTypeError\u001b[0m: FirstOrder_RKtev() takes 3 positional arguments but 4 were given"
         ]
        }
       ]
      }
     },
     "a6ed35855efa4e91ad0fb7a374f2526f": {
      "model_module": "@jupyter-widgets/controls",
      "model_module_version": "1.4.0",
      "model_name": "FloatSliderModel",
      "state": {
       "description": "km1",
       "layout": "IPY_MODEL_64fe534d6a834e6292991921e23d201d",
       "max": 10,
       "step": 0.1,
       "style": "IPY_MODEL_b0f93d0907bc4f8b9f27269554de0aef",
       "value": 5
      }
     },
     "a7a3344bd9df4de8b5cb85738874e119": {
      "model_module": "@jupyter-widgets/controls",
      "model_module_version": "1.4.0",
      "model_name": "IntSliderModel",
      "state": {
       "description": "B0",
       "layout": "IPY_MODEL_79561f6e512a49bdb721149a2ee26eb1",
       "max": 10,
       "style": "IPY_MODEL_3888a236e59f4104ac25b42abbaad188",
       "value": 5
      }
     },
     "a7d76645ca674ce69824bea020d490ac": {
      "model_module": "@jupyter-widgets/base",
      "model_module_version": "1.1.0",
      "model_name": "LayoutModel",
      "state": {}
     },
     "a82088a3699e416b9a3ff2e6043822d4": {
      "model_module": "@jupyter-widgets/base",
      "model_module_version": "1.1.0",
      "model_name": "LayoutModel",
      "state": {}
     },
     "a8813fd3bc6647d986cb31b62adee468": {
      "model_module": "@jupyter-widgets/controls",
      "model_module_version": "1.4.0",
      "model_name": "SliderStyleModel",
      "state": {
       "description_width": ""
      }
     },
     "a918af11379d484e91b4b07414abc9ba": {
      "model_module": "@jupyter-widgets/base",
      "model_module_version": "1.1.0",
      "model_name": "LayoutModel",
      "state": {}
     },
     "ab3467316519419c98575780c445ef28": {
      "model_module": "@jupyter-widgets/output",
      "model_module_version": "1.0.0",
      "model_name": "OutputModel",
      "state": {
       "layout": "IPY_MODEL_96bc5d240ce94e72b599d77b6ff4e90b",
       "outputs": [
        {
         "data": {
          "image/png": "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\n",
          "text/plain": "<matplotlib.figure.Figure at 0x1942f2cc828>"
         },
         "metadata": {
          "needs_background": "light"
         },
         "output_type": "display_data"
        }
       ]
      }
     },
     "abdc5d3dd86747f1a18e13282c74a268": {
      "model_module": "@jupyter-widgets/controls",
      "model_module_version": "1.4.0",
      "model_name": "SliderStyleModel",
      "state": {
       "description_width": ""
      }
     },
     "ac23e9cd5ad74097bd621df486cf345d": {
      "model_module": "@jupyter-widgets/base",
      "model_module_version": "1.1.0",
      "model_name": "LayoutModel",
      "state": {}
     },
     "ac62be10cd5a4509b6115cad82c657d8": {
      "model_module": "@jupyter-widgets/controls",
      "model_module_version": "1.4.0",
      "model_name": "FloatSliderModel",
      "state": {
       "description": "k_1",
       "layout": "IPY_MODEL_dbedf211f25849b5b17e0861f2bbb0c0",
       "max": 10,
       "step": 0.1,
       "style": "IPY_MODEL_af14946374f24fc1850abac685bc95d2",
       "value": 9.4
      }
     },
     "ad8175a7bb364675a03023b2a24b8870": {
      "model_module": "@jupyter-widgets/controls",
      "model_module_version": "1.4.0",
      "model_name": "SliderStyleModel",
      "state": {
       "description_width": ""
      }
     },
     "af14946374f24fc1850abac685bc95d2": {
      "model_module": "@jupyter-widgets/controls",
      "model_module_version": "1.4.0",
      "model_name": "SliderStyleModel",
      "state": {
       "description_width": ""
      }
     },
     "af61750ca7eb4f6582866210a84f4cc7": {
      "model_module": "@jupyter-widgets/controls",
      "model_module_version": "1.4.0",
      "model_name": "VBoxModel",
      "state": {
       "_dom_classes": [
        "widget-interact"
       ],
       "children": [
        "IPY_MODEL_f8bd4640021f4ee188ab6e85fedcd002",
        "IPY_MODEL_ca1136321d45407b8dc4b6a84b55b5e9",
        "IPY_MODEL_d89084614d93402187555f5a0c168770",
        "IPY_MODEL_2bb755238d84453e892df9ab1f225a8d"
       ],
       "layout": "IPY_MODEL_b9c22ebb8cd7444c8fba9b5692894e59"
      }
     },
     "b09517345ab942a29e9d5b1fafcc7f8d": {
      "model_module": "@jupyter-widgets/controls",
      "model_module_version": "1.4.0",
      "model_name": "FloatSliderModel",
      "state": {
       "description": "k_1",
       "layout": "IPY_MODEL_e71835295316465ba38a851259224166",
       "max": 10,
       "step": 0.1,
       "style": "IPY_MODEL_f40ec66cc8d649edaf04656b53cdfaf4",
       "value": 5
      }
     },
     "b0baa17ff5144d3cadd7902f64c4d97f": {
      "model_module": "@jupyter-widgets/controls",
      "model_module_version": "1.4.0",
      "model_name": "IntSliderModel",
      "state": {
       "description": "B0",
       "layout": "IPY_MODEL_505f6de739c847b5ad65b8b074d4d80e",
       "max": 10,
       "style": "IPY_MODEL_abdc5d3dd86747f1a18e13282c74a268",
       "value": 5
      }
     },
     "b0f93d0907bc4f8b9f27269554de0aef": {
      "model_module": "@jupyter-widgets/controls",
      "model_module_version": "1.4.0",
      "model_name": "SliderStyleModel",
      "state": {
       "description_width": ""
      }
     },
     "b1334f4cc13649c6bf6675eea8859910": {
      "model_module": "@jupyter-widgets/controls",
      "model_module_version": "1.4.0",
      "model_name": "SliderStyleModel",
      "state": {
       "description_width": ""
      }
     },
     "b135ddff5ca7413dac8e88fef0ccc707": {
      "model_module": "@jupyter-widgets/controls",
      "model_module_version": "1.4.0",
      "model_name": "SliderStyleModel",
      "state": {
       "description_width": ""
      }
     },
     "b14b970152f7467ca37986104c0cc827": {
      "model_module": "@jupyter-widgets/base",
      "model_module_version": "1.1.0",
      "model_name": "LayoutModel",
      "state": {}
     },
     "b167c1de48c74775aab4fe00385280e2": {
      "model_module": "@jupyter-widgets/base",
      "model_module_version": "1.1.0",
      "model_name": "LayoutModel",
      "state": {}
     },
     "b275fd570a724da5948fd0c74e8bd846": {
      "model_module": "@jupyter-widgets/controls",
      "model_module_version": "1.4.0",
      "model_name": "IntSliderModel",
      "state": {
       "description": "A0",
       "layout": "IPY_MODEL_5f1878ff27dc4282ba0a2c3287a92539",
       "max": 10,
       "style": "IPY_MODEL_60411cfa79db4db0a2b01aa66131efbb",
       "value": 7
      }
     },
     "b279677696804a258cd4429eace016fa": {
      "model_module": "@jupyter-widgets/controls",
      "model_module_version": "1.4.0",
      "model_name": "SliderStyleModel",
      "state": {
       "description_width": ""
      }
     },
     "b29472a157a94866826435ebf438d1bd": {
      "model_module": "@jupyter-widgets/controls",
      "model_module_version": "1.4.0",
      "model_name": "IntSliderModel",
      "state": {
       "description": "A0",
       "layout": "IPY_MODEL_d7341b63856e4accba87da4fc2b4b23f",
       "max": 10,
       "style": "IPY_MODEL_ed4c6463fff04819b566ecea14c1439d",
       "value": 8
      }
     },
     "b297a05011d74f8e962bde06ba11afeb": {
      "model_module": "@jupyter-widgets/controls",
      "model_module_version": "1.4.0",
      "model_name": "VBoxModel",
      "state": {
       "_dom_classes": [
        "widget-interact"
       ],
       "children": [
        "IPY_MODEL_67b1130a7aa2403b83041ad2d7ebbc4f",
        "IPY_MODEL_e29a0157c7dd4ee28448f788ee6c5b90",
        "IPY_MODEL_10bc72fac0184d0ca60b22ed7591133f",
        "IPY_MODEL_a0192df367824251a359bda4dad0a717",
        "IPY_MODEL_f2736825b3c2425492ad6eff0f71f529"
       ],
       "layout": "IPY_MODEL_e44138efc5204565ae4dd51270a6f0ab"
      }
     },
     "b35b5b790ecd4f7a82939fd31cd4ac23": {
      "model_module": "@jupyter-widgets/controls",
      "model_module_version": "1.4.0",
      "model_name": "SliderStyleModel",
      "state": {
       "description_width": ""
      }
     },
     "b3906f8298b84b558ebaa284110939c1": {
      "model_module": "@jupyter-widgets/controls",
      "model_module_version": "1.4.0",
      "model_name": "VBoxModel",
      "state": {
       "_dom_classes": [
        "widget-interact"
       ],
       "children": [
        "IPY_MODEL_b29472a157a94866826435ebf438d1bd",
        "IPY_MODEL_6998053e1824498eae576ad3ee4aa030",
        "IPY_MODEL_b09517345ab942a29e9d5b1fafcc7f8d",
        "IPY_MODEL_84cc253352ae4e348b5fe88b5297bf13",
        "IPY_MODEL_4db981f71bc648178e4a91ec0919a0bc",
        "IPY_MODEL_f6cbd3bd9d83492dbf3f0b3c4632b1c2"
       ],
       "layout": "IPY_MODEL_02261f56fd63482ca2d0cc9ace3fe7e7"
      }
     },
     "b39459a63e4645809a18878569d916ec": {
      "model_module": "@jupyter-widgets/base",
      "model_module_version": "1.1.0",
      "model_name": "LayoutModel",
      "state": {}
     },
     "b45cc12b28714693a80403316f4c2cf4": {
      "model_module": "@jupyter-widgets/controls",
      "model_module_version": "1.4.0",
      "model_name": "IntSliderModel",
      "state": {
       "description": "A0",
       "layout": "IPY_MODEL_4054116699c046e2ad5cd1fa0620ee01",
       "max": 10,
       "style": "IPY_MODEL_99eb3d2b6e0c47a6af21e8a4a0c0756d",
       "value": 3
      }
     },
     "b565131d2ea04241b90310d1dd671f6b": {
      "model_module": "@jupyter-widgets/base",
      "model_module_version": "1.1.0",
      "model_name": "LayoutModel",
      "state": {}
     },
     "b5e7def8812140f0a5ddbd48c895e8d5": {
      "model_module": "@jupyter-widgets/controls",
      "model_module_version": "1.4.0",
      "model_name": "ButtonStyleModel",
      "state": {}
     },
     "b6051845070148a69e9696fe872590d3": {
      "model_module": "@jupyter-widgets/controls",
      "model_module_version": "1.4.0",
      "model_name": "SliderStyleModel",
      "state": {
       "description_width": ""
      }
     },
     "b6071a123522462b8d95dfe967b9bfd0": {
      "model_module": "@jupyter-widgets/base",
      "model_module_version": "1.1.0",
      "model_name": "LayoutModel",
      "state": {}
     },
     "b65359144409408a8a36aaff0a756467": {
      "model_module": "@jupyter-widgets/base",
      "model_module_version": "1.1.0",
      "model_name": "LayoutModel",
      "state": {}
     },
     "b6a8755792d948d1b88b41124234ad4a": {
      "model_module": "@jupyter-widgets/controls",
      "model_module_version": "1.4.0",
      "model_name": "SliderStyleModel",
      "state": {
       "description_width": ""
      }
     },
     "b7cdc6206e8c48d980994d6e5d76513f": {
      "model_module": "@jupyter-widgets/controls",
      "model_module_version": "1.4.0",
      "model_name": "IntSliderModel",
      "state": {
       "description": "B0",
       "layout": "IPY_MODEL_f73a4eb9928e4928bbe15f6e395abcd9",
       "max": 10,
       "style": "IPY_MODEL_7bb62ddd1ee74138910090cb197cca05",
       "value": 3
      }
     },
     "b8bf32ee5e6742aba936c4fc7ff7e921": {
      "model_module": "@jupyter-widgets/base",
      "model_module_version": "1.1.0",
      "model_name": "LayoutModel",
      "state": {}
     },
     "b968b7322e2e4b40b9d7a75739410a63": {
      "model_module": "@jupyter-widgets/controls",
      "model_module_version": "1.4.0",
      "model_name": "SliderStyleModel",
      "state": {
       "description_width": ""
      }
     },
     "b9c22ebb8cd7444c8fba9b5692894e59": {
      "model_module": "@jupyter-widgets/base",
      "model_module_version": "1.1.0",
      "model_name": "LayoutModel",
      "state": {}
     },
     "ba534727c8304199a8067b5017d1707e": {
      "model_module": "@jupyter-widgets/controls",
      "model_module_version": "1.4.0",
      "model_name": "VBoxModel",
      "state": {
       "_dom_classes": [
        "widget-interact"
       ],
       "children": [
        "IPY_MODEL_4eba08fa5bf54db7b7ae6795439cc56d",
        "IPY_MODEL_506fa444b7914e80b317eb01861e653e",
        "IPY_MODEL_673b2267fa524cc2a970bd68321ad40a",
        "IPY_MODEL_80600f30818b466fb81b4c72e4a55ff8"
       ],
       "layout": "IPY_MODEL_936548c2437849708f4164e45857634a"
      }
     },
     "babcef71a092457ea6f170b69cf65e71": {
      "model_module": "@jupyter-widgets/base",
      "model_module_version": "1.1.0",
      "model_name": "LayoutModel",
      "state": {}
     },
     "bfc7e760ff004babbaa4de805109bbf5": {
      "model_module": "@jupyter-widgets/base",
      "model_module_version": "1.1.0",
      "model_name": "LayoutModel",
      "state": {}
     },
     "c02f7fc902de4c34a04cc2fcbe3ba75f": {
      "model_module": "@jupyter-widgets/base",
      "model_module_version": "1.1.0",
      "model_name": "LayoutModel",
      "state": {}
     },
     "c0ae7a130a7a4c148264798aed659eb1": {
      "model_module": "@jupyter-widgets/controls",
      "model_module_version": "1.4.0",
      "model_name": "SliderStyleModel",
      "state": {
       "description_width": ""
      }
     },
     "c1e0c5729afa484eba1774b14810043b": {
      "model_module": "@jupyter-widgets/base",
      "model_module_version": "1.1.0",
      "model_name": "LayoutModel",
      "state": {}
     },
     "c3ebb452907c429f885e9d4a614a10c5": {
      "model_module": "@jupyter-widgets/base",
      "model_module_version": "1.1.0",
      "model_name": "LayoutModel",
      "state": {}
     },
     "c3fccdbf10464d0791c23f775b10bccd": {
      "model_module": "@jupyter-widgets/controls",
      "model_module_version": "1.4.0",
      "model_name": "SliderStyleModel",
      "state": {
       "description_width": ""
      }
     },
     "c49bd99084d746c5ba748af86f4fdd2b": {
      "model_module": "@jupyter-widgets/controls",
      "model_module_version": "1.4.0",
      "model_name": "IntSliderModel",
      "state": {
       "description": "A0",
       "layout": "IPY_MODEL_bfc7e760ff004babbaa4de805109bbf5",
       "max": 10,
       "style": "IPY_MODEL_ca4905471064485da8d4bdfa6b0fa4f5",
       "value": 5
      }
     },
     "c634c273438d4d6b84278265a27cae28": {
      "model_module": "@jupyter-widgets/base",
      "model_module_version": "1.1.0",
      "model_name": "LayoutModel",
      "state": {}
     },
     "c7ffa4c5ee2645549494cc4a895b3d26": {
      "model_module": "@jupyter-widgets/output",
      "model_module_version": "1.0.0",
      "model_name": "OutputModel",
      "state": {
       "layout": "IPY_MODEL_babcef71a092457ea6f170b69cf65e71",
       "outputs": [
        {
         "data": {
          "image/png": "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\n",
          "text/plain": "<matplotlib.figure.Figure at 0x1942ccc2978>"
         },
         "metadata": {
          "needs_background": "light"
         },
         "output_type": "display_data"
        }
       ]
      }
     },
     "ca1136321d45407b8dc4b6a84b55b5e9": {
      "model_module": "@jupyter-widgets/controls",
      "model_module_version": "1.4.0",
      "model_name": "IntSliderModel",
      "state": {
       "description": "B0",
       "layout": "IPY_MODEL_667f5bbcfe2348d59fa9c9bd50390b2b",
       "max": 10,
       "style": "IPY_MODEL_da0093ff579e4f19a423e37779904812",
       "value": 5
      }
     },
     "ca4905471064485da8d4bdfa6b0fa4f5": {
      "model_module": "@jupyter-widgets/controls",
      "model_module_version": "1.4.0",
      "model_name": "SliderStyleModel",
      "state": {
       "description_width": ""
      }
     },
     "ca5b145ac2a347bf91a90cba1a89de92": {
      "model_module": "@jupyter-widgets/base",
      "model_module_version": "1.1.0",
      "model_name": "LayoutModel",
      "state": {}
     },
     "ca831171071d4ee5a700834ab952a038": {
      "model_module": "@jupyter-widgets/base",
      "model_module_version": "1.1.0",
      "model_name": "LayoutModel",
      "state": {}
     },
     "caaab7f5a9264ecf8fc672be53315d7e": {
      "model_module": "@jupyter-widgets/base",
      "model_module_version": "1.1.0",
      "model_name": "LayoutModel",
      "state": {}
     },
     "cb58c2bc558c4897a69d977a10540372": {
      "model_module": "@jupyter-widgets/controls",
      "model_module_version": "1.4.0",
      "model_name": "IntSliderModel",
      "state": {
       "description": "A0",
       "layout": "IPY_MODEL_b65359144409408a8a36aaff0a756467",
       "max": 10,
       "style": "IPY_MODEL_4607f0a6b4a649ab8d860a7f7e8e873a",
       "value": 8
      }
     },
     "cbbf74cf83ab4f76adea073f30464674": {
      "model_module": "@jupyter-widgets/base",
      "model_module_version": "1.1.0",
      "model_name": "LayoutModel",
      "state": {}
     },
     "cc6e36906fac41cea49018c667d5d735": {
      "model_module": "@jupyter-widgets/base",
      "model_module_version": "1.1.0",
      "model_name": "LayoutModel",
      "state": {}
     },
     "ccc77078edac42db8af38a930b1722d3": {
      "model_module": "@jupyter-widgets/base",
      "model_module_version": "1.1.0",
      "model_name": "LayoutModel",
      "state": {}
     },
     "cd69f7200a4c48548b439ee71eed03b6": {
      "model_module": "@jupyter-widgets/controls",
      "model_module_version": "1.4.0",
      "model_name": "FloatSliderModel",
      "state": {
       "description": "k_1",
       "layout": "IPY_MODEL_ea587b6a8c204a9c95978605f05c58ec",
       "max": 10,
       "step": 0.1,
       "style": "IPY_MODEL_89484f779804488ca891718517aee59c",
       "value": 7.5
      }
     },
     "cde491fa3e1149e3b1ed80a73f184904": {
      "model_module": "@jupyter-widgets/base",
      "model_module_version": "1.1.0",
      "model_name": "LayoutModel",
      "state": {}
     },
     "cfd9aa04507e4ca58a7dac5251292b5a": {
      "model_module": "@jupyter-widgets/controls",
      "model_module_version": "1.4.0",
      "model_name": "VBoxModel",
      "state": {
       "_dom_classes": [
        "widget-interact"
       ],
       "children": [
        "IPY_MODEL_60a152ea6d924726b7ce552db6204038",
        "IPY_MODEL_6443384541dd4554b4b676c8f7778bc7",
        "IPY_MODEL_273b7a1d4f8949d88bd2edf955896ff6",
        "IPY_MODEL_e3d719c6d1624007aa4579a7821c6e9d"
       ],
       "layout": "IPY_MODEL_6b0aed3e12e44ce08f43d32c0f982d88"
      }
     },
     "d0b44e309d02464d850caa8217da6b78": {
      "model_module": "@jupyter-widgets/controls",
      "model_module_version": "1.4.0",
      "model_name": "SliderStyleModel",
      "state": {
       "description_width": ""
      }
     },
     "d0bf1c14f4dc4b969bcb73b96a2613ab": {
      "model_module": "@jupyter-widgets/controls",
      "model_module_version": "1.4.0",
      "model_name": "SliderStyleModel",
      "state": {
       "description_width": ""
      }
     },
     "d0bf1e2842b648ff8e97de2f87ac9be6": {
      "model_module": "@jupyter-widgets/output",
      "model_module_version": "1.0.0",
      "model_name": "OutputModel",
      "state": {
       "layout": "IPY_MODEL_82988ae92a6e4b0a8a0e0fe40e0cc9f8"
      }
     },
     "d117d87d8afe4f70a6894f40058f95d3": {
      "model_module": "@jupyter-widgets/controls",
      "model_module_version": "1.4.0",
      "model_name": "FloatSliderModel",
      "state": {
       "description": "k_1",
       "layout": "IPY_MODEL_7dbdee7b5a3b4ef1a04fde59faef0412",
       "max": 10,
       "step": 0.1,
       "style": "IPY_MODEL_393519c72f024cddb6ecb95cb73c463c",
       "value": 5
      }
     },
     "d19c9def7e1c4069bc6896bc56e73d81": {
      "model_module": "@jupyter-widgets/controls",
      "model_module_version": "1.4.0",
      "model_name": "SliderStyleModel",
      "state": {
       "description_width": ""
      }
     },
     "d214558fa0d0424381e409d041e4f88f": {
      "model_module": "@jupyter-widgets/controls",
      "model_module_version": "1.4.0",
      "model_name": "SliderStyleModel",
      "state": {
       "description_width": ""
      }
     },
     "d2c60be2e7694df290a66214e6508704": {
      "model_module": "@jupyter-widgets/controls",
      "model_module_version": "1.4.0",
      "model_name": "IntSliderModel",
      "state": {
       "description": "B0",
       "layout": "IPY_MODEL_e02af30d024342b8b3c3a87cb1d61ee9",
       "max": 10,
       "style": "IPY_MODEL_0d12d4781b8e436f8b9007ea27b5c3dc",
       "value": 10
      }
     },
     "d36c0d8fc0654191813ffb0c166c4017": {
      "model_module": "@jupyter-widgets/base",
      "model_module_version": "1.1.0",
      "model_name": "LayoutModel",
      "state": {}
     },
     "d3f08b11476841e5b5e31b5ee6e339c8": {
      "model_module": "@jupyter-widgets/base",
      "model_module_version": "1.1.0",
      "model_name": "LayoutModel",
      "state": {}
     },
     "d5df549d90dd4e5cb3bbd046d80931b3": {
      "model_module": "@jupyter-widgets/base",
      "model_module_version": "1.1.0",
      "model_name": "LayoutModel",
      "state": {}
     },
     "d64b98fda78c4f488c3dec92bf1dc163": {
      "model_module": "@jupyter-widgets/controls",
      "model_module_version": "1.4.0",
      "model_name": "FloatSliderModel",
      "state": {
       "description": "k_1",
       "layout": "IPY_MODEL_483b105aa91f44ecacd0644de3a06205",
       "max": 10,
       "step": 0.1,
       "style": "IPY_MODEL_71691de40de448e5bb5b480fa069209e",
       "value": 8.7
      }
     },
     "d677a1b8cd114ee28f1f6a65186ea114": {
      "model_module": "@jupyter-widgets/controls",
      "model_module_version": "1.4.0",
      "model_name": "ButtonModel",
      "state": {
       "description": "Run Interact",
       "layout": "IPY_MODEL_c3ebb452907c429f885e9d4a614a10c5",
       "style": "IPY_MODEL_88484f9500bc4b9280a6908484cf0ac0"
      }
     },
     "d7341b63856e4accba87da4fc2b4b23f": {
      "model_module": "@jupyter-widgets/base",
      "model_module_version": "1.1.0",
      "model_name": "LayoutModel",
      "state": {}
     },
     "d8873d752d184491a7beedcf87d34e17": {
      "model_module": "@jupyter-widgets/controls",
      "model_module_version": "1.4.0",
      "model_name": "FloatSliderModel",
      "state": {
       "description": "km1",
       "layout": "IPY_MODEL_2dc25779815e4c039ca8986416594ac3",
       "max": 10,
       "step": 0.1,
       "style": "IPY_MODEL_c0ae7a130a7a4c148264798aed659eb1",
       "value": 5
      }
     },
     "d887846e932544fc8370df9783a1cbd1": {
      "model_module": "@jupyter-widgets/base",
      "model_module_version": "1.1.0",
      "model_name": "LayoutModel",
      "state": {}
     },
     "d89084614d93402187555f5a0c168770": {
      "model_module": "@jupyter-widgets/controls",
      "model_module_version": "1.4.0",
      "model_name": "FloatSliderModel",
      "state": {
       "description": "k_1",
       "layout": "IPY_MODEL_fdcc4fa78dec48f1b7cf96879df0867c",
       "max": 10,
       "step": 0.1,
       "style": "IPY_MODEL_56c2727552eb49629115e49932e0bc09",
       "value": 5
      }
     },
     "d91e1bd184074d3fa08c5403244dd055": {
      "model_module": "@jupyter-widgets/controls",
      "model_module_version": "1.4.0",
      "model_name": "SliderStyleModel",
      "state": {
       "description_width": ""
      }
     },
     "d95da67ece964ac3a65da3a1cc4352bf": {
      "model_module": "@jupyter-widgets/controls",
      "model_module_version": "1.4.0",
      "model_name": "SliderStyleModel",
      "state": {
       "description_width": ""
      }
     },
     "d9610c344c214253be3c9d7d56db9163": {
      "model_module": "@jupyter-widgets/controls",
      "model_module_version": "1.4.0",
      "model_name": "SliderStyleModel",
      "state": {
       "description_width": ""
      }
     },
     "da0093ff579e4f19a423e37779904812": {
      "model_module": "@jupyter-widgets/controls",
      "model_module_version": "1.4.0",
      "model_name": "SliderStyleModel",
      "state": {
       "description_width": ""
      }
     },
     "da2171462a9c416a9832b6a0a8d83276": {
      "model_module": "@jupyter-widgets/base",
      "model_module_version": "1.1.0",
      "model_name": "LayoutModel",
      "state": {}
     },
     "da846a48304041df937bfa25e13a7574": {
      "model_module": "@jupyter-widgets/base",
      "model_module_version": "1.1.0",
      "model_name": "LayoutModel",
      "state": {}
     },
     "db7a46c3aad94975bd42667de33723cb": {
      "model_module": "@jupyter-widgets/output",
      "model_module_version": "1.0.0",
      "model_name": "OutputModel",
      "state": {
       "layout": "IPY_MODEL_5b90f6ea1d1a4437bf8a852da2f6e80b",
       "outputs": [
        {
         "data": {
          "image/png": "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\n",
          "text/plain": "<matplotlib.figure.Figure at 0x1942cb03470>"
         },
         "metadata": {
          "needs_background": "light"
         },
         "output_type": "display_data"
        }
       ]
      }
     },
     "dbe5123476bb4fc48796cae2ffae1ff0": {
      "model_module": "@jupyter-widgets/base",
      "model_module_version": "1.1.0",
      "model_name": "LayoutModel",
      "state": {}
     },
     "dbedf211f25849b5b17e0861f2bbb0c0": {
      "model_module": "@jupyter-widgets/base",
      "model_module_version": "1.1.0",
      "model_name": "LayoutModel",
      "state": {}
     },
     "dd0e46a49ccc44ba83019862486b1e03": {
      "model_module": "@jupyter-widgets/base",
      "model_module_version": "1.1.0",
      "model_name": "LayoutModel",
      "state": {}
     },
     "dd22c00a5aa84101b37fed9f82fbfd05": {
      "model_module": "@jupyter-widgets/base",
      "model_module_version": "1.1.0",
      "model_name": "LayoutModel",
      "state": {}
     },
     "ddc681d516cc49948199e7bb1cd802d0": {
      "model_module": "@jupyter-widgets/controls",
      "model_module_version": "1.4.0",
      "model_name": "VBoxModel",
      "state": {
       "_dom_classes": [
        "widget-interact"
       ],
       "children": [
        "IPY_MODEL_44c9aaeecd794e95bd0f98e7f89df232",
        "IPY_MODEL_f3ed8cab46034387bbf01a6fab2bcff9",
        "IPY_MODEL_4fd5f8d37fd24b908f4d7ead72ad7051",
        "IPY_MODEL_6d62f6312eec44f2a6ad10b675e56282"
       ],
       "layout": "IPY_MODEL_c634c273438d4d6b84278265a27cae28"
      }
     },
     "dfca23ca90504fcabf50e5d49bad85a1": {
      "model_module": "@jupyter-widgets/controls",
      "model_module_version": "1.4.0",
      "model_name": "SliderStyleModel",
      "state": {
       "description_width": ""
      }
     },
     "dfd44079ace84780b14bdba9f0239c05": {
      "model_module": "@jupyter-widgets/controls",
      "model_module_version": "1.4.0",
      "model_name": "FloatSliderModel",
      "state": {
       "description": "km1",
       "layout": "IPY_MODEL_08e9a10f37ac46f0bb889090924ed73a",
       "max": 10,
       "step": 0.1,
       "style": "IPY_MODEL_d9610c344c214253be3c9d7d56db9163",
       "value": 1.3
      }
     },
     "e00cf8e10e5243acaaf19545e22840c0": {
      "model_module": "@jupyter-widgets/base",
      "model_module_version": "1.1.0",
      "model_name": "LayoutModel",
      "state": {}
     },
     "e02af30d024342b8b3c3a87cb1d61ee9": {
      "model_module": "@jupyter-widgets/base",
      "model_module_version": "1.1.0",
      "model_name": "LayoutModel",
      "state": {}
     },
     "e0435d6686cc44c0aef63f2865ab65ea": {
      "model_module": "@jupyter-widgets/base",
      "model_module_version": "1.1.0",
      "model_name": "LayoutModel",
      "state": {}
     },
     "e04f2788526c475ea78b68b5ff05396d": {
      "model_module": "@jupyter-widgets/base",
      "model_module_version": "1.1.0",
      "model_name": "LayoutModel",
      "state": {}
     },
     "e0663fec83e74868bf312d0107643dcc": {
      "model_module": "@jupyter-widgets/controls",
      "model_module_version": "1.4.0",
      "model_name": "FloatSliderModel",
      "state": {
       "description": "k_1",
       "layout": "IPY_MODEL_caaab7f5a9264ecf8fc672be53315d7e",
       "max": 10,
       "step": 0.1,
       "style": "IPY_MODEL_a463454b553945e38b7ca8158261abc5",
       "value": 2.1
      }
     },
     "e0bcffd256e84dbf91025fd11ef1d190": {
      "model_module": "@jupyter-widgets/base",
      "model_module_version": "1.1.0",
      "model_name": "LayoutModel",
      "state": {}
     },
     "e0cb6d7d5a3e4bfc8383f387de96bd50": {
      "model_module": "@jupyter-widgets/controls",
      "model_module_version": "1.4.0",
      "model_name": "SliderStyleModel",
      "state": {
       "description_width": ""
      }
     },
     "e25646ec826943a0b7c955857c12dd07": {
      "model_module": "@jupyter-widgets/base",
      "model_module_version": "1.1.0",
      "model_name": "LayoutModel",
      "state": {}
     },
     "e26c266033c54884b4aa661189e2813e": {
      "model_module": "@jupyter-widgets/controls",
      "model_module_version": "1.4.0",
      "model_name": "SliderStyleModel",
      "state": {
       "description_width": ""
      }
     },
     "e29a0157c7dd4ee28448f788ee6c5b90": {
      "model_module": "@jupyter-widgets/controls",
      "model_module_version": "1.4.0",
      "model_name": "IntSliderModel",
      "state": {
       "description": "B0",
       "layout": "IPY_MODEL_963d6693b4884902b2b6f149613fe692",
       "max": 10,
       "style": "IPY_MODEL_68b1699e65474339bd6c8a189df7b58d",
       "value": 3
      }
     },
     "e39708e7e0f147869adf15255fdced55": {
      "model_module": "@jupyter-widgets/controls",
      "model_module_version": "1.4.0",
      "model_name": "IntSliderModel",
      "state": {
       "description": "B0",
       "layout": "IPY_MODEL_d5df549d90dd4e5cb3bbd046d80931b3",
       "max": 10,
       "style": "IPY_MODEL_efdc5b14a98d489d9958b2350f8c789e",
       "value": 7
      }
     },
     "e3d719c6d1624007aa4579a7821c6e9d": {
      "model_module": "@jupyter-widgets/output",
      "model_module_version": "1.0.0",
      "model_name": "OutputModel",
      "state": {
       "layout": "IPY_MODEL_8336da7f642f4351a3207191f1337536",
       "outputs": [
        {
         "ename": "TypeError",
         "evalue": "FirstOrder_RKtev() takes 3 positional arguments but 4 were given",
         "output_type": "error",
         "traceback": [
          "\u001b[1;31m---------------------------------------------------------------------------\u001b[0m",
          "\u001b[1;31mTypeError\u001b[0m                                 Traceback (most recent call last)",
          "\u001b[1;32m~\\Anaconda3\\lib\\site-packages\\ipywidgets\\widgets\\interaction.py\u001b[0m in \u001b[0;36mupdate\u001b[1;34m(self, *args)\u001b[0m\n\u001b[0;32m    249\u001b[0m                     \u001b[0mvalue\u001b[0m \u001b[1;33m=\u001b[0m \u001b[0mwidget\u001b[0m\u001b[1;33m.\u001b[0m\u001b[0mget_interact_value\u001b[0m\u001b[1;33m(\u001b[0m\u001b[1;33m)\u001b[0m\u001b[1;33m\u001b[0m\u001b[0m\n\u001b[0;32m    250\u001b[0m                     \u001b[0mself\u001b[0m\u001b[1;33m.\u001b[0m\u001b[0mkwargs\u001b[0m\u001b[1;33m[\u001b[0m\u001b[0mwidget\u001b[0m\u001b[1;33m.\u001b[0m\u001b[0m_kwarg\u001b[0m\u001b[1;33m]\u001b[0m \u001b[1;33m=\u001b[0m \u001b[0mvalue\u001b[0m\u001b[1;33m\u001b[0m\u001b[0m\n\u001b[1;32m--> 251\u001b[1;33m                 \u001b[0mself\u001b[0m\u001b[1;33m.\u001b[0m\u001b[0mresult\u001b[0m \u001b[1;33m=\u001b[0m \u001b[0mself\u001b[0m\u001b[1;33m.\u001b[0m\u001b[0mf\u001b[0m\u001b[1;33m(\u001b[0m\u001b[1;33m**\u001b[0m\u001b[0mself\u001b[0m\u001b[1;33m.\u001b[0m\u001b[0mkwargs\u001b[0m\u001b[1;33m)\u001b[0m\u001b[1;33m\u001b[0m\u001b[0m\n\u001b[0m\u001b[0;32m    252\u001b[0m                 \u001b[0mshow_inline_matplotlib_plots\u001b[0m\u001b[1;33m(\u001b[0m\u001b[1;33m)\u001b[0m\u001b[1;33m\u001b[0m\u001b[0m\n\u001b[0;32m    253\u001b[0m                 \u001b[1;32mif\u001b[0m \u001b[0mself\u001b[0m\u001b[1;33m.\u001b[0m\u001b[0mauto_display\u001b[0m \u001b[1;32mand\u001b[0m \u001b[0mself\u001b[0m\u001b[1;33m.\u001b[0m\u001b[0mresult\u001b[0m \u001b[1;32mis\u001b[0m \u001b[1;32mnot\u001b[0m \u001b[1;32mNone\u001b[0m\u001b[1;33m:\u001b[0m\u001b[1;33m\u001b[0m\u001b[0m\n",
          "\u001b[1;32m<ipython-input-10-310a8897b9bb>\u001b[0m in \u001b[0;36mf\u001b[1;34m(A0, B0, k_1)\u001b[0m\n\u001b[0;32m     11\u001b[0m \u001b[1;33m\u001b[0m\u001b[0m\n\u001b[0;32m     12\u001b[0m     \u001b[1;32mfor\u001b[0m \u001b[0mki\u001b[0m \u001b[1;32min\u001b[0m \u001b[0mrange\u001b[0m\u001b[1;33m(\u001b[0m\u001b[1;36m0\u001b[0m\u001b[1;33m,\u001b[0m\u001b[0mNT\u001b[0m\u001b[1;33m)\u001b[0m\u001b[1;33m:\u001b[0m\u001b[1;33m\u001b[0m\u001b[0m\n\u001b[1;32m---> 13\u001b[1;33m         \u001b[0mA1\u001b[0m\u001b[1;33m,\u001b[0m\u001b[0mB1\u001b[0m \u001b[1;33m=\u001b[0m \u001b[0mFirstOrder_RKtev\u001b[0m\u001b[1;33m(\u001b[0m\u001b[0mA0\u001b[0m\u001b[1;33m,\u001b[0m\u001b[0mB0\u001b[0m\u001b[1;33m,\u001b[0m\u001b[0mdt\u001b[0m\u001b[1;33m,\u001b[0m\u001b[1;33m-\u001b[0m\u001b[0mk_1\u001b[0m\u001b[1;33m)\u001b[0m\u001b[1;33m;\u001b[0m\u001b[1;33m\u001b[0m\u001b[0m\n\u001b[0m\u001b[0;32m     14\u001b[0m         \u001b[0mplt\u001b[0m\u001b[1;33m.\u001b[0m\u001b[0mplot\u001b[0m\u001b[1;33m(\u001b[0m\u001b[0mki\u001b[0m\u001b[1;33m*\u001b[0m\u001b[0mdt\u001b[0m\u001b[1;33m,\u001b[0m\u001b[0mA0\u001b[0m\u001b[1;33m,\u001b[0m\u001b[1;34m'ro'\u001b[0m\u001b[1;33m)\u001b[0m\u001b[1;33m;\u001b[0m\u001b[1;33m\u001b[0m\u001b[0m\n\u001b[0;32m     15\u001b[0m         \u001b[0mplt\u001b[0m\u001b[1;33m.\u001b[0m\u001b[0mplot\u001b[0m\u001b[1;33m(\u001b[0m\u001b[0mki\u001b[0m\u001b[1;33m*\u001b[0m\u001b[0mdt\u001b[0m\u001b[1;33m,\u001b[0m\u001b[0mB0\u001b[0m\u001b[1;33m,\u001b[0m\u001b[1;34m'bo'\u001b[0m\u001b[1;33m)\u001b[0m\u001b[1;33m;\u001b[0m\u001b[1;33m\u001b[0m\u001b[0m\n",
          "\u001b[1;31mTypeError\u001b[0m: FirstOrder_RKtev() takes 3 positional arguments but 4 were given"
         ]
        }
       ]
      }
     },
     "e431d8af808d466ab7f65322c4fa9636": {
      "model_module": "@jupyter-widgets/base",
      "model_module_version": "1.1.0",
      "model_name": "LayoutModel",
      "state": {}
     },
     "e44138efc5204565ae4dd51270a6f0ab": {
      "model_module": "@jupyter-widgets/base",
      "model_module_version": "1.1.0",
      "model_name": "LayoutModel",
      "state": {}
     },
     "e4a078e7f8dc4f97b37ad85b428e6c01": {
      "model_module": "@jupyter-widgets/base",
      "model_module_version": "1.1.0",
      "model_name": "LayoutModel",
      "state": {}
     },
     "e4e0049a48f34b57810f991c67c77d58": {
      "model_module": "@jupyter-widgets/controls",
      "model_module_version": "1.4.0",
      "model_name": "SliderStyleModel",
      "state": {
       "description_width": ""
      }
     },
     "e4e04db093014ca8987669c373332c09": {
      "model_module": "@jupyter-widgets/controls",
      "model_module_version": "1.4.0",
      "model_name": "FloatSliderModel",
      "state": {
       "description": "k_1",
       "layout": "IPY_MODEL_464c788ee45d46d1b440931d97481c75",
       "max": 10,
       "step": 0.1,
       "style": "IPY_MODEL_f766ad31091b46ae8244f0237563178d",
       "value": 5
      }
     },
     "e568b3cf14d6488ab84f017573774063": {
      "model_module": "@jupyter-widgets/controls",
      "model_module_version": "1.4.0",
      "model_name": "SliderStyleModel",
      "state": {
       "description_width": ""
      }
     },
     "e60ea6a4ff7e43a89526f4757215413e": {
      "model_module": "@jupyter-widgets/base",
      "model_module_version": "1.1.0",
      "model_name": "LayoutModel",
      "state": {}
     },
     "e71835295316465ba38a851259224166": {
      "model_module": "@jupyter-widgets/base",
      "model_module_version": "1.1.0",
      "model_name": "LayoutModel",
      "state": {}
     },
     "e7ae5fe2a07d4e0da8918452c6c59606": {
      "model_module": "@jupyter-widgets/controls",
      "model_module_version": "1.4.0",
      "model_name": "SliderStyleModel",
      "state": {
       "description_width": ""
      }
     },
     "e8c4c0b65a074968a034a32688b9a56b": {
      "model_module": "@jupyter-widgets/base",
      "model_module_version": "1.1.0",
      "model_name": "LayoutModel",
      "state": {}
     },
     "e9ead7496190480497f31b8e63cb867d": {
      "model_module": "@jupyter-widgets/controls",
      "model_module_version": "1.4.0",
      "model_name": "SliderStyleModel",
      "state": {
       "description_width": ""
      }
     },
     "ea587b6a8c204a9c95978605f05c58ec": {
      "model_module": "@jupyter-widgets/base",
      "model_module_version": "1.1.0",
      "model_name": "LayoutModel",
      "state": {}
     },
     "ea6fe6a679bb4c3287fda2cda42224ed": {
      "model_module": "@jupyter-widgets/controls",
      "model_module_version": "1.4.0",
      "model_name": "IntSliderModel",
      "state": {
       "description": "A0",
       "layout": "IPY_MODEL_ac23e9cd5ad74097bd621df486cf345d",
       "max": 10,
       "style": "IPY_MODEL_e9ead7496190480497f31b8e63cb867d",
       "value": 5
      }
     },
     "eac379ca30544cf6bd735973a26634cc": {
      "model_module": "@jupyter-widgets/base",
      "model_module_version": "1.1.0",
      "model_name": "LayoutModel",
      "state": {}
     },
     "eb0a71b09cbb4a92a16a98f3eabdbb05": {
      "model_module": "@jupyter-widgets/controls",
      "model_module_version": "1.4.0",
      "model_name": "SliderStyleModel",
      "state": {
       "description_width": ""
      }
     },
     "eb621859189041caaa68ca3f4d6956ea": {
      "model_module": "@jupyter-widgets/base",
      "model_module_version": "1.1.0",
      "model_name": "LayoutModel",
      "state": {}
     },
     "ebbd0345020e4cc0b46413d7ee39bc44": {
      "model_module": "@jupyter-widgets/controls",
      "model_module_version": "1.4.0",
      "model_name": "IntSliderModel",
      "state": {
       "description": "B0",
       "layout": "IPY_MODEL_067efed9b63e41c088273a81a3da7010",
       "max": 10,
       "style": "IPY_MODEL_d95da67ece964ac3a65da3a1cc4352bf",
       "value": 5
      }
     },
     "ec704705d79d4540a24647421b418ed9": {
      "model_module": "@jupyter-widgets/base",
      "model_module_version": "1.1.0",
      "model_name": "LayoutModel",
      "state": {}
     },
     "ed4c6463fff04819b566ecea14c1439d": {
      "model_module": "@jupyter-widgets/controls",
      "model_module_version": "1.4.0",
      "model_name": "SliderStyleModel",
      "state": {
       "description_width": ""
      }
     },
     "ed7b19b5686d4ef8845020ec8377b8fa": {
      "model_module": "@jupyter-widgets/base",
      "model_module_version": "1.1.0",
      "model_name": "LayoutModel",
      "state": {}
     },
     "edd7d010d40048159500dacd0017074c": {
      "model_module": "@jupyter-widgets/controls",
      "model_module_version": "1.4.0",
      "model_name": "SliderStyleModel",
      "state": {
       "description_width": ""
      }
     },
     "edf0ca91904a4bec9ec974afe5359f53": {
      "model_module": "@jupyter-widgets/base",
      "model_module_version": "1.1.0",
      "model_name": "LayoutModel",
      "state": {}
     },
     "ef5b357dc94f4dda96e374584349c68a": {
      "model_module": "@jupyter-widgets/base",
      "model_module_version": "1.1.0",
      "model_name": "LayoutModel",
      "state": {}
     },
     "ef5b5123058e41209ea82be14799ab4a": {
      "model_module": "@jupyter-widgets/base",
      "model_module_version": "1.1.0",
      "model_name": "LayoutModel",
      "state": {}
     },
     "efd70211da1b4da88afb9979050ca809": {
      "model_module": "@jupyter-widgets/controls",
      "model_module_version": "1.4.0",
      "model_name": "VBoxModel",
      "state": {
       "_dom_classes": [
        "widget-interact"
       ],
       "children": [
        "IPY_MODEL_fb31dbca660f4dac9c2b1dc9f42952e6",
        "IPY_MODEL_3a2a87971e13425e8ae437840c178b1a",
        "IPY_MODEL_1da9d53b88b3416d81ef739f7753b22f",
        "IPY_MODEL_ff8fb6895241453c90b63b955f9045f8"
       ],
       "layout": "IPY_MODEL_95a4b2c77e8642488dbc13862473c08f"
      }
     },
     "efdc5b14a98d489d9958b2350f8c789e": {
      "model_module": "@jupyter-widgets/controls",
      "model_module_version": "1.4.0",
      "model_name": "SliderStyleModel",
      "state": {
       "description_width": ""
      }
     },
     "f02537e0176a47f98bb39059fd833e45": {
      "model_module": "@jupyter-widgets/base",
      "model_module_version": "1.1.0",
      "model_name": "LayoutModel",
      "state": {}
     },
     "f032f8b6e937480fa8ef207f95e30810": {
      "model_module": "@jupyter-widgets/controls",
      "model_module_version": "1.4.0",
      "model_name": "SliderStyleModel",
      "state": {
       "description_width": ""
      }
     },
     "f1828f55f4ea4257b47c301b5ad5e421": {
      "model_module": "@jupyter-widgets/controls",
      "model_module_version": "1.4.0",
      "model_name": "FloatSliderModel",
      "state": {
       "description": "k_1",
       "layout": "IPY_MODEL_3680d304f2ac4ce19f3ab77e32e060ab",
       "max": 10,
       "step": 0.1,
       "style": "IPY_MODEL_ad8175a7bb364675a03023b2a24b8870",
       "value": 0.7
      }
     },
     "f18988bfc7c849ceac05118a1a15ec77": {
      "model_module": "@jupyter-widgets/base",
      "model_module_version": "1.1.0",
      "model_name": "LayoutModel",
      "state": {}
     },
     "f2736825b3c2425492ad6eff0f71f529": {
      "model_module": "@jupyter-widgets/output",
      "model_module_version": "1.0.0",
      "model_name": "OutputModel",
      "state": {
       "layout": "IPY_MODEL_545c7528e964499b965b64c4fdd672b3",
       "outputs": [
        {
         "data": {
          "image/png": "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\n",
          "text/plain": "<matplotlib.figure.Figure at 0x1942f27d358>"
         },
         "metadata": {
          "needs_background": "light"
         },
         "output_type": "display_data"
        }
       ]
      }
     },
     "f3ed8cab46034387bbf01a6fab2bcff9": {
      "model_module": "@jupyter-widgets/controls",
      "model_module_version": "1.4.0",
      "model_name": "IntSliderModel",
      "state": {
       "description": "B0",
       "layout": "IPY_MODEL_356afece547b4a5fb6d8cf87c57dbb42",
       "max": 10,
       "style": "IPY_MODEL_690514915a5548c29e41843e9c66bf3a",
       "value": 3
      }
     },
     "f40ec66cc8d649edaf04656b53cdfaf4": {
      "model_module": "@jupyter-widgets/controls",
      "model_module_version": "1.4.0",
      "model_name": "SliderStyleModel",
      "state": {
       "description_width": ""
      }
     },
     "f42742d6e5a145f8ab3411cc4236a7e4": {
      "model_module": "@jupyter-widgets/base",
      "model_module_version": "1.1.0",
      "model_name": "LayoutModel",
      "state": {}
     },
     "f6cbd3bd9d83492dbf3f0b3c4632b1c2": {
      "model_module": "@jupyter-widgets/output",
      "model_module_version": "1.0.0",
      "model_name": "OutputModel",
      "state": {
       "layout": "IPY_MODEL_59497ef02a794ec2b2585be8af1f9449",
       "outputs": [
        {
         "data": {
          "image/png": "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\n",
          "text/plain": "<matplotlib.figure.Figure at 0x1942eef74e0>"
         },
         "metadata": {
          "needs_background": "light"
         },
         "output_type": "display_data"
        }
       ]
      }
     },
     "f6fcd8861d414edca9904b8f9dd11dc6": {
      "model_module": "@jupyter-widgets/controls",
      "model_module_version": "1.4.0",
      "model_name": "SliderStyleModel",
      "state": {
       "description_width": ""
      }
     },
     "f71105b190da4a2097dbfdab8986171a": {
      "model_module": "@jupyter-widgets/base",
      "model_module_version": "1.1.0",
      "model_name": "LayoutModel",
      "state": {}
     },
     "f73a4eb9928e4928bbe15f6e395abcd9": {
      "model_module": "@jupyter-widgets/base",
      "model_module_version": "1.1.0",
      "model_name": "LayoutModel",
      "state": {}
     },
     "f766ad31091b46ae8244f0237563178d": {
      "model_module": "@jupyter-widgets/controls",
      "model_module_version": "1.4.0",
      "model_name": "SliderStyleModel",
      "state": {
       "description_width": ""
      }
     },
     "f85c38e6c43141d8a81b8286be7a76b0": {
      "model_module": "@jupyter-widgets/controls",
      "model_module_version": "1.4.0",
      "model_name": "IntSliderModel",
      "state": {
       "description": "A0",
       "layout": "IPY_MODEL_a263f8c556ac4053aec39e59be8c9cd2",
       "max": 10,
       "style": "IPY_MODEL_36df3a9462004734924e24f7699f62b4",
       "value": 8
      }
     },
     "f8bd4640021f4ee188ab6e85fedcd002": {
      "model_module": "@jupyter-widgets/controls",
      "model_module_version": "1.4.0",
      "model_name": "IntSliderModel",
      "state": {
       "description": "A0",
       "layout": "IPY_MODEL_5beffccff40140ddbb093eb33e80c901",
       "max": 10,
       "style": "IPY_MODEL_550ddaa397f742b08e0c3ae8e6bf1676",
       "value": 5
      }
     },
     "f996c3796e094b5882497249a95fbd86": {
      "model_module": "@jupyter-widgets/controls",
      "model_module_version": "1.4.0",
      "model_name": "VBoxModel",
      "state": {
       "_dom_classes": [
        "widget-interact"
       ],
       "children": [
        "IPY_MODEL_4879a97b8d1d46d0bcd5ea08e3ef78d0",
        "IPY_MODEL_327552aa92e34291aee209c594dc9a38",
        "IPY_MODEL_8bddac42e76741a1b9e31ac937bc3da7",
        "IPY_MODEL_a693c377b70c448bb73580acc667c98a"
       ],
       "layout": "IPY_MODEL_98a3130990e94f2d8dc7e75620b29a62"
      }
     },
     "f9e98320cb814f4b9c5a62630b35b6a2": {
      "model_module": "@jupyter-widgets/controls",
      "model_module_version": "1.4.0",
      "model_name": "IntSliderModel",
      "state": {
       "description": "B0",
       "layout": "IPY_MODEL_6500db46d1d24c27b46c96760a85372c",
       "max": 10,
       "style": "IPY_MODEL_78a145ff2d5546f29b0f1dc653e37fa9",
       "value": 2
      }
     },
     "fa58d98d4b594ddc835730a8cf6c9dc0": {
      "model_module": "@jupyter-widgets/base",
      "model_module_version": "1.1.0",
      "model_name": "LayoutModel",
      "state": {}
     },
     "fb31dbca660f4dac9c2b1dc9f42952e6": {
      "model_module": "@jupyter-widgets/controls",
      "model_module_version": "1.4.0",
      "model_name": "IntSliderModel",
      "state": {
       "description": "A0",
       "layout": "IPY_MODEL_85f163b248fa40d5a36ebf4e492b174d",
       "max": 10,
       "style": "IPY_MODEL_4f686e6341194fdab15f61cec2932f3b",
       "value": 5
      }
     },
     "fc0d6fb24a22406880d884791efe0fb7": {
      "model_module": "@jupyter-widgets/base",
      "model_module_version": "1.1.0",
      "model_name": "LayoutModel",
      "state": {}
     },
     "fc1e5293104941c5bc473fe3d93bbf5e": {
      "model_module": "@jupyter-widgets/output",
      "model_module_version": "1.0.0",
      "model_name": "OutputModel",
      "state": {
       "layout": "IPY_MODEL_e4a078e7f8dc4f97b37ad85b428e6c01",
       "outputs": [
        {
         "data": {
          "image/png": "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\n",
          "text/plain": "<matplotlib.figure.Figure at 0x1942d094978>"
         },
         "metadata": {
          "needs_background": "light"
         },
         "output_type": "display_data"
        }
       ]
      }
     },
     "fcfe635f8e9f4df0a605f91489bfbb88": {
      "model_module": "@jupyter-widgets/controls",
      "model_module_version": "1.4.0",
      "model_name": "SliderStyleModel",
      "state": {
       "description_width": ""
      }
     },
     "fd2aa57af02143b79c83f4d640fb076c": {
      "model_module": "@jupyter-widgets/controls",
      "model_module_version": "1.4.0",
      "model_name": "FloatSliderModel",
      "state": {
       "description": "k_1",
       "layout": "IPY_MODEL_dd22c00a5aa84101b37fed9f82fbfd05",
       "max": 10,
       "step": 0.1,
       "style": "IPY_MODEL_8d5739c1c06d49ad90611443d84bde5b",
       "value": 4
      }
     },
     "fd391b2f85b8460dbd9d18d574d5313e": {
      "model_module": "@jupyter-widgets/base",
      "model_module_version": "1.1.0",
      "model_name": "LayoutModel",
      "state": {}
     },
     "fdcc4fa78dec48f1b7cf96879df0867c": {
      "model_module": "@jupyter-widgets/base",
      "model_module_version": "1.1.0",
      "model_name": "LayoutModel",
      "state": {}
     },
     "fe3cd55dbc7e4c1eab5bce79d10cf8c7": {
      "model_module": "@jupyter-widgets/base",
      "model_module_version": "1.1.0",
      "model_name": "LayoutModel",
      "state": {}
     },
     "ff8fb6895241453c90b63b955f9045f8": {
      "model_module": "@jupyter-widgets/output",
      "model_module_version": "1.0.0",
      "model_name": "OutputModel",
      "state": {
       "layout": "IPY_MODEL_f71105b190da4a2097dbfdab8986171a",
       "outputs": [
        {
         "data": {
          "image/png": "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\n",
          "text/plain": "<matplotlib.figure.Figure at 0x1942c8cf320>"
         },
         "metadata": {
          "needs_background": "light"
         },
         "output_type": "display_data"
        }
       ]
      }
     }
    },
    "version_major": 2,
    "version_minor": 0
   }
  }
 },
 "nbformat": 4,
 "nbformat_minor": 2
}
